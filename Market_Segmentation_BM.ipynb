{
 "cells": [
  {
   "cell_type": "markdown",
   "metadata": {},
   "source": [
    "### Import Libraries"
   ]
  },
  {
   "cell_type": "code",
   "execution_count": 47,
   "metadata": {},
   "outputs": [],
   "source": [
    "import pandas as pd\n",
    "import numpy as np\n",
    "\n",
    "from sklearn.preprocessing import StandardScaler\n",
    "from sklearn.decomposition import PCA\n",
    "from sklearn.datasets import make_blobs\n",
    "from sklearn.datasets import make_moons\n",
    "from sklearn.cluster import KMeans\n",
    "from sklearn.cluster import AgglomerativeClustering\n",
    "from sklearn.neighbors import KernelDensity\n",
    "from sklearn.metrics.cluster import calinski_harabasz_score, adjusted_rand_score\n",
    "\n",
    "import matplotlib.pyplot as plt\n",
    "\n",
    "np.random.seed(0)\n",
    "%matplotlib inline  "
   ]
  },
  {
   "cell_type": "markdown",
   "metadata": {},
   "source": [
    "#### Market Data"
   ]
  },
  {
   "cell_type": "code",
   "execution_count": 48,
   "metadata": {},
   "outputs": [
    {
     "data": {
      "text/html": [
       "<div>\n",
       "<style scoped>\n",
       "    .dataframe tbody tr th:only-of-type {\n",
       "        vertical-align: middle;\n",
       "    }\n",
       "\n",
       "    .dataframe tbody tr th {\n",
       "        vertical-align: top;\n",
       "    }\n",
       "\n",
       "    .dataframe thead th {\n",
       "        text-align: right;\n",
       "    }\n",
       "</style>\n",
       "<table border=\"1\" class=\"dataframe\">\n",
       "  <thead>\n",
       "    <tr style=\"text-align: right;\">\n",
       "      <th></th>\n",
       "      <th>Unnamed: 0</th>\n",
       "      <th>DMA_Code</th>\n",
       "      <th>MEDIA</th>\n",
       "      <th>INDUSTRY</th>\n",
       "      <th>Audience Population</th>\n",
       "      <th>BRAND</th>\n",
       "      <th>Company</th>\n",
       "      <th>IsTop31</th>\n",
       "      <th>Spend_K</th>\n",
       "      <th>Division_Name</th>\n",
       "    </tr>\n",
       "  </thead>\n",
       "  <tbody>\n",
       "    <tr>\n",
       "      <td>0</td>\n",
       "      <td>0</td>\n",
       "      <td>500</td>\n",
       "      <td>Int Display</td>\n",
       "      <td>Audio &amp; Video Equipment &amp; Supplies</td>\n",
       "      <td>892300</td>\n",
       "      <td>19.0</td>\n",
       "      <td>19.0</td>\n",
       "      <td>0</td>\n",
       "      <td>0.0</td>\n",
       "      <td>Northeast</td>\n",
       "    </tr>\n",
       "    <tr>\n",
       "      <td>1</td>\n",
       "      <td>1</td>\n",
       "      <td>500</td>\n",
       "      <td>Int Display</td>\n",
       "      <td>Building Materials, Equipment &amp; Fixtures</td>\n",
       "      <td>892300</td>\n",
       "      <td>3.0</td>\n",
       "      <td>3.0</td>\n",
       "      <td>0</td>\n",
       "      <td>0.0</td>\n",
       "      <td>Northeast</td>\n",
       "    </tr>\n",
       "    <tr>\n",
       "      <td>2</td>\n",
       "      <td>2</td>\n",
       "      <td>500</td>\n",
       "      <td>Int Display</td>\n",
       "      <td>Business &amp; Technology NEC</td>\n",
       "      <td>892300</td>\n",
       "      <td>23.0</td>\n",
       "      <td>23.0</td>\n",
       "      <td>0</td>\n",
       "      <td>1.1</td>\n",
       "      <td>Northeast</td>\n",
       "    </tr>\n",
       "    <tr>\n",
       "      <td>3</td>\n",
       "      <td>3</td>\n",
       "      <td>500</td>\n",
       "      <td>Int Display</td>\n",
       "      <td>Communications</td>\n",
       "      <td>892300</td>\n",
       "      <td>21.0</td>\n",
       "      <td>21.0</td>\n",
       "      <td>0</td>\n",
       "      <td>0.0</td>\n",
       "      <td>Northeast</td>\n",
       "    </tr>\n",
       "    <tr>\n",
       "      <td>4</td>\n",
       "      <td>4</td>\n",
       "      <td>500</td>\n",
       "      <td>Int Display</td>\n",
       "      <td>Computers, Software, Internet NEC</td>\n",
       "      <td>892300</td>\n",
       "      <td>207.0</td>\n",
       "      <td>207.0</td>\n",
       "      <td>0</td>\n",
       "      <td>3.9</td>\n",
       "      <td>Northeast</td>\n",
       "    </tr>\n",
       "  </tbody>\n",
       "</table>\n",
       "</div>"
      ],
      "text/plain": [
       "   Unnamed: 0  DMA_Code        MEDIA  \\\n",
       "0           0       500  Int Display   \n",
       "1           1       500  Int Display   \n",
       "2           2       500  Int Display   \n",
       "3           3       500  Int Display   \n",
       "4           4       500  Int Display   \n",
       "\n",
       "                                   INDUSTRY  Audience Population  BRAND  \\\n",
       "0        Audio & Video Equipment & Supplies               892300   19.0   \n",
       "1  Building Materials, Equipment & Fixtures               892300    3.0   \n",
       "2                 Business & Technology NEC               892300   23.0   \n",
       "3                            Communications               892300   21.0   \n",
       "4         Computers, Software, Internet NEC               892300  207.0   \n",
       "\n",
       "   Company  IsTop31  Spend_K Division_Name  \n",
       "0     19.0        0      0.0     Northeast  \n",
       "1      3.0        0      0.0     Northeast  \n",
       "2     23.0        0      1.1     Northeast  \n",
       "3     21.0        0      0.0     Northeast  \n",
       "4    207.0        0      3.9     Northeast  "
      ]
     },
     "execution_count": 48,
     "metadata": {},
     "output_type": "execute_result"
    }
   ],
   "source": [
    "market = pd.read_csv(\"Market_Segmentation.csv\")\n",
    "market.head()"
   ]
  },
  {
   "cell_type": "code",
   "execution_count": 132,
   "metadata": {},
   "outputs": [],
   "source": [
    "region = pd.read_csv('DMA_region.csv')"
   ]
  },
  {
   "cell_type": "code",
   "execution_count": 51,
   "metadata": {},
   "outputs": [
    {
     "name": "stdout",
     "output_type": "stream",
     "text": [
      "<class 'pandas.core.frame.DataFrame'>\n",
      "RangeIndex: 7308 entries, 0 to 7307\n",
      "Data columns (total 9 columns):\n",
      "DMA_Code               7308 non-null int64\n",
      "MEDIA                  7308 non-null object\n",
      "INDUSTRY               7308 non-null object\n",
      "Audience Population    7308 non-null int64\n",
      "BRAND                  7308 non-null float64\n",
      "Company                7308 non-null float64\n",
      "IsTop31                7308 non-null int64\n",
      "Spend_K                7308 non-null float64\n",
      "Division_Name          7308 non-null object\n",
      "dtypes: float64(3), int64(3), object(3)\n",
      "memory usage: 514.0+ KB\n"
     ]
    }
   ],
   "source": [
    "market.info()"
   ]
  },
  {
   "cell_type": "code",
   "execution_count": 50,
   "metadata": {},
   "outputs": [],
   "source": [
    "market = market.drop(['Unnamed: 0'], axis=1)"
   ]
  },
  {
   "cell_type": "markdown",
   "metadata": {},
   "source": [
    "#### Data Dictionary\n",
    "\n",
    "- MARKET: Designated Market Area (DMA) is a region where the population can receive the same television and radio station offerings, and may also include other types of media including newspapers and Internet content\n",
    "- MEDIA: 10 Common Media Types including TV, Radio, Outdoor, Digital, etc.\n",
    "- Audience Population: Population of TV/Radio Audience with age 12+\n",
    "- Company/bRAND: Number of Companies/brands that advertise in this market\n",
    "- IsTop31: A subjective category made from Telecom industry on Market Importance. 0 means is not Top 31 market, 1 means Top 31 market\n",
    "- Spend_K: Media Spend in Thousands Dollars(000)"
   ]
  },
  {
   "cell_type": "markdown",
   "metadata": {},
   "source": [
    "### Create Segments with KMeans Clustering as base model"
   ]
  },
  {
   "cell_type": "code",
   "execution_count": 52,
   "metadata": {},
   "outputs": [
    {
     "name": "stdout",
     "output_type": "stream",
     "text": [
      "<class 'pandas.core.frame.DataFrame'>\n",
      "RangeIndex: 7308 entries, 0 to 7307\n",
      "Data columns (total 9 columns):\n",
      "DMA_Code               7308 non-null int64\n",
      "MEDIA                  7308 non-null object\n",
      "INDUSTRY               7308 non-null object\n",
      "Audience Population    7308 non-null int64\n",
      "BRAND                  7308 non-null float64\n",
      "Company                7308 non-null float64\n",
      "IsTop31                7308 non-null int64\n",
      "Spend_K                7308 non-null float64\n",
      "Division_Name          7308 non-null object\n",
      "dtypes: float64(3), int64(3), object(3)\n",
      "memory usage: 514.0+ KB\n"
     ]
    }
   ],
   "source": [
    "market.info()"
   ]
  },
  {
   "cell_type": "markdown",
   "metadata": {},
   "source": [
    "#### Transform Categorical Value"
   ]
  },
  {
   "cell_type": "code",
   "execution_count": 54,
   "metadata": {},
   "outputs": [],
   "source": [
    "#Label Encode MARKETS\n",
    "\n",
    "market['DMA_Code']=market['DMA_Code'].astype('category')"
   ]
  },
  {
   "cell_type": "code",
   "execution_count": 60,
   "metadata": {},
   "outputs": [],
   "source": [
    "#One Hot Encoding for Media and Industry\n",
    "\n",
    "from sklearn.preprocessing import LabelBinarizer\n",
    "\n",
    "def labelcoder(data, column):\n",
    "    onehot = data.copy()\n",
    "    lb=LabelBinarizer()\n",
    "    lb_results = lb.fit_transform(onehot[column])\n",
    "    lb_results_df = pd.DataFrame(lb_results, columns=lb.classes_)\n",
    "    return lb_results_df\n"
   ]
  },
  {
   "cell_type": "code",
   "execution_count": 63,
   "metadata": {},
   "outputs": [],
   "source": [
    "media_features = labelcoder(market, 'MEDIA')\n",
    "industry_features = labelcoder(market, 'INDUSTRY')\n",
    "division_features = labelcoder(market, 'Division_Name')"
   ]
  },
  {
   "cell_type": "markdown",
   "metadata": {},
   "source": [
    "#### Standardize Numerical Features"
   ]
  },
  {
   "cell_type": "code",
   "execution_count": 72,
   "metadata": {},
   "outputs": [],
   "source": [
    "num_features = market[['Audience Population','BRAND','Company','IsTop31','Spend_K']]\n",
    "\n",
    "from sklearn.preprocessing import MinMaxScaler\n",
    "#Scale the numerical features\n",
    "scaler = MinMaxScaler()\n",
    "scaled = scaler.fit_transform(num_features)\n",
    "scaled_features = pd.DataFrame(scaled, columns = num_features.columns)"
   ]
  },
  {
   "cell_type": "code",
   "execution_count": 73,
   "metadata": {},
   "outputs": [
    {
     "data": {
      "text/html": [
       "<div>\n",
       "<style scoped>\n",
       "    .dataframe tbody tr th:only-of-type {\n",
       "        vertical-align: middle;\n",
       "    }\n",
       "\n",
       "    .dataframe tbody tr th {\n",
       "        vertical-align: top;\n",
       "    }\n",
       "\n",
       "    .dataframe thead th {\n",
       "        text-align: right;\n",
       "    }\n",
       "</style>\n",
       "<table border=\"1\" class=\"dataframe\">\n",
       "  <thead>\n",
       "    <tr style=\"text-align: right;\">\n",
       "      <th></th>\n",
       "      <th>Audience Population</th>\n",
       "      <th>BRAND</th>\n",
       "      <th>Company</th>\n",
       "      <th>IsTop31</th>\n",
       "      <th>Spend_K</th>\n",
       "    </tr>\n",
       "  </thead>\n",
       "  <tbody>\n",
       "    <tr>\n",
       "      <td>0</td>\n",
       "      <td>0.048362</td>\n",
       "      <td>0.041096</td>\n",
       "      <td>0.041096</td>\n",
       "      <td>0.0</td>\n",
       "      <td>0.000000</td>\n",
       "    </tr>\n",
       "    <tr>\n",
       "      <td>1</td>\n",
       "      <td>0.048362</td>\n",
       "      <td>0.004566</td>\n",
       "      <td>0.004566</td>\n",
       "      <td>0.0</td>\n",
       "      <td>0.000000</td>\n",
       "    </tr>\n",
       "    <tr>\n",
       "      <td>2</td>\n",
       "      <td>0.048362</td>\n",
       "      <td>0.050228</td>\n",
       "      <td>0.050228</td>\n",
       "      <td>0.0</td>\n",
       "      <td>0.000018</td>\n",
       "    </tr>\n",
       "    <tr>\n",
       "      <td>3</td>\n",
       "      <td>0.048362</td>\n",
       "      <td>0.045662</td>\n",
       "      <td>0.045662</td>\n",
       "      <td>0.0</td>\n",
       "      <td>0.000000</td>\n",
       "    </tr>\n",
       "    <tr>\n",
       "      <td>4</td>\n",
       "      <td>0.048362</td>\n",
       "      <td>0.470320</td>\n",
       "      <td>0.470320</td>\n",
       "      <td>0.0</td>\n",
       "      <td>0.000063</td>\n",
       "    </tr>\n",
       "    <tr>\n",
       "      <td>...</td>\n",
       "      <td>...</td>\n",
       "      <td>...</td>\n",
       "      <td>...</td>\n",
       "      <td>...</td>\n",
       "      <td>...</td>\n",
       "    </tr>\n",
       "    <tr>\n",
       "      <td>7303</td>\n",
       "      <td>0.057031</td>\n",
       "      <td>0.004566</td>\n",
       "      <td>0.004566</td>\n",
       "      <td>0.0</td>\n",
       "      <td>0.000005</td>\n",
       "    </tr>\n",
       "    <tr>\n",
       "      <td>7304</td>\n",
       "      <td>0.057031</td>\n",
       "      <td>0.070776</td>\n",
       "      <td>0.070776</td>\n",
       "      <td>0.0</td>\n",
       "      <td>0.000471</td>\n",
       "    </tr>\n",
       "    <tr>\n",
       "      <td>7305</td>\n",
       "      <td>0.057031</td>\n",
       "      <td>0.004566</td>\n",
       "      <td>0.004566</td>\n",
       "      <td>0.0</td>\n",
       "      <td>0.000042</td>\n",
       "    </tr>\n",
       "    <tr>\n",
       "      <td>7306</td>\n",
       "      <td>0.057031</td>\n",
       "      <td>0.015982</td>\n",
       "      <td>0.015982</td>\n",
       "      <td>0.0</td>\n",
       "      <td>0.000071</td>\n",
       "    </tr>\n",
       "    <tr>\n",
       "      <td>7307</td>\n",
       "      <td>0.057031</td>\n",
       "      <td>0.045662</td>\n",
       "      <td>0.045662</td>\n",
       "      <td>0.0</td>\n",
       "      <td>0.000060</td>\n",
       "    </tr>\n",
       "  </tbody>\n",
       "</table>\n",
       "<p>7308 rows × 5 columns</p>\n",
       "</div>"
      ],
      "text/plain": [
       "      Audience Population     BRAND   Company  IsTop31   Spend_K\n",
       "0                0.048362  0.041096  0.041096      0.0  0.000000\n",
       "1                0.048362  0.004566  0.004566      0.0  0.000000\n",
       "2                0.048362  0.050228  0.050228      0.0  0.000018\n",
       "3                0.048362  0.045662  0.045662      0.0  0.000000\n",
       "4                0.048362  0.470320  0.470320      0.0  0.000063\n",
       "...                   ...       ...       ...      ...       ...\n",
       "7303             0.057031  0.004566  0.004566      0.0  0.000005\n",
       "7304             0.057031  0.070776  0.070776      0.0  0.000471\n",
       "7305             0.057031  0.004566  0.004566      0.0  0.000042\n",
       "7306             0.057031  0.015982  0.015982      0.0  0.000071\n",
       "7307             0.057031  0.045662  0.045662      0.0  0.000060\n",
       "\n",
       "[7308 rows x 5 columns]"
      ]
     },
     "execution_count": 73,
     "metadata": {},
     "output_type": "execute_result"
    }
   ],
   "source": [
    "scaled_features"
   ]
  },
  {
   "cell_type": "code",
   "execution_count": 115,
   "metadata": {},
   "outputs": [
    {
     "data": {
      "text/html": [
       "<div>\n",
       "<style scoped>\n",
       "    .dataframe tbody tr th:only-of-type {\n",
       "        vertical-align: middle;\n",
       "    }\n",
       "\n",
       "    .dataframe tbody tr th {\n",
       "        vertical-align: top;\n",
       "    }\n",
       "\n",
       "    .dataframe thead th {\n",
       "        text-align: right;\n",
       "    }\n",
       "</style>\n",
       "<table border=\"1\" class=\"dataframe\">\n",
       "  <thead>\n",
       "    <tr style=\"text-align: right;\">\n",
       "      <th></th>\n",
       "      <th>DMA_Code</th>\n",
       "      <th>Audience Population</th>\n",
       "      <th>BRAND</th>\n",
       "      <th>Company</th>\n",
       "      <th>IsTop31</th>\n",
       "      <th>Spend_K</th>\n",
       "      <th>Hispanic Newsp</th>\n",
       "      <th>Int Display</th>\n",
       "      <th>Local Mags</th>\n",
       "      <th>Local Radio</th>\n",
       "      <th>...</th>\n",
       "      <th>Manufactrg: Mtrls&amp;Equip/Freight/Ind Dev</th>\n",
       "      <th>Media &amp; Advertising</th>\n",
       "      <th>Misc Merchandise</th>\n",
       "      <th>Misc Services &amp; Amusements</th>\n",
       "      <th>Public Transportation, Hotels &amp; Resorts</th>\n",
       "      <th>Retail</th>\n",
       "      <th>Schools, Camps, Seminars</th>\n",
       "      <th>Central</th>\n",
       "      <th>Northeast</th>\n",
       "      <th>West</th>\n",
       "    </tr>\n",
       "  </thead>\n",
       "  <tbody>\n",
       "    <tr>\n",
       "      <td>0</td>\n",
       "      <td>500</td>\n",
       "      <td>0.048362</td>\n",
       "      <td>0.041096</td>\n",
       "      <td>0.041096</td>\n",
       "      <td>0.0</td>\n",
       "      <td>0.000000</td>\n",
       "      <td>0</td>\n",
       "      <td>1</td>\n",
       "      <td>0</td>\n",
       "      <td>0</td>\n",
       "      <td>...</td>\n",
       "      <td>0</td>\n",
       "      <td>0</td>\n",
       "      <td>0</td>\n",
       "      <td>0</td>\n",
       "      <td>0</td>\n",
       "      <td>0</td>\n",
       "      <td>0</td>\n",
       "      <td>0</td>\n",
       "      <td>1</td>\n",
       "      <td>0</td>\n",
       "    </tr>\n",
       "    <tr>\n",
       "      <td>1</td>\n",
       "      <td>500</td>\n",
       "      <td>0.048362</td>\n",
       "      <td>0.004566</td>\n",
       "      <td>0.004566</td>\n",
       "      <td>0.0</td>\n",
       "      <td>0.000000</td>\n",
       "      <td>0</td>\n",
       "      <td>1</td>\n",
       "      <td>0</td>\n",
       "      <td>0</td>\n",
       "      <td>...</td>\n",
       "      <td>0</td>\n",
       "      <td>0</td>\n",
       "      <td>0</td>\n",
       "      <td>0</td>\n",
       "      <td>0</td>\n",
       "      <td>0</td>\n",
       "      <td>0</td>\n",
       "      <td>0</td>\n",
       "      <td>1</td>\n",
       "      <td>0</td>\n",
       "    </tr>\n",
       "    <tr>\n",
       "      <td>2</td>\n",
       "      <td>500</td>\n",
       "      <td>0.048362</td>\n",
       "      <td>0.050228</td>\n",
       "      <td>0.050228</td>\n",
       "      <td>0.0</td>\n",
       "      <td>0.000018</td>\n",
       "      <td>0</td>\n",
       "      <td>1</td>\n",
       "      <td>0</td>\n",
       "      <td>0</td>\n",
       "      <td>...</td>\n",
       "      <td>0</td>\n",
       "      <td>0</td>\n",
       "      <td>0</td>\n",
       "      <td>0</td>\n",
       "      <td>0</td>\n",
       "      <td>0</td>\n",
       "      <td>0</td>\n",
       "      <td>0</td>\n",
       "      <td>1</td>\n",
       "      <td>0</td>\n",
       "    </tr>\n",
       "    <tr>\n",
       "      <td>3</td>\n",
       "      <td>500</td>\n",
       "      <td>0.048362</td>\n",
       "      <td>0.045662</td>\n",
       "      <td>0.045662</td>\n",
       "      <td>0.0</td>\n",
       "      <td>0.000000</td>\n",
       "      <td>0</td>\n",
       "      <td>1</td>\n",
       "      <td>0</td>\n",
       "      <td>0</td>\n",
       "      <td>...</td>\n",
       "      <td>0</td>\n",
       "      <td>0</td>\n",
       "      <td>0</td>\n",
       "      <td>0</td>\n",
       "      <td>0</td>\n",
       "      <td>0</td>\n",
       "      <td>0</td>\n",
       "      <td>0</td>\n",
       "      <td>1</td>\n",
       "      <td>0</td>\n",
       "    </tr>\n",
       "    <tr>\n",
       "      <td>4</td>\n",
       "      <td>500</td>\n",
       "      <td>0.048362</td>\n",
       "      <td>0.470320</td>\n",
       "      <td>0.470320</td>\n",
       "      <td>0.0</td>\n",
       "      <td>0.000063</td>\n",
       "      <td>0</td>\n",
       "      <td>1</td>\n",
       "      <td>0</td>\n",
       "      <td>0</td>\n",
       "      <td>...</td>\n",
       "      <td>0</td>\n",
       "      <td>0</td>\n",
       "      <td>0</td>\n",
       "      <td>0</td>\n",
       "      <td>0</td>\n",
       "      <td>0</td>\n",
       "      <td>0</td>\n",
       "      <td>0</td>\n",
       "      <td>1</td>\n",
       "      <td>0</td>\n",
       "    </tr>\n",
       "  </tbody>\n",
       "</table>\n",
       "<p>5 rows × 39 columns</p>\n",
       "</div>"
      ],
      "text/plain": [
       "  DMA_Code  Audience Population     BRAND   Company  IsTop31   Spend_K  \\\n",
       "0      500             0.048362  0.041096  0.041096      0.0  0.000000   \n",
       "1      500             0.048362  0.004566  0.004566      0.0  0.000000   \n",
       "2      500             0.048362  0.050228  0.050228      0.0  0.000018   \n",
       "3      500             0.048362  0.045662  0.045662      0.0  0.000000   \n",
       "4      500             0.048362  0.470320  0.470320      0.0  0.000063   \n",
       "\n",
       "   Hispanic Newsp  Int Display  Local Mags  Local Radio  ...  \\\n",
       "0               0            1           0            0  ...   \n",
       "1               0            1           0            0  ...   \n",
       "2               0            1           0            0  ...   \n",
       "3               0            1           0            0  ...   \n",
       "4               0            1           0            0  ...   \n",
       "\n",
       "   Manufactrg: Mtrls&Equip/Freight/Ind Dev  Media & Advertising  \\\n",
       "0                                        0                    0   \n",
       "1                                        0                    0   \n",
       "2                                        0                    0   \n",
       "3                                        0                    0   \n",
       "4                                        0                    0   \n",
       "\n",
       "   Misc Merchandise  Misc Services & Amusements  \\\n",
       "0                 0                           0   \n",
       "1                 0                           0   \n",
       "2                 0                           0   \n",
       "3                 0                           0   \n",
       "4                 0                           0   \n",
       "\n",
       "   Public Transportation, Hotels & Resorts  Retail  Schools, Camps, Seminars  \\\n",
       "0                                        0       0                         0   \n",
       "1                                        0       0                         0   \n",
       "2                                        0       0                         0   \n",
       "3                                        0       0                         0   \n",
       "4                                        0       0                         0   \n",
       "\n",
       "   Central  Northeast  West  \n",
       "0        0          1     0  \n",
       "1        0          1     0  \n",
       "2        0          1     0  \n",
       "3        0          1     0  \n",
       "4        0          1     0  \n",
       "\n",
       "[5 rows x 39 columns]"
      ]
     },
     "execution_count": 115,
     "metadata": {},
     "output_type": "execute_result"
    }
   ],
   "source": [
    "market_df = pd.concat([market['DMA_Code'],scaled_features, media_features, industry_features, division_features], axis=1)\n",
    "\n",
    "market_df.head()"
   ]
  },
  {
   "cell_type": "markdown",
   "metadata": {},
   "source": [
    "#### Set up base model"
   ]
  },
  {
   "cell_type": "code",
   "execution_count": 116,
   "metadata": {},
   "outputs": [],
   "source": [
    "from sklearn.cluster import KMeans\n",
    "k_means = KMeans(n_clusters=3, random_state=0).fit(market_df)\n",
    "cluster_preds = k_means.predict(market_df)"
   ]
  },
  {
   "cell_type": "code",
   "execution_count": 117,
   "metadata": {
    "scrolled": true
   },
   "outputs": [],
   "source": [
    "from sklearn.metrics.cluster import calinski_harabasz_score as ch_score"
   ]
  },
  {
   "cell_type": "code",
   "execution_count": 118,
   "metadata": {},
   "outputs": [
    {
     "data": {
      "text/plain": [
       "39451.77110587817"
      ]
     },
     "execution_count": 118,
     "metadata": {},
     "output_type": "execute_result"
    }
   ],
   "source": [
    "ch_score(market_df, cluster_preds)"
   ]
  },
  {
   "cell_type": "markdown",
   "metadata": {},
   "source": [
    "#### Find the best K using Elbow Method\n",
    "\n",
    "For each k value, initialise k-means and use the inertia attribute to identify the sum of squared distances of samples to the nearest cluster centre."
   ]
  },
  {
   "cell_type": "code",
   "execution_count": 124,
   "metadata": {},
   "outputs": [],
   "source": [
    "sum_of_squared_distances = []\n",
    "\n",
    "K = range(1,20)\n",
    "for k in K:\n",
    "    km = KMeans(n_clusters=k)\n",
    "    km = km.fit(market_df)\n",
    "    sum_of_squared_distances.append(km.inertia_)\n",
    "       "
   ]
  },
  {
   "cell_type": "code",
   "execution_count": 125,
   "metadata": {},
   "outputs": [
    {
     "data": {
      "image/png": "[encoded data removed]",
      "text/plain": [
       "<Figure size 432x288 with 1 Axes>"
      ]
     },
     "metadata": {
      "needs_background": "light"
     },
     "output_type": "display_data"
    }
   ],
   "source": [
    "plt.plot(K, sum_of_squared_distances, 'bx-')\n",
    "plt.xlabel('k')\n",
    "plt.ylabel('Sum of Squared Distances to the Nearest Cluster')\n",
    "plt.title('Elbow Method For Optimal k')\n",
    "plt.show()"
   ]
  },
  {
   "cell_type": "markdown",
   "metadata": {},
   "source": [
    "The plot above the elbow looks like 3. Let's check performance of k=3,4, and 5"
   ]
  },
  {
   "cell_type": "code",
   "execution_count": 126,
   "metadata": {},
   "outputs": [
    {
     "name": "stdout",
     "output_type": "stream",
     "text": [
      "The Calinski-Harabaz Index is 39451.77110587817 for 3 Clusters\n",
      "The Calinski-Harabaz Index is 44341.54558171689 for 4 Clusters\n",
      "The Calinski-Harabaz Index is 50355.531088973934 for 5 Clusters\n",
      "The Calinski-Harabaz Index is 63104.52247230229 for 6 Clusters\n",
      "The Calinski-Harabaz Index is 69742.19909435399 for 7 Clusters\n",
      "The Calinski-Harabaz Index is 78666.67563205572 for 8 Clusters\n",
      "The Calinski-Harabaz Index is 96077.11145748479 for 9 Clusters\n",
      "The Calinski-Harabaz Index is 108510.13094498207 for 10 Clusters\n",
      "The Calinski-Harabaz Index is 114014.76246286306 for 11 Clusters\n",
      "The Calinski-Harabaz Index is 121534.44341514491 for 12 Clusters\n",
      "The Calinski-Harabaz Index is 130835.34205336726 for 13 Clusters\n",
      "The Calinski-Harabaz Index is 139907.72720955918 for 14 Clusters\n",
      "The Calinski-Harabaz Index is 148468.28038260582 for 15 Clusters\n",
      "The Calinski-Harabaz Index is 155224.50638401584 for 16 Clusters\n",
      "The Calinski-Harabaz Index is 164239.97660292024 for 17 Clusters\n",
      "The Calinski-Harabaz Index is 179780.88470317007 for 18 Clusters\n",
      "The Calinski-Harabaz Index is 183739.75656208844 for 19 Clusters\n"
     ]
    }
   ],
   "source": [
    "#CH Score can be used when true labels are not available\n",
    "K = range(3,20)\n",
    "for k in K:\n",
    "    \n",
    "    km = KMeans(n_clusters=k)\n",
    "    km = km.fit(market_df)\n",
    "    km_preds = km.predict(market_df)\n",
    "    CH_score = ch_score(market_df, km_preds)\n",
    "    print(\"The Calinski-Harabaz Index is \" + str(CH_score) + \" for \" + str(k) +\" Clusters\")"
   ]
  },
  {
   "cell_type": "markdown",
   "metadata": {},
   "source": [
    "A higher CH score means that the model has better defined clusters. However, it seems the larger the k is, the higher CH score is. Let's try other methods."
   ]
  },
  {
   "cell_type": "markdown",
   "metadata": {},
   "source": [
    "Question: should i use CH score to determine K? "
   ]
  },
  {
   "cell_type": "code",
   "execution_count": 127,
   "metadata": {},
   "outputs": [
    {
     "data": {
      "text/plain": [
       "<bound method BaseEstimator.get_params of KMeans(algorithm='auto', copy_x=True, init='k-means++', max_iter=300,\n",
       "       n_clusters=3, n_init=10, n_jobs=None, precompute_distances='auto',\n",
       "       random_state=0, tol=0.0001, verbose=0)>"
      ]
     },
     "execution_count": 127,
     "metadata": {},
     "output_type": "execute_result"
    }
   ],
   "source": [
    "from sklearn.cluster import KMeans\n",
    "k_means = KMeans(n_clusters=3, random_state=0).fit(market_df)\n",
    "cluster_preds = k_means.predict(market_df)\n",
    "k_means.get_params"
   ]
  },
  {
   "cell_type": "code",
   "execution_count": 148,
   "metadata": {},
   "outputs": [],
   "source": [
    "n_clusters=3"
   ]
  },
  {
   "cell_type": "code",
   "execution_count": 153,
   "metadata": {},
   "outputs": [],
   "source": [
    "k_means_cluster_stats = pd.DataFrame()\n",
    "for i in range(n_clusters):\n",
    "    k_means_cluster_stats['Cluster ' + str(i+1)] = market_df[k_means.labels_ == i].mean(axis=0)\n",
    "      \n",
    "k_means_cluster_stats = k_means_cluster_stats.T"
   ]
  },
  {
   "cell_type": "code",
   "execution_count": 154,
   "metadata": {},
   "outputs": [
    {
     "data": {
      "text/html": [
       "<div>\n",
       "<style scoped>\n",
       "    .dataframe tbody tr th:only-of-type {\n",
       "        vertical-align: middle;\n",
       "    }\n",
       "\n",
       "    .dataframe tbody tr th {\n",
       "        vertical-align: top;\n",
       "    }\n",
       "\n",
       "    .dataframe thead th {\n",
       "        text-align: right;\n",
       "    }\n",
       "</style>\n",
       "<table border=\"1\" class=\"dataframe\">\n",
       "  <thead>\n",
       "    <tr style=\"text-align: right;\">\n",
       "      <th></th>\n",
       "      <th>DMA_Code</th>\n",
       "      <th>Audience Population</th>\n",
       "      <th>BRAND</th>\n",
       "      <th>Company</th>\n",
       "      <th>IsTop31</th>\n",
       "      <th>Spend_K</th>\n",
       "      <th>Hispanic Newsp</th>\n",
       "      <th>Int Display</th>\n",
       "      <th>Local Mags</th>\n",
       "      <th>Local Radio</th>\n",
       "      <th>...</th>\n",
       "      <th>Manufactrg: Mtrls&amp;Equip/Freight/Ind Dev</th>\n",
       "      <th>Media &amp; Advertising</th>\n",
       "      <th>Misc Merchandise</th>\n",
       "      <th>Misc Services &amp; Amusements</th>\n",
       "      <th>Public Transportation, Hotels &amp; Resorts</th>\n",
       "      <th>Retail</th>\n",
       "      <th>Schools, Camps, Seminars</th>\n",
       "      <th>Central</th>\n",
       "      <th>Northeast</th>\n",
       "      <th>West</th>\n",
       "    </tr>\n",
       "  </thead>\n",
       "  <tbody>\n",
       "    <tr>\n",
       "      <td>Cluster 1</td>\n",
       "      <td>534.298432</td>\n",
       "      <td>0.145188</td>\n",
       "      <td>0.066869</td>\n",
       "      <td>0.066869</td>\n",
       "      <td>0.343981</td>\n",
       "      <td>0.001488</td>\n",
       "      <td>0.001183</td>\n",
       "      <td>0.295475</td>\n",
       "      <td>0.001775</td>\n",
       "      <td>0.056492</td>\n",
       "      <td>...</td>\n",
       "      <td>0.020704</td>\n",
       "      <td>0.117125</td>\n",
       "      <td>0.031352</td>\n",
       "      <td>0.087252</td>\n",
       "      <td>0.081337</td>\n",
       "      <td>0.090506</td>\n",
       "      <td>0.035492</td>\n",
       "      <td>0.452529</td>\n",
       "      <td>0.547471</td>\n",
       "      <td>0.000000</td>\n",
       "    </tr>\n",
       "    <tr>\n",
       "      <td>Cluster 2</td>\n",
       "      <td>794.438476</td>\n",
       "      <td>0.158859</td>\n",
       "      <td>0.062066</td>\n",
       "      <td>0.062066</td>\n",
       "      <td>0.358526</td>\n",
       "      <td>0.001993</td>\n",
       "      <td>0.003748</td>\n",
       "      <td>0.237352</td>\n",
       "      <td>0.000625</td>\n",
       "      <td>0.071205</td>\n",
       "      <td>...</td>\n",
       "      <td>0.013741</td>\n",
       "      <td>0.123673</td>\n",
       "      <td>0.024984</td>\n",
       "      <td>0.088070</td>\n",
       "      <td>0.083073</td>\n",
       "      <td>0.090568</td>\n",
       "      <td>0.035603</td>\n",
       "      <td>0.014366</td>\n",
       "      <td>0.000000</td>\n",
       "      <td>0.985634</td>\n",
       "    </tr>\n",
       "    <tr>\n",
       "      <td>Cluster 3</td>\n",
       "      <td>644.221410</td>\n",
       "      <td>0.099743</td>\n",
       "      <td>0.056599</td>\n",
       "      <td>0.056599</td>\n",
       "      <td>0.157782</td>\n",
       "      <td>0.000851</td>\n",
       "      <td>0.001290</td>\n",
       "      <td>0.279020</td>\n",
       "      <td>0.000000</td>\n",
       "      <td>0.042992</td>\n",
       "      <td>...</td>\n",
       "      <td>0.013328</td>\n",
       "      <td>0.130696</td>\n",
       "      <td>0.027945</td>\n",
       "      <td>0.084695</td>\n",
       "      <td>0.082545</td>\n",
       "      <td>0.093723</td>\n",
       "      <td>0.031814</td>\n",
       "      <td>0.424764</td>\n",
       "      <td>0.012038</td>\n",
       "      <td>0.563199</td>\n",
       "    </tr>\n",
       "  </tbody>\n",
       "</table>\n",
       "<p>3 rows × 39 columns</p>\n",
       "</div>"
      ],
      "text/plain": [
       "             DMA_Code  Audience Population     BRAND   Company   IsTop31  \\\n",
       "Cluster 1  534.298432             0.145188  0.066869  0.066869  0.343981   \n",
       "Cluster 2  794.438476             0.158859  0.062066  0.062066  0.358526   \n",
       "Cluster 3  644.221410             0.099743  0.056599  0.056599  0.157782   \n",
       "\n",
       "            Spend_K  Hispanic Newsp  Int Display  Local Mags  Local Radio  \\\n",
       "Cluster 1  0.001488        0.001183     0.295475    0.001775     0.056492   \n",
       "Cluster 2  0.001993        0.003748     0.237352    0.000625     0.071205   \n",
       "Cluster 3  0.000851        0.001290     0.279020    0.000000     0.042992   \n",
       "\n",
       "           ...  Manufactrg: Mtrls&Equip/Freight/Ind Dev  Media & Advertising  \\\n",
       "Cluster 1  ...                                 0.020704             0.117125   \n",
       "Cluster 2  ...                                 0.013741             0.123673   \n",
       "Cluster 3  ...                                 0.013328             0.130696   \n",
       "\n",
       "           Misc Merchandise  Misc Services & Amusements  \\\n",
       "Cluster 1          0.031352                    0.087252   \n",
       "Cluster 2          0.024984                    0.088070   \n",
       "Cluster 3          0.027945                    0.084695   \n",
       "\n",
       "           Public Transportation, Hotels & Resorts    Retail  \\\n",
       "Cluster 1                                 0.081337  0.090506   \n",
       "Cluster 2                                 0.083073  0.090568   \n",
       "Cluster 3                                 0.082545  0.093723   \n",
       "\n",
       "           Schools, Camps, Seminars   Central  Northeast      West  \n",
       "Cluster 1                  0.035492  0.452529   0.547471  0.000000  \n",
       "Cluster 2                  0.035603  0.014366   0.000000  0.985634  \n",
       "Cluster 3                  0.031814  0.424764   0.012038  0.563199  \n",
       "\n",
       "[3 rows x 39 columns]"
      ]
     },
     "execution_count": 154,
     "metadata": {},
     "output_type": "execute_result"
    }
   ],
   "source": [
    "k_means_cluster_stats"
   ]
  },
  {
   "cell_type": "code",
   "execution_count": 128,
   "metadata": {},
   "outputs": [],
   "source": [
    "kmeans_market = market_df.copy()"
   ]
  },
  {
   "cell_type": "code",
   "execution_count": 129,
   "metadata": {},
   "outputs": [],
   "source": [
    "kmeans_market['market_segments']=pd.DataFrame(cluster_preds)"
   ]
  },
  {
   "cell_type": "markdown",
   "metadata": {},
   "source": [
    "## Try other methods with PCA, HAC, XCG"
   ]
  },
  {
   "cell_type": "code",
   "execution_count": null,
   "metadata": {},
   "outputs": [],
   "source": []
  },
  {
   "cell_type": "code",
   "execution_count": null,
   "metadata": {},
   "outputs": [],
   "source": []
  },
  {
   "cell_type": "code",
   "execution_count": null,
   "metadata": {},
   "outputs": [],
   "source": []
  },
  {
   "cell_type": "code",
   "execution_count": null,
   "metadata": {},
   "outputs": [],
   "source": []
  },
  {
   "cell_type": "code",
   "execution_count": null,
   "metadata": {},
   "outputs": [],
   "source": []
  },
  {
   "cell_type": "code",
   "execution_count": null,
   "metadata": {},
   "outputs": [],
   "source": []
  },
  {
   "cell_type": "code",
   "execution_count": null,
   "metadata": {},
   "outputs": [],
   "source": []
  },
  {
   "cell_type": "code",
   "execution_count": null,
   "metadata": {},
   "outputs": [],
   "source": []
  },
  {
   "cell_type": "code",
   "execution_count": null,
   "metadata": {},
   "outputs": [],
   "source": []
  },
  {
   "cell_type": "code",
   "execution_count": null,
   "metadata": {},
   "outputs": [],
   "source": []
  },
  {
   "cell_type": "code",
   "execution_count": null,
   "metadata": {},
   "outputs": [],
   "source": []
  },
  {
   "cell_type": "markdown",
   "metadata": {},
   "source": [
    "### Interpret the Results"
   ]
  },
  {
   "cell_type": "code",
   "execution_count": 138,
   "metadata": {},
   "outputs": [
    {
     "name": "stdout",
     "output_type": "stream",
     "text": [
      "<class 'pandas.core.frame.DataFrame'>\n",
      "RangeIndex: 7308 entries, 0 to 7307\n",
      "Data columns (total 40 columns):\n",
      "DMA_Code                                    7308 non-null category\n",
      "Audience Population                         7308 non-null float64\n",
      "BRAND                                       7308 non-null float64\n",
      "Company                                     7308 non-null float64\n",
      "IsTop31                                     7308 non-null float64\n",
      "Spend_K                                     7308 non-null float64\n",
      "Hispanic Newsp                              7308 non-null int32\n",
      "Int Display                                 7308 non-null int32\n",
      "Local Mags                                  7308 non-null int32\n",
      "Local Radio                                 7308 non-null int32\n",
      "Mobile Web                                  7308 non-null int32\n",
      "Natl Spot Radio                             7308 non-null int32\n",
      "Newspapers                                  7308 non-null int32\n",
      "Online Video                                7308 non-null int32\n",
      "Outdoor                                     7308 non-null int32\n",
      "Spot TV                                     7308 non-null int32\n",
      "Audio & Video Equipment & Supplies          7308 non-null int32\n",
      "Automotive, Automotive Access & Equip       7308 non-null int32\n",
      "Building Materials, Equipment & Fixtures    7308 non-null int32\n",
      "Business & Technology NEC                   7308 non-null int32\n",
      "Communications                              7308 non-null int32\n",
      "Computers, Software, Internet NEC           7308 non-null int32\n",
      "Discount Department & Variety Stores        7308 non-null int32\n",
      "Financial                                   7308 non-null int32\n",
      "Games, Toys & Hobbycraft                    7308 non-null int32\n",
      "General NEC                                 7308 non-null int32\n",
      "Government, Politics & Organizations        7308 non-null int32\n",
      "Household Appliances, Equip & Utensils      7308 non-null int32\n",
      "Insurance & Real Estate                     7308 non-null int32\n",
      "Manufactrg: Mtrls&Equip/Freight/Ind Dev     7308 non-null int32\n",
      "Media & Advertising                         7308 non-null int32\n",
      "Misc Merchandise                            7308 non-null int32\n",
      "Misc Services & Amusements                  7308 non-null int32\n",
      "Public Transportation, Hotels & Resorts     7308 non-null int32\n",
      "Retail                                      7308 non-null int32\n",
      "Schools, Camps, Seminars                    7308 non-null int32\n",
      "Central                                     7308 non-null int32\n",
      "Northeast                                   7308 non-null int32\n",
      "West                                        7308 non-null int32\n",
      "market_segments                             7308 non-null int32\n",
      "dtypes: category(1), float64(5), int32(34)\n",
      "memory usage: 1.3 MB\n"
     ]
    }
   ],
   "source": [
    "kmeans_market.info()"
   ]
  },
  {
   "cell_type": "code",
   "execution_count": 143,
   "metadata": {},
   "outputs": [
    {
     "data": {
      "text/plain": [
       "market_segments\n",
       "0    80\n",
       "1    54\n",
       "2    76\n",
       "Name: DMA_Code, dtype: int64"
      ]
     },
     "execution_count": 143,
     "metadata": {},
     "output_type": "execute_result"
    }
   ],
   "source": [
    "#Each DMA should be just in one cluster\n",
    "kmeans_market.groupby('market_segments')['DMA_Code'].nunique()"
   ]
  },
  {
   "cell_type": "code",
   "execution_count": 137,
   "metadata": {},
   "outputs": [
    {
     "name": "stdout",
     "output_type": "stream",
     "text": [
      "<class 'pandas.core.frame.DataFrame'>\n",
      "RangeIndex: 7308 entries, 0 to 7307\n",
      "Data columns (total 9 columns):\n",
      "DMA_Code               7308 non-null category\n",
      "MEDIA                  7308 non-null object\n",
      "INDUSTRY               7308 non-null object\n",
      "Audience Population    7308 non-null int64\n",
      "BRAND                  7308 non-null float64\n",
      "Company                7308 non-null float64\n",
      "IsTop31                7308 non-null int64\n",
      "Spend_K                7308 non-null float64\n",
      "Division_Name          7308 non-null object\n",
      "dtypes: category(1), float64(3), int64(2), object(3)\n",
      "memory usage: 482.8+ KB\n"
     ]
    }
   ],
   "source": [
    "market.info()"
   ]
  },
  {
   "cell_type": "code",
   "execution_count": 139,
   "metadata": {},
   "outputs": [],
   "source": [
    "kmeans_market_df = pd.merge(kmeans_market[['DMA_Code','market_segments']], market, left_on='DMA_Code', right_on='DMA_Code')"
   ]
  },
  {
   "cell_type": "code",
   "execution_count": 140,
   "metadata": {},
   "outputs": [
    {
     "name": "stdout",
     "output_type": "stream",
     "text": [
      "<class 'pandas.core.frame.DataFrame'>\n",
      "Int64Index: 376926 entries, 0 to 376925\n",
      "Data columns (total 10 columns):\n",
      "DMA_Code               376926 non-null category\n",
      "market_segments        376926 non-null int32\n",
      "MEDIA                  376926 non-null object\n",
      "INDUSTRY               376926 non-null object\n",
      "Audience Population    376926 non-null int64\n",
      "BRAND                  376926 non-null float64\n",
      "Company                376926 non-null float64\n",
      "IsTop31                376926 non-null int64\n",
      "Spend_K                376926 non-null float64\n",
      "Division_Name          376926 non-null object\n",
      "dtypes: category(1), float64(3), int32(1), int64(2), object(3)\n",
      "memory usage: 28.0+ MB\n"
     ]
    }
   ],
   "source": [
    "kmeans_market_df.info()"
   ]
  },
  {
   "cell_type": "code",
   "execution_count": 144,
   "metadata": {},
   "outputs": [],
   "source": [
    "kmeans_market_df2 = kmeans_market_df.merge(region[['DMA_Code','NIELSEN DMA']], left_on='DMA_Code', right_on='DMA_Code')"
   ]
  },
  {
   "cell_type": "code",
   "execution_count": 145,
   "metadata": {},
   "outputs": [
    {
     "data": {
      "text/plain": [
       "market_segments\n",
       "0    4.088045e+06\n",
       "1    4.421629e+06\n",
       "2    2.739148e+06\n",
       "Name: Audience Population, dtype: float64"
      ]
     },
     "execution_count": 145,
     "metadata": {},
     "output_type": "execute_result"
    }
   ],
   "source": [
    "kmeans_market_df2.groupby('market_segments')['Audience Population'].mean()"
   ]
  },
  {
   "cell_type": "code",
   "execution_count": 146,
   "metadata": {},
   "outputs": [
    {
     "data": {
      "text/html": [
       "<div>\n",
       "<style scoped>\n",
       "    .dataframe tbody tr th:only-of-type {\n",
       "        vertical-align: middle;\n",
       "    }\n",
       "\n",
       "    .dataframe tbody tr th {\n",
       "        vertical-align: top;\n",
       "    }\n",
       "\n",
       "    .dataframe thead th {\n",
       "        text-align: right;\n",
       "    }\n",
       "</style>\n",
       "<table border=\"1\" class=\"dataframe\">\n",
       "  <thead>\n",
       "    <tr style=\"text-align: right;\">\n",
       "      <th></th>\n",
       "      <th>DMA_Code</th>\n",
       "      <th>market_segments</th>\n",
       "      <th>Audience Population</th>\n",
       "      <th>BRAND</th>\n",
       "      <th>Company</th>\n",
       "      <th>IsTop31</th>\n",
       "      <th>Spend_K</th>\n",
       "    </tr>\n",
       "  </thead>\n",
       "  <tbody>\n",
       "    <tr>\n",
       "      <td>count</td>\n",
       "      <td>404482.000000</td>\n",
       "      <td>404482.000000</td>\n",
       "      <td>4.044820e+05</td>\n",
       "      <td>404482.000000</td>\n",
       "      <td>404482.000000</td>\n",
       "      <td>404482.000000</td>\n",
       "      <td>404482.000000</td>\n",
       "    </tr>\n",
       "    <tr>\n",
       "      <td>mean</td>\n",
       "      <td>609.310778</td>\n",
       "      <td>0.711144</td>\n",
       "      <td>3.810063e+06</td>\n",
       "      <td>32.394282</td>\n",
       "      <td>32.394282</td>\n",
       "      <td>0.466152</td>\n",
       "      <td>165.139107</td>\n",
       "    </tr>\n",
       "    <tr>\n",
       "      <td>std</td>\n",
       "      <td>109.697571</td>\n",
       "      <td>0.846477</td>\n",
       "      <td>3.541928e+06</td>\n",
       "      <td>57.070088</td>\n",
       "      <td>57.070088</td>\n",
       "      <td>0.498854</td>\n",
       "      <td>1306.745345</td>\n",
       "    </tr>\n",
       "    <tr>\n",
       "      <td>min</td>\n",
       "      <td>500.000000</td>\n",
       "      <td>0.000000</td>\n",
       "      <td>8.100000e+03</td>\n",
       "      <td>1.000000</td>\n",
       "      <td>1.000000</td>\n",
       "      <td>0.000000</td>\n",
       "      <td>0.000000</td>\n",
       "    </tr>\n",
       "    <tr>\n",
       "      <td>25%</td>\n",
       "      <td>512.000000</td>\n",
       "      <td>0.000000</td>\n",
       "      <td>1.330300e+06</td>\n",
       "      <td>3.000000</td>\n",
       "      <td>3.000000</td>\n",
       "      <td>0.000000</td>\n",
       "      <td>0.500000</td>\n",
       "    </tr>\n",
       "    <tr>\n",
       "      <td>50%</td>\n",
       "      <td>564.000000</td>\n",
       "      <td>0.000000</td>\n",
       "      <td>2.727500e+06</td>\n",
       "      <td>10.000000</td>\n",
       "      <td>10.000000</td>\n",
       "      <td>0.000000</td>\n",
       "      <td>7.900000</td>\n",
       "    </tr>\n",
       "    <tr>\n",
       "      <td>75%</td>\n",
       "      <td>659.000000</td>\n",
       "      <td>2.000000</td>\n",
       "      <td>6.049100e+06</td>\n",
       "      <td>32.000000</td>\n",
       "      <td>32.000000</td>\n",
       "      <td>1.000000</td>\n",
       "      <td>53.600000</td>\n",
       "    </tr>\n",
       "    <tr>\n",
       "      <td>max</td>\n",
       "      <td>881.000000</td>\n",
       "      <td>2.000000</td>\n",
       "      <td>1.829120e+07</td>\n",
       "      <td>439.000000</td>\n",
       "      <td>439.000000</td>\n",
       "      <td>1.000000</td>\n",
       "      <td>61735.900000</td>\n",
       "    </tr>\n",
       "  </tbody>\n",
       "</table>\n",
       "</div>"
      ],
      "text/plain": [
       "            DMA_Code  market_segments  Audience Population          BRAND  \\\n",
       "count  404482.000000    404482.000000         4.044820e+05  404482.000000   \n",
       "mean      609.310778         0.711144         3.810063e+06      32.394282   \n",
       "std       109.697571         0.846477         3.541928e+06      57.070088   \n",
       "min       500.000000         0.000000         8.100000e+03       1.000000   \n",
       "25%       512.000000         0.000000         1.330300e+06       3.000000   \n",
       "50%       564.000000         0.000000         2.727500e+06      10.000000   \n",
       "75%       659.000000         2.000000         6.049100e+06      32.000000   \n",
       "max       881.000000         2.000000         1.829120e+07     439.000000   \n",
       "\n",
       "             Company        IsTop31        Spend_K  \n",
       "count  404482.000000  404482.000000  404482.000000  \n",
       "mean       32.394282       0.466152     165.139107  \n",
       "std        57.070088       0.498854    1306.745345  \n",
       "min         1.000000       0.000000       0.000000  \n",
       "25%         3.000000       0.000000       0.500000  \n",
       "50%        10.000000       0.000000       7.900000  \n",
       "75%        32.000000       1.000000      53.600000  \n",
       "max       439.000000       1.000000   61735.900000  "
      ]
     },
     "execution_count": 146,
     "metadata": {},
     "output_type": "execute_result"
    }
   ],
   "source": [
    "kmeans_market_df2.describe()"
   ]
  },
  {
   "cell_type": "code",
   "execution_count": null,
   "metadata": {},
   "outputs": [],
   "source": []
  }
 ],
 "metadata": {
  "kernelspec": {
   "display_name": "Python 3",
   "language": "python",
   "name": "python3"
  },
  "language_info": {
   "codemirror_mode": {
    "name": "ipython",
    "version": 3
   },
   "file_extension": ".py",
   "mimetype": "text/x-python",
   "name": "python",
   "nbconvert_exporter": "python",
   "pygments_lexer": "ipython3",
   "version": "3.7.4"
  }
 },
 "nbformat": 4,
 "nbformat_minor": 2
}
