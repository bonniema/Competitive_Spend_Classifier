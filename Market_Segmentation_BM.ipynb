{
 "cells": [
  {
   "cell_type": "markdown",
   "metadata": {},
   "source": [
    "## Clustering US 210 DMAs to sereveral segments"
   ]
  },
  {
   "cell_type": "markdown",
   "metadata": {},
   "source": [
    "### Import Libraries"
   ]
  },
  {
   "cell_type": "code",
   "execution_count": 75,
   "metadata": {},
   "outputs": [],
   "source": [
    "import pandas as pd\n",
    "import numpy as np\n",
    "\n",
    "from sklearn.preprocessing import StandardScaler\n",
    "from sklearn.decomposition import PCA\n",
    "\n",
    "from sklearn.cluster import KMeans\n",
    "from sklearn.cluster import AgglomerativeClustering\n",
    "from sklearn.neighbors import KernelDensity\n",
    "from sklearn.metrics.cluster import calinski_harabasz_score, adjusted_rand_score\n",
    "\n",
    "import matplotlib.pyplot as plt\n",
    "\n",
    "np.random.seed(0)\n",
    "%matplotlib inline  "
   ]
  },
  {
   "cell_type": "markdown",
   "metadata": {},
   "source": [
    "#### Market Data"
   ]
  },
  {
   "cell_type": "code",
   "execution_count": 76,
   "metadata": {},
   "outputs": [
    {
     "data": {
      "text/html": [
       "<div>\n",
       "<style scoped>\n",
       "    .dataframe tbody tr th:only-of-type {\n",
       "        vertical-align: middle;\n",
       "    }\n",
       "\n",
       "    .dataframe tbody tr th {\n",
       "        vertical-align: top;\n",
       "    }\n",
       "\n",
       "    .dataframe thead th {\n",
       "        text-align: right;\n",
       "    }\n",
       "</style>\n",
       "<table border=\"1\" class=\"dataframe\">\n",
       "  <thead>\n",
       "    <tr style=\"text-align: right;\">\n",
       "      <th></th>\n",
       "      <th>Unnamed: 0</th>\n",
       "      <th>DMA_Code</th>\n",
       "      <th>MEDIA</th>\n",
       "      <th>INDUSTRY</th>\n",
       "      <th>Audience Population</th>\n",
       "      <th>BRAND</th>\n",
       "      <th>Company</th>\n",
       "      <th>IsTop31</th>\n",
       "      <th>Spend_K</th>\n",
       "      <th>Division_Name</th>\n",
       "    </tr>\n",
       "  </thead>\n",
       "  <tbody>\n",
       "    <tr>\n",
       "      <td>0</td>\n",
       "      <td>0</td>\n",
       "      <td>500</td>\n",
       "      <td>Int Display</td>\n",
       "      <td>Audio &amp; Video Equipment &amp; Supplies</td>\n",
       "      <td>892300</td>\n",
       "      <td>19.0</td>\n",
       "      <td>19.0</td>\n",
       "      <td>0.0</td>\n",
       "      <td>0.0</td>\n",
       "      <td>Northeast</td>\n",
       "    </tr>\n",
       "    <tr>\n",
       "      <td>1</td>\n",
       "      <td>1</td>\n",
       "      <td>500</td>\n",
       "      <td>Int Display</td>\n",
       "      <td>Building Materials, Equipment &amp; Fixtures</td>\n",
       "      <td>892300</td>\n",
       "      <td>3.0</td>\n",
       "      <td>3.0</td>\n",
       "      <td>0.0</td>\n",
       "      <td>0.0</td>\n",
       "      <td>Northeast</td>\n",
       "    </tr>\n",
       "    <tr>\n",
       "      <td>2</td>\n",
       "      <td>2</td>\n",
       "      <td>500</td>\n",
       "      <td>Int Display</td>\n",
       "      <td>Business &amp; Technology NEC</td>\n",
       "      <td>892300</td>\n",
       "      <td>23.0</td>\n",
       "      <td>23.0</td>\n",
       "      <td>0.0</td>\n",
       "      <td>1.1</td>\n",
       "      <td>Northeast</td>\n",
       "    </tr>\n",
       "    <tr>\n",
       "      <td>3</td>\n",
       "      <td>3</td>\n",
       "      <td>500</td>\n",
       "      <td>Int Display</td>\n",
       "      <td>Communications</td>\n",
       "      <td>892300</td>\n",
       "      <td>21.0</td>\n",
       "      <td>21.0</td>\n",
       "      <td>0.0</td>\n",
       "      <td>0.0</td>\n",
       "      <td>Northeast</td>\n",
       "    </tr>\n",
       "    <tr>\n",
       "      <td>4</td>\n",
       "      <td>4</td>\n",
       "      <td>500</td>\n",
       "      <td>Int Display</td>\n",
       "      <td>Computers, Software, Internet NEC</td>\n",
       "      <td>892300</td>\n",
       "      <td>207.0</td>\n",
       "      <td>207.0</td>\n",
       "      <td>0.0</td>\n",
       "      <td>3.9</td>\n",
       "      <td>Northeast</td>\n",
       "    </tr>\n",
       "  </tbody>\n",
       "</table>\n",
       "</div>"
      ],
      "text/plain": [
       "   Unnamed: 0  DMA_Code        MEDIA  \\\n",
       "0           0       500  Int Display   \n",
       "1           1       500  Int Display   \n",
       "2           2       500  Int Display   \n",
       "3           3       500  Int Display   \n",
       "4           4       500  Int Display   \n",
       "\n",
       "                                   INDUSTRY  Audience Population  BRAND  \\\n",
       "0        Audio & Video Equipment & Supplies               892300   19.0   \n",
       "1  Building Materials, Equipment & Fixtures               892300    3.0   \n",
       "2                 Business & Technology NEC               892300   23.0   \n",
       "3                            Communications               892300   21.0   \n",
       "4         Computers, Software, Internet NEC               892300  207.0   \n",
       "\n",
       "   Company  IsTop31  Spend_K Division_Name  \n",
       "0     19.0      0.0      0.0     Northeast  \n",
       "1      3.0      0.0      0.0     Northeast  \n",
       "2     23.0      0.0      1.1     Northeast  \n",
       "3     21.0      0.0      0.0     Northeast  \n",
       "4    207.0      0.0      3.9     Northeast  "
      ]
     },
     "execution_count": 76,
     "metadata": {},
     "output_type": "execute_result"
    }
   ],
   "source": [
    "market = pd.read_csv(\"Market_Segmentation.csv\")\n",
    "market.head()"
   ]
  },
  {
   "cell_type": "code",
   "execution_count": 77,
   "metadata": {},
   "outputs": [],
   "source": [
    "region = pd.read_csv('DMA_region.csv')"
   ]
  },
  {
   "cell_type": "code",
   "execution_count": 78,
   "metadata": {},
   "outputs": [
    {
     "name": "stdout",
     "output_type": "stream",
     "text": [
      "<class 'pandas.core.frame.DataFrame'>\n",
      "RangeIndex: 7308 entries, 0 to 7307\n",
      "Data columns (total 10 columns):\n",
      "Unnamed: 0             7308 non-null int64\n",
      "DMA_Code               7308 non-null int64\n",
      "MEDIA                  7308 non-null object\n",
      "INDUSTRY               7308 non-null object\n",
      "Audience Population    7308 non-null int64\n",
      "BRAND                  7308 non-null float64\n",
      "Company                7308 non-null float64\n",
      "IsTop31                7308 non-null float64\n",
      "Spend_K                7308 non-null float64\n",
      "Division_Name          7308 non-null object\n",
      "dtypes: float64(4), int64(3), object(3)\n",
      "memory usage: 571.1+ KB\n"
     ]
    }
   ],
   "source": [
    "market.info()"
   ]
  },
  {
   "cell_type": "code",
   "execution_count": 79,
   "metadata": {},
   "outputs": [],
   "source": [
    "market = market.drop(['Unnamed: 0'], axis=1)\n"
   ]
  },
  {
   "cell_type": "code",
   "execution_count": 80,
   "metadata": {},
   "outputs": [
    {
     "data": {
      "text/html": [
       "<div>\n",
       "<style scoped>\n",
       "    .dataframe tbody tr th:only-of-type {\n",
       "        vertical-align: middle;\n",
       "    }\n",
       "\n",
       "    .dataframe tbody tr th {\n",
       "        vertical-align: top;\n",
       "    }\n",
       "\n",
       "    .dataframe thead th {\n",
       "        text-align: right;\n",
       "    }\n",
       "</style>\n",
       "<table border=\"1\" class=\"dataframe\">\n",
       "  <thead>\n",
       "    <tr style=\"text-align: right;\">\n",
       "      <th></th>\n",
       "      <th>DMA_Code</th>\n",
       "      <th>MEDIA</th>\n",
       "      <th>INDUSTRY</th>\n",
       "      <th>Audience Population</th>\n",
       "      <th>BRAND</th>\n",
       "      <th>Company</th>\n",
       "      <th>IsTop31</th>\n",
       "      <th>Spend_K</th>\n",
       "      <th>Division_Name</th>\n",
       "    </tr>\n",
       "  </thead>\n",
       "  <tbody>\n",
       "    <tr>\n",
       "      <td>0</td>\n",
       "      <td>500</td>\n",
       "      <td>Int Display</td>\n",
       "      <td>Audio &amp; Video Equipment &amp; Supplies</td>\n",
       "      <td>892300</td>\n",
       "      <td>19.0</td>\n",
       "      <td>19.0</td>\n",
       "      <td>0.0</td>\n",
       "      <td>0.0</td>\n",
       "      <td>Northeast</td>\n",
       "    </tr>\n",
       "    <tr>\n",
       "      <td>1</td>\n",
       "      <td>500</td>\n",
       "      <td>Int Display</td>\n",
       "      <td>Building Materials, Equipment &amp; Fixtures</td>\n",
       "      <td>892300</td>\n",
       "      <td>3.0</td>\n",
       "      <td>3.0</td>\n",
       "      <td>0.0</td>\n",
       "      <td>0.0</td>\n",
       "      <td>Northeast</td>\n",
       "    </tr>\n",
       "    <tr>\n",
       "      <td>2</td>\n",
       "      <td>500</td>\n",
       "      <td>Int Display</td>\n",
       "      <td>Business &amp; Technology NEC</td>\n",
       "      <td>892300</td>\n",
       "      <td>23.0</td>\n",
       "      <td>23.0</td>\n",
       "      <td>0.0</td>\n",
       "      <td>1.1</td>\n",
       "      <td>Northeast</td>\n",
       "    </tr>\n",
       "    <tr>\n",
       "      <td>3</td>\n",
       "      <td>500</td>\n",
       "      <td>Int Display</td>\n",
       "      <td>Communications</td>\n",
       "      <td>892300</td>\n",
       "      <td>21.0</td>\n",
       "      <td>21.0</td>\n",
       "      <td>0.0</td>\n",
       "      <td>0.0</td>\n",
       "      <td>Northeast</td>\n",
       "    </tr>\n",
       "    <tr>\n",
       "      <td>4</td>\n",
       "      <td>500</td>\n",
       "      <td>Int Display</td>\n",
       "      <td>Computers, Software, Internet NEC</td>\n",
       "      <td>892300</td>\n",
       "      <td>207.0</td>\n",
       "      <td>207.0</td>\n",
       "      <td>0.0</td>\n",
       "      <td>3.9</td>\n",
       "      <td>Northeast</td>\n",
       "    </tr>\n",
       "  </tbody>\n",
       "</table>\n",
       "</div>"
      ],
      "text/plain": [
       "   DMA_Code        MEDIA                                  INDUSTRY  \\\n",
       "0       500  Int Display        Audio & Video Equipment & Supplies   \n",
       "1       500  Int Display  Building Materials, Equipment & Fixtures   \n",
       "2       500  Int Display                 Business & Technology NEC   \n",
       "3       500  Int Display                            Communications   \n",
       "4       500  Int Display         Computers, Software, Internet NEC   \n",
       "\n",
       "   Audience Population  BRAND  Company  IsTop31  Spend_K Division_Name  \n",
       "0               892300   19.0     19.0      0.0      0.0     Northeast  \n",
       "1               892300    3.0      3.0      0.0      0.0     Northeast  \n",
       "2               892300   23.0     23.0      0.0      1.1     Northeast  \n",
       "3               892300   21.0     21.0      0.0      0.0     Northeast  \n",
       "4               892300  207.0    207.0      0.0      3.9     Northeast  "
      ]
     },
     "execution_count": 80,
     "metadata": {},
     "output_type": "execute_result"
    }
   ],
   "source": [
    "market.head()"
   ]
  },
  {
   "cell_type": "markdown",
   "metadata": {},
   "source": [
    "#### Data Dictionary\n",
    "\n",
    "- MARKET: Designated Market Area (DMA) is a region where the population can receive the same television and radio station offerings, and may also include other types of media including newspapers and Internet content\n",
    "- MEDIA: 10 Common Media Types including TV, Radio, Outdoor, Digital, etc.\n",
    "- Audience Population: Population of TV/Radio Audience with age 12+\n",
    "- Company/bRAND: Number of Companies/brands that advertise in this market\n",
    "- IsTop31: A subjective category made from Telecom industry on Market Importance. 0 means is not Top 31 market, 1 means Top 31 market\n",
    "- Spend_K: Media Spend in Thousands Dollars(000)"
   ]
  },
  {
   "cell_type": "markdown",
   "metadata": {},
   "source": [
    "### Create Segments with KMeans Clustering as base model"
   ]
  },
  {
   "cell_type": "code",
   "execution_count": 81,
   "metadata": {},
   "outputs": [
    {
     "name": "stdout",
     "output_type": "stream",
     "text": [
      "<class 'pandas.core.frame.DataFrame'>\n",
      "RangeIndex: 7308 entries, 0 to 7307\n",
      "Data columns (total 9 columns):\n",
      "DMA_Code               7308 non-null int64\n",
      "MEDIA                  7308 non-null object\n",
      "INDUSTRY               7308 non-null object\n",
      "Audience Population    7308 non-null int64\n",
      "BRAND                  7308 non-null float64\n",
      "Company                7308 non-null float64\n",
      "IsTop31                7308 non-null float64\n",
      "Spend_K                7308 non-null float64\n",
      "Division_Name          7308 non-null object\n",
      "dtypes: float64(4), int64(2), object(3)\n",
      "memory usage: 514.0+ KB\n"
     ]
    }
   ],
   "source": [
    "market.info()"
   ]
  },
  {
   "cell_type": "markdown",
   "metadata": {},
   "source": [
    "#### Transform Categorical Value"
   ]
  },
  {
   "cell_type": "code",
   "execution_count": 82,
   "metadata": {},
   "outputs": [],
   "source": [
    "#Change MARKETS to categorical \n",
    "market['DMA_Code']=market['DMA_Code'].astype('category')"
   ]
  },
  {
   "cell_type": "code",
   "execution_count": 83,
   "metadata": {},
   "outputs": [],
   "source": [
    "#One Hot Encoding for Media and Industry\n",
    "\n",
    "from sklearn.preprocessing import LabelBinarizer\n",
    "\n",
    "def labelcoder(data, column):\n",
    "    onehot = data.copy()\n",
    "    lb=LabelBinarizer()\n",
    "    lb_results = lb.fit_transform(onehot[column])\n",
    "    lb_results_df = pd.DataFrame(lb_results, columns=lb.classes_)\n",
    "    return lb_results_df\n"
   ]
  },
  {
   "cell_type": "code",
   "execution_count": 84,
   "metadata": {},
   "outputs": [],
   "source": [
    "media_features = labelcoder(market, 'MEDIA')\n",
    "industry_features = labelcoder(market, 'INDUSTRY')\n",
    "division_features = labelcoder(market, 'Division_Name')"
   ]
  },
  {
   "cell_type": "markdown",
   "metadata": {},
   "source": [
    "#### Standardize Numerical Features"
   ]
  },
  {
   "cell_type": "code",
   "execution_count": 85,
   "metadata": {},
   "outputs": [],
   "source": [
    "num_features = market[['Audience Population','BRAND','Company','IsTop31','Spend_K']]\n",
    "\n",
    "from sklearn.preprocessing import MinMaxScaler\n",
    "#Scale the numerical features\n",
    "scaler = MinMaxScaler()\n",
    "scaled = scaler.fit_transform(num_features)\n",
    "scaled_features = pd.DataFrame(scaled, columns = num_features.columns)"
   ]
  },
  {
   "cell_type": "code",
   "execution_count": 86,
   "metadata": {},
   "outputs": [
    {
     "data": {
      "text/html": [
       "<div>\n",
       "<style scoped>\n",
       "    .dataframe tbody tr th:only-of-type {\n",
       "        vertical-align: middle;\n",
       "    }\n",
       "\n",
       "    .dataframe tbody tr th {\n",
       "        vertical-align: top;\n",
       "    }\n",
       "\n",
       "    .dataframe thead th {\n",
       "        text-align: right;\n",
       "    }\n",
       "</style>\n",
       "<table border=\"1\" class=\"dataframe\">\n",
       "  <thead>\n",
       "    <tr style=\"text-align: right;\">\n",
       "      <th></th>\n",
       "      <th>Audience Population</th>\n",
       "      <th>BRAND</th>\n",
       "      <th>Company</th>\n",
       "      <th>IsTop31</th>\n",
       "      <th>Spend_K</th>\n",
       "    </tr>\n",
       "  </thead>\n",
       "  <tbody>\n",
       "    <tr>\n",
       "      <td>0</td>\n",
       "      <td>0.048362</td>\n",
       "      <td>0.041096</td>\n",
       "      <td>0.041096</td>\n",
       "      <td>0.0</td>\n",
       "      <td>0.000000</td>\n",
       "    </tr>\n",
       "    <tr>\n",
       "      <td>1</td>\n",
       "      <td>0.048362</td>\n",
       "      <td>0.004566</td>\n",
       "      <td>0.004566</td>\n",
       "      <td>0.0</td>\n",
       "      <td>0.000000</td>\n",
       "    </tr>\n",
       "    <tr>\n",
       "      <td>2</td>\n",
       "      <td>0.048362</td>\n",
       "      <td>0.050228</td>\n",
       "      <td>0.050228</td>\n",
       "      <td>0.0</td>\n",
       "      <td>0.000018</td>\n",
       "    </tr>\n",
       "    <tr>\n",
       "      <td>3</td>\n",
       "      <td>0.048362</td>\n",
       "      <td>0.045662</td>\n",
       "      <td>0.045662</td>\n",
       "      <td>0.0</td>\n",
       "      <td>0.000000</td>\n",
       "    </tr>\n",
       "    <tr>\n",
       "      <td>4</td>\n",
       "      <td>0.048362</td>\n",
       "      <td>0.470320</td>\n",
       "      <td>0.470320</td>\n",
       "      <td>0.0</td>\n",
       "      <td>0.000063</td>\n",
       "    </tr>\n",
       "    <tr>\n",
       "      <td>...</td>\n",
       "      <td>...</td>\n",
       "      <td>...</td>\n",
       "      <td>...</td>\n",
       "      <td>...</td>\n",
       "      <td>...</td>\n",
       "    </tr>\n",
       "    <tr>\n",
       "      <td>7303</td>\n",
       "      <td>0.057031</td>\n",
       "      <td>0.004566</td>\n",
       "      <td>0.004566</td>\n",
       "      <td>0.0</td>\n",
       "      <td>0.000005</td>\n",
       "    </tr>\n",
       "    <tr>\n",
       "      <td>7304</td>\n",
       "      <td>0.057031</td>\n",
       "      <td>0.070776</td>\n",
       "      <td>0.070776</td>\n",
       "      <td>0.0</td>\n",
       "      <td>0.000471</td>\n",
       "    </tr>\n",
       "    <tr>\n",
       "      <td>7305</td>\n",
       "      <td>0.057031</td>\n",
       "      <td>0.004566</td>\n",
       "      <td>0.004566</td>\n",
       "      <td>0.0</td>\n",
       "      <td>0.000042</td>\n",
       "    </tr>\n",
       "    <tr>\n",
       "      <td>7306</td>\n",
       "      <td>0.057031</td>\n",
       "      <td>0.015982</td>\n",
       "      <td>0.015982</td>\n",
       "      <td>0.0</td>\n",
       "      <td>0.000071</td>\n",
       "    </tr>\n",
       "    <tr>\n",
       "      <td>7307</td>\n",
       "      <td>0.057031</td>\n",
       "      <td>0.045662</td>\n",
       "      <td>0.045662</td>\n",
       "      <td>0.0</td>\n",
       "      <td>0.000060</td>\n",
       "    </tr>\n",
       "  </tbody>\n",
       "</table>\n",
       "<p>7308 rows × 5 columns</p>\n",
       "</div>"
      ],
      "text/plain": [
       "      Audience Population     BRAND   Company  IsTop31   Spend_K\n",
       "0                0.048362  0.041096  0.041096      0.0  0.000000\n",
       "1                0.048362  0.004566  0.004566      0.0  0.000000\n",
       "2                0.048362  0.050228  0.050228      0.0  0.000018\n",
       "3                0.048362  0.045662  0.045662      0.0  0.000000\n",
       "4                0.048362  0.470320  0.470320      0.0  0.000063\n",
       "...                   ...       ...       ...      ...       ...\n",
       "7303             0.057031  0.004566  0.004566      0.0  0.000005\n",
       "7304             0.057031  0.070776  0.070776      0.0  0.000471\n",
       "7305             0.057031  0.004566  0.004566      0.0  0.000042\n",
       "7306             0.057031  0.015982  0.015982      0.0  0.000071\n",
       "7307             0.057031  0.045662  0.045662      0.0  0.000060\n",
       "\n",
       "[7308 rows x 5 columns]"
      ]
     },
     "execution_count": 86,
     "metadata": {},
     "output_type": "execute_result"
    }
   ],
   "source": [
    "scaled_features"
   ]
  },
  {
   "cell_type": "code",
   "execution_count": 87,
   "metadata": {},
   "outputs": [
    {
     "data": {
      "text/html": [
       "<div>\n",
       "<style scoped>\n",
       "    .dataframe tbody tr th:only-of-type {\n",
       "        vertical-align: middle;\n",
       "    }\n",
       "\n",
       "    .dataframe tbody tr th {\n",
       "        vertical-align: top;\n",
       "    }\n",
       "\n",
       "    .dataframe thead th {\n",
       "        text-align: right;\n",
       "    }\n",
       "</style>\n",
       "<table border=\"1\" class=\"dataframe\">\n",
       "  <thead>\n",
       "    <tr style=\"text-align: right;\">\n",
       "      <th></th>\n",
       "      <th>DMA_Code</th>\n",
       "      <th>Audience Population</th>\n",
       "      <th>BRAND</th>\n",
       "      <th>Company</th>\n",
       "      <th>IsTop31</th>\n",
       "      <th>Spend_K</th>\n",
       "      <th>Hispanic Newsp</th>\n",
       "      <th>Int Display</th>\n",
       "      <th>Local Mags</th>\n",
       "      <th>Local Radio</th>\n",
       "      <th>...</th>\n",
       "      <th>Manufactrg: Mtrls&amp;Equip/Freight/Ind Dev</th>\n",
       "      <th>Media &amp; Advertising</th>\n",
       "      <th>Misc Merchandise</th>\n",
       "      <th>Misc Services &amp; Amusements</th>\n",
       "      <th>Public Transportation, Hotels &amp; Resorts</th>\n",
       "      <th>Retail</th>\n",
       "      <th>Schools, Camps, Seminars</th>\n",
       "      <th>Central</th>\n",
       "      <th>Northeast</th>\n",
       "      <th>West</th>\n",
       "    </tr>\n",
       "  </thead>\n",
       "  <tbody>\n",
       "    <tr>\n",
       "      <td>0</td>\n",
       "      <td>500</td>\n",
       "      <td>0.048362</td>\n",
       "      <td>0.041096</td>\n",
       "      <td>0.041096</td>\n",
       "      <td>0.0</td>\n",
       "      <td>0.000000</td>\n",
       "      <td>0</td>\n",
       "      <td>1</td>\n",
       "      <td>0</td>\n",
       "      <td>0</td>\n",
       "      <td>...</td>\n",
       "      <td>0</td>\n",
       "      <td>0</td>\n",
       "      <td>0</td>\n",
       "      <td>0</td>\n",
       "      <td>0</td>\n",
       "      <td>0</td>\n",
       "      <td>0</td>\n",
       "      <td>0</td>\n",
       "      <td>1</td>\n",
       "      <td>0</td>\n",
       "    </tr>\n",
       "    <tr>\n",
       "      <td>1</td>\n",
       "      <td>500</td>\n",
       "      <td>0.048362</td>\n",
       "      <td>0.004566</td>\n",
       "      <td>0.004566</td>\n",
       "      <td>0.0</td>\n",
       "      <td>0.000000</td>\n",
       "      <td>0</td>\n",
       "      <td>1</td>\n",
       "      <td>0</td>\n",
       "      <td>0</td>\n",
       "      <td>...</td>\n",
       "      <td>0</td>\n",
       "      <td>0</td>\n",
       "      <td>0</td>\n",
       "      <td>0</td>\n",
       "      <td>0</td>\n",
       "      <td>0</td>\n",
       "      <td>0</td>\n",
       "      <td>0</td>\n",
       "      <td>1</td>\n",
       "      <td>0</td>\n",
       "    </tr>\n",
       "    <tr>\n",
       "      <td>2</td>\n",
       "      <td>500</td>\n",
       "      <td>0.048362</td>\n",
       "      <td>0.050228</td>\n",
       "      <td>0.050228</td>\n",
       "      <td>0.0</td>\n",
       "      <td>0.000018</td>\n",
       "      <td>0</td>\n",
       "      <td>1</td>\n",
       "      <td>0</td>\n",
       "      <td>0</td>\n",
       "      <td>...</td>\n",
       "      <td>0</td>\n",
       "      <td>0</td>\n",
       "      <td>0</td>\n",
       "      <td>0</td>\n",
       "      <td>0</td>\n",
       "      <td>0</td>\n",
       "      <td>0</td>\n",
       "      <td>0</td>\n",
       "      <td>1</td>\n",
       "      <td>0</td>\n",
       "    </tr>\n",
       "    <tr>\n",
       "      <td>3</td>\n",
       "      <td>500</td>\n",
       "      <td>0.048362</td>\n",
       "      <td>0.045662</td>\n",
       "      <td>0.045662</td>\n",
       "      <td>0.0</td>\n",
       "      <td>0.000000</td>\n",
       "      <td>0</td>\n",
       "      <td>1</td>\n",
       "      <td>0</td>\n",
       "      <td>0</td>\n",
       "      <td>...</td>\n",
       "      <td>0</td>\n",
       "      <td>0</td>\n",
       "      <td>0</td>\n",
       "      <td>0</td>\n",
       "      <td>0</td>\n",
       "      <td>0</td>\n",
       "      <td>0</td>\n",
       "      <td>0</td>\n",
       "      <td>1</td>\n",
       "      <td>0</td>\n",
       "    </tr>\n",
       "    <tr>\n",
       "      <td>4</td>\n",
       "      <td>500</td>\n",
       "      <td>0.048362</td>\n",
       "      <td>0.470320</td>\n",
       "      <td>0.470320</td>\n",
       "      <td>0.0</td>\n",
       "      <td>0.000063</td>\n",
       "      <td>0</td>\n",
       "      <td>1</td>\n",
       "      <td>0</td>\n",
       "      <td>0</td>\n",
       "      <td>...</td>\n",
       "      <td>0</td>\n",
       "      <td>0</td>\n",
       "      <td>0</td>\n",
       "      <td>0</td>\n",
       "      <td>0</td>\n",
       "      <td>0</td>\n",
       "      <td>0</td>\n",
       "      <td>0</td>\n",
       "      <td>1</td>\n",
       "      <td>0</td>\n",
       "    </tr>\n",
       "  </tbody>\n",
       "</table>\n",
       "<p>5 rows × 39 columns</p>\n",
       "</div>"
      ],
      "text/plain": [
       "  DMA_Code  Audience Population     BRAND   Company  IsTop31   Spend_K  \\\n",
       "0      500             0.048362  0.041096  0.041096      0.0  0.000000   \n",
       "1      500             0.048362  0.004566  0.004566      0.0  0.000000   \n",
       "2      500             0.048362  0.050228  0.050228      0.0  0.000018   \n",
       "3      500             0.048362  0.045662  0.045662      0.0  0.000000   \n",
       "4      500             0.048362  0.470320  0.470320      0.0  0.000063   \n",
       "\n",
       "   Hispanic Newsp  Int Display  Local Mags  Local Radio  ...  \\\n",
       "0               0            1           0            0  ...   \n",
       "1               0            1           0            0  ...   \n",
       "2               0            1           0            0  ...   \n",
       "3               0            1           0            0  ...   \n",
       "4               0            1           0            0  ...   \n",
       "\n",
       "   Manufactrg: Mtrls&Equip/Freight/Ind Dev  Media & Advertising  \\\n",
       "0                                        0                    0   \n",
       "1                                        0                    0   \n",
       "2                                        0                    0   \n",
       "3                                        0                    0   \n",
       "4                                        0                    0   \n",
       "\n",
       "   Misc Merchandise  Misc Services & Amusements  \\\n",
       "0                 0                           0   \n",
       "1                 0                           0   \n",
       "2                 0                           0   \n",
       "3                 0                           0   \n",
       "4                 0                           0   \n",
       "\n",
       "   Public Transportation, Hotels & Resorts  Retail  Schools, Camps, Seminars  \\\n",
       "0                                        0       0                         0   \n",
       "1                                        0       0                         0   \n",
       "2                                        0       0                         0   \n",
       "3                                        0       0                         0   \n",
       "4                                        0       0                         0   \n",
       "\n",
       "   Central  Northeast  West  \n",
       "0        0          1     0  \n",
       "1        0          1     0  \n",
       "2        0          1     0  \n",
       "3        0          1     0  \n",
       "4        0          1     0  \n",
       "\n",
       "[5 rows x 39 columns]"
      ]
     },
     "execution_count": 87,
     "metadata": {},
     "output_type": "execute_result"
    }
   ],
   "source": [
    "market_df = pd.concat([market['DMA_Code'],scaled_features, media_features, industry_features, division_features], axis=1)\n",
    "\n",
    "market_df.head()"
   ]
  },
  {
   "cell_type": "markdown",
   "metadata": {},
   "source": [
    "#### Set up base model"
   ]
  },
  {
   "cell_type": "code",
   "execution_count": 88,
   "metadata": {},
   "outputs": [],
   "source": [
    "from sklearn.cluster import KMeans\n",
    "k_means = KMeans(n_clusters=6, random_state=0).fit(market_df)\n",
    "cluster_preds = k_means.predict(market_df)"
   ]
  },
  {
   "cell_type": "markdown",
   "metadata": {},
   "source": [
    "#### Find the best K using Elbow Method\n",
    "\n",
    "For each k value, initialise k-means and use the inertia attribute to identify the sum of squared distances of samples to the nearest cluster centre."
   ]
  },
  {
   "cell_type": "code",
   "execution_count": 89,
   "metadata": {},
   "outputs": [],
   "source": [
    "sum_of_squared_distances = []\n",
    "\n",
    "K = range(1,20)\n",
    "for k in K:\n",
    "    km = KMeans(n_clusters=k)\n",
    "    km = km.fit(market_df)\n",
    "    sum_of_squared_distances.append(km.inertia_)\n",
    "       "
   ]
  },
  {
   "cell_type": "code",
   "execution_count": 90,
   "metadata": {},
   "outputs": [
    {
     "data": {
      "image/png": "[encoded data removed]",
      "text/plain": [
       "<Figure size 432x288 with 1 Axes>"
      ]
     },
     "metadata": {
      "needs_background": "light"
     },
     "output_type": "display_data"
    }
   ],
   "source": [
    "plt.plot(K, sum_of_squared_distances, 'bx-')\n",
    "plt.xlabel('k')\n",
    "plt.ylabel('Sum of Squared Distances to the Nearest Cluster')\n",
    "plt.title('Elbow Method For Optimal k')\n",
    "plt.show()"
   ]
  },
  {
   "cell_type": "markdown",
   "metadata": {},
   "source": [
    "The plot above the elbow looks like 3. Let's check performance of k=3,4, and 5"
   ]
  },
  {
   "cell_type": "code",
   "execution_count": 91,
   "metadata": {},
   "outputs": [
    {
     "data": {
      "text/plain": [
       "<bound method BaseEstimator.get_params of KMeans(algorithm='auto', copy_x=True, init='k-means++', max_iter=300,\n",
       "       n_clusters=3, n_init=10, n_jobs=None, precompute_distances='auto',\n",
       "       random_state=0, tol=0.0001, verbose=0)>"
      ]
     },
     "execution_count": 91,
     "metadata": {},
     "output_type": "execute_result"
    }
   ],
   "source": [
    "from sklearn.cluster import KMeans\n",
    "k_means = KMeans(n_clusters=3, random_state=0).fit(market_df)\n",
    "cluster_preds = k_means.predict(market_df)\n",
    "k_means.get_params"
   ]
  },
  {
   "cell_type": "code",
   "execution_count": 92,
   "metadata": {},
   "outputs": [
    {
     "name": "stdout",
     "output_type": "stream",
     "text": [
      "39451.77110587817\n"
     ]
    }
   ],
   "source": [
    "print(ch_score(market_df, cluster_preds))"
   ]
  },
  {
   "cell_type": "code",
   "execution_count": 93,
   "metadata": {},
   "outputs": [],
   "source": [
    "n_clusters=3"
   ]
  },
  {
   "cell_type": "code",
   "execution_count": 94,
   "metadata": {},
   "outputs": [],
   "source": [
    "k_means_cluster_stats = pd.DataFrame()\n",
    "for i in range(n_clusters):\n",
    "    k_means_cluster_stats['Cluster ' + str(i+1)] = market_df[k_means.labels_ == i].mean(axis=0)\n",
    "      \n",
    "k_means_cluster_stats = k_means_cluster_stats.T"
   ]
  },
  {
   "cell_type": "code",
   "execution_count": 95,
   "metadata": {},
   "outputs": [
    {
     "data": {
      "text/html": [
       "<div>\n",
       "<style scoped>\n",
       "    .dataframe tbody tr th:only-of-type {\n",
       "        vertical-align: middle;\n",
       "    }\n",
       "\n",
       "    .dataframe tbody tr th {\n",
       "        vertical-align: top;\n",
       "    }\n",
       "\n",
       "    .dataframe thead th {\n",
       "        text-align: right;\n",
       "    }\n",
       "</style>\n",
       "<table border=\"1\" class=\"dataframe\">\n",
       "  <thead>\n",
       "    <tr style=\"text-align: right;\">\n",
       "      <th></th>\n",
       "      <th>DMA_Code</th>\n",
       "      <th>Audience Population</th>\n",
       "      <th>BRAND</th>\n",
       "      <th>Company</th>\n",
       "      <th>IsTop31</th>\n",
       "      <th>Spend_K</th>\n",
       "      <th>Hispanic Newsp</th>\n",
       "      <th>Int Display</th>\n",
       "      <th>Local Mags</th>\n",
       "      <th>Local Radio</th>\n",
       "      <th>...</th>\n",
       "      <th>Manufactrg: Mtrls&amp;Equip/Freight/Ind Dev</th>\n",
       "      <th>Media &amp; Advertising</th>\n",
       "      <th>Misc Merchandise</th>\n",
       "      <th>Misc Services &amp; Amusements</th>\n",
       "      <th>Public Transportation, Hotels &amp; Resorts</th>\n",
       "      <th>Retail</th>\n",
       "      <th>Schools, Camps, Seminars</th>\n",
       "      <th>Central</th>\n",
       "      <th>Northeast</th>\n",
       "      <th>West</th>\n",
       "    </tr>\n",
       "  </thead>\n",
       "  <tbody>\n",
       "    <tr>\n",
       "      <td>Cluster 1</td>\n",
       "      <td>534.298432</td>\n",
       "      <td>0.145188</td>\n",
       "      <td>0.066869</td>\n",
       "      <td>0.066869</td>\n",
       "      <td>0.343981</td>\n",
       "      <td>0.001488</td>\n",
       "      <td>0.001183</td>\n",
       "      <td>0.295475</td>\n",
       "      <td>0.001775</td>\n",
       "      <td>0.056492</td>\n",
       "      <td>...</td>\n",
       "      <td>0.020704</td>\n",
       "      <td>0.117125</td>\n",
       "      <td>0.031352</td>\n",
       "      <td>0.087252</td>\n",
       "      <td>0.081337</td>\n",
       "      <td>0.090506</td>\n",
       "      <td>0.035492</td>\n",
       "      <td>0.452529</td>\n",
       "      <td>0.547471</td>\n",
       "      <td>0.000000</td>\n",
       "    </tr>\n",
       "    <tr>\n",
       "      <td>Cluster 2</td>\n",
       "      <td>794.438476</td>\n",
       "      <td>0.158859</td>\n",
       "      <td>0.062066</td>\n",
       "      <td>0.062066</td>\n",
       "      <td>0.358526</td>\n",
       "      <td>0.001993</td>\n",
       "      <td>0.003748</td>\n",
       "      <td>0.237352</td>\n",
       "      <td>0.000625</td>\n",
       "      <td>0.071205</td>\n",
       "      <td>...</td>\n",
       "      <td>0.013741</td>\n",
       "      <td>0.123673</td>\n",
       "      <td>0.024984</td>\n",
       "      <td>0.088070</td>\n",
       "      <td>0.083073</td>\n",
       "      <td>0.090568</td>\n",
       "      <td>0.035603</td>\n",
       "      <td>0.014366</td>\n",
       "      <td>0.000000</td>\n",
       "      <td>0.985634</td>\n",
       "    </tr>\n",
       "    <tr>\n",
       "      <td>Cluster 3</td>\n",
       "      <td>644.221410</td>\n",
       "      <td>0.099743</td>\n",
       "      <td>0.056599</td>\n",
       "      <td>0.056599</td>\n",
       "      <td>0.157782</td>\n",
       "      <td>0.000851</td>\n",
       "      <td>0.001290</td>\n",
       "      <td>0.279020</td>\n",
       "      <td>0.000000</td>\n",
       "      <td>0.042992</td>\n",
       "      <td>...</td>\n",
       "      <td>0.013328</td>\n",
       "      <td>0.130696</td>\n",
       "      <td>0.027945</td>\n",
       "      <td>0.084695</td>\n",
       "      <td>0.082545</td>\n",
       "      <td>0.093723</td>\n",
       "      <td>0.031814</td>\n",
       "      <td>0.424764</td>\n",
       "      <td>0.012038</td>\n",
       "      <td>0.563199</td>\n",
       "    </tr>\n",
       "  </tbody>\n",
       "</table>\n",
       "<p>3 rows × 39 columns</p>\n",
       "</div>"
      ],
      "text/plain": [
       "             DMA_Code  Audience Population     BRAND   Company   IsTop31  \\\n",
       "Cluster 1  534.298432             0.145188  0.066869  0.066869  0.343981   \n",
       "Cluster 2  794.438476             0.158859  0.062066  0.062066  0.358526   \n",
       "Cluster 3  644.221410             0.099743  0.056599  0.056599  0.157782   \n",
       "\n",
       "            Spend_K  Hispanic Newsp  Int Display  Local Mags  Local Radio  \\\n",
       "Cluster 1  0.001488        0.001183     0.295475    0.001775     0.056492   \n",
       "Cluster 2  0.001993        0.003748     0.237352    0.000625     0.071205   \n",
       "Cluster 3  0.000851        0.001290     0.279020    0.000000     0.042992   \n",
       "\n",
       "           ...  Manufactrg: Mtrls&Equip/Freight/Ind Dev  Media & Advertising  \\\n",
       "Cluster 1  ...                                 0.020704             0.117125   \n",
       "Cluster 2  ...                                 0.013741             0.123673   \n",
       "Cluster 3  ...                                 0.013328             0.130696   \n",
       "\n",
       "           Misc Merchandise  Misc Services & Amusements  \\\n",
       "Cluster 1          0.031352                    0.087252   \n",
       "Cluster 2          0.024984                    0.088070   \n",
       "Cluster 3          0.027945                    0.084695   \n",
       "\n",
       "           Public Transportation, Hotels & Resorts    Retail  \\\n",
       "Cluster 1                                 0.081337  0.090506   \n",
       "Cluster 2                                 0.083073  0.090568   \n",
       "Cluster 3                                 0.082545  0.093723   \n",
       "\n",
       "           Schools, Camps, Seminars   Central  Northeast      West  \n",
       "Cluster 1                  0.035492  0.452529   0.547471  0.000000  \n",
       "Cluster 2                  0.035603  0.014366   0.000000  0.985634  \n",
       "Cluster 3                  0.031814  0.424764   0.012038  0.563199  \n",
       "\n",
       "[3 rows x 39 columns]"
      ]
     },
     "execution_count": 95,
     "metadata": {},
     "output_type": "execute_result"
    }
   ],
   "source": [
    "k_means_cluster_stats"
   ]
  },
  {
   "cell_type": "code",
   "execution_count": 96,
   "metadata": {},
   "outputs": [],
   "source": [
    "kmeans_market = market_df.copy()"
   ]
  },
  {
   "cell_type": "code",
   "execution_count": 97,
   "metadata": {},
   "outputs": [],
   "source": [
    "kmeans_market['market_segments']=pd.DataFrame(cluster_preds)"
   ]
  },
  {
   "cell_type": "markdown",
   "metadata": {},
   "source": [
    "### Try Hierachical Agglomerative Clustering"
   ]
  },
  {
   "cell_type": "code",
   "execution_count": 98,
   "metadata": {},
   "outputs": [
    {
     "data": {
      "text/plain": [
       "<bound method BaseEstimator.get_params of AgglomerativeClustering(affinity='euclidean', compute_full_tree='auto',\n",
       "                        connectivity=None, distance_threshold=None,\n",
       "                        linkage='ward', memory=None, n_clusters=2,\n",
       "                        pooling_func='deprecated')>"
      ]
     },
     "execution_count": 98,
     "metadata": {},
     "output_type": "execute_result"
    }
   ],
   "source": [
    "from sklearn.cluster import AgglomerativeClustering\n",
    "\n",
    "agg_clt = AgglomerativeClustering(n_clusters=2, affinity='euclidean')\n",
    "agg_clt.fit(market_df)\n",
    "agg_clt.get_params"
   ]
  },
  {
   "cell_type": "code",
   "execution_count": 99,
   "metadata": {},
   "outputs": [],
   "source": [
    "agg_clt_preds = agg_clt.fit_predict(market_df)"
   ]
  },
  {
   "cell_type": "code",
   "execution_count": 100,
   "metadata": {},
   "outputs": [
    {
     "name": "stdout",
     "output_type": "stream",
     "text": [
      "22359.66911586388\n"
     ]
    }
   ],
   "source": [
    "print(ch_score(market_df, agg_clt_preds))"
   ]
  },
  {
   "cell_type": "markdown",
   "metadata": {},
   "source": [
    "The CH Score is higher for Kmeans clustering. We will stick with Kmeans clusters. "
   ]
  },
  {
   "cell_type": "markdown",
   "metadata": {},
   "source": [
    "### Interpret the Results"
   ]
  },
  {
   "cell_type": "code",
   "execution_count": 109,
   "metadata": {},
   "outputs": [
    {
     "data": {
      "text/plain": [
       "market_segments\n",
       "0    80\n",
       "1    54\n",
       "2    76\n",
       "Name: DMA_Code, dtype: int64"
      ]
     },
     "execution_count": 109,
     "metadata": {},
     "output_type": "execute_result"
    }
   ],
   "source": [
    "#Each DMA should be just in one cluster\n",
    "kmeans_market.groupby('market_segments')['DMA_Code'].nunique()"
   ]
  },
  {
   "cell_type": "code",
   "execution_count": 110,
   "metadata": {},
   "outputs": [],
   "source": [
    "kmeans_market_df = pd.merge(kmeans_market[['DMA_Code','market_segments']], market, left_on='DMA_Code', right_on='DMA_Code')"
   ]
  },
  {
   "cell_type": "code",
   "execution_count": 111,
   "metadata": {},
   "outputs": [
    {
     "name": "stdout",
     "output_type": "stream",
     "text": [
      "<class 'pandas.core.frame.DataFrame'>\n",
      "Int64Index: 376926 entries, 0 to 376925\n",
      "Data columns (total 10 columns):\n",
      "DMA_Code               376926 non-null category\n",
      "market_segments        376926 non-null int32\n",
      "MEDIA                  376926 non-null object\n",
      "INDUSTRY               376926 non-null object\n",
      "Audience Population    376926 non-null int64\n",
      "BRAND                  376926 non-null float64\n",
      "Company                376926 non-null float64\n",
      "IsTop31                376926 non-null float64\n",
      "Spend_K                376926 non-null float64\n",
      "Division_Name          376926 non-null object\n",
      "dtypes: category(1), float64(4), int32(1), int64(1), object(3)\n",
      "memory usage: 28.0+ MB\n"
     ]
    }
   ],
   "source": [
    "kmeans_market_df.info()"
   ]
  },
  {
   "cell_type": "code",
   "execution_count": 112,
   "metadata": {},
   "outputs": [],
   "source": [
    "kmeans_market_df2 = kmeans_market_df.merge(region[['DMA_Code','NIELSEN DMA']], left_on='DMA_Code', right_on='DMA_Code')"
   ]
  },
  {
   "cell_type": "code",
   "execution_count": 113,
   "metadata": {},
   "outputs": [],
   "source": [
    "kmeans_market_df2.to_csv(\"market_clusters_results.csv\")"
   ]
  },
  {
   "cell_type": "code",
   "execution_count": 114,
   "metadata": {},
   "outputs": [
    {
     "data": {
      "text/plain": [
       "<matplotlib.axes._subplots.AxesSubplot at 0x1ed4b0f6988>"
      ]
     },
     "execution_count": 114,
     "metadata": {},
     "output_type": "execute_result"
    },
    {
     "data": {
      "image/png": "[encoded data removed]",
      "text/plain": [
       "<Figure size 432x288 with 1 Axes>"
      ]
     },
     "metadata": {
      "needs_background": "light"
     },
     "output_type": "display_data"
    }
   ],
   "source": [
    "plt.title('Average Local Spend in 3 Segments')\n",
    "plt.xlabel(['1','2','3'])\n",
    "kmeans_market_df2.groupby('market_segments')['Spend_K'].mean().plot.bar()"
   ]
  },
  {
   "cell_type": "code",
   "execution_count": 115,
   "metadata": {},
   "outputs": [
    {
     "data": {
      "text/plain": [
       "<matplotlib.axes._subplots.AxesSubplot at 0x1ed48d9fcc8>"
      ]
     },
     "execution_count": 115,
     "metadata": {},
     "output_type": "execute_result"
    },
    {
     "data": {
      "image/png": "[encoded data removed]",
      "text/plain": [
       "<Figure size 432x288 with 1 Axes>"
      ]
     },
     "metadata": {
      "needs_background": "light"
     },
     "output_type": "display_data"
    }
   ],
   "source": [
    "plt.title('Median Local Spend in 3 Segments')\n",
    "kmeans_market_df2.groupby('market_segments')['Spend_K'].median().plot.bar()"
   ]
  },
  {
   "cell_type": "code",
   "execution_count": 116,
   "metadata": {},
   "outputs": [
    {
     "data": {
      "text/plain": [
       "<matplotlib.axes._subplots.AxesSubplot at 0x1ed48e05288>"
      ]
     },
     "execution_count": 116,
     "metadata": {},
     "output_type": "execute_result"
    },
    {
     "data": {
      "image/png": "[encoded data removed]",
      "text/plain": [
       "<Figure size 432x288 with 1 Axes>"
      ]
     },
     "metadata": {
      "needs_background": "light"
     },
     "output_type": "display_data"
    }
   ],
   "source": [
    "plt.title('Average Population in 3 Segments')\n",
    "kmeans_market_df2.groupby('market_segments')['Audience Population'].mean().plot.bar()"
   ]
  },
  {
   "cell_type": "code",
   "execution_count": 117,
   "metadata": {},
   "outputs": [
    {
     "data": {
      "text/html": [
       "<div>\n",
       "<style scoped>\n",
       "    .dataframe tbody tr th:only-of-type {\n",
       "        vertical-align: middle;\n",
       "    }\n",
       "\n",
       "    .dataframe tbody tr th {\n",
       "        vertical-align: top;\n",
       "    }\n",
       "\n",
       "    .dataframe thead th {\n",
       "        text-align: right;\n",
       "    }\n",
       "</style>\n",
       "<table border=\"1\" class=\"dataframe\">\n",
       "  <thead>\n",
       "    <tr style=\"text-align: right;\">\n",
       "      <th></th>\n",
       "      <th>Audience Population</th>\n",
       "      <th>Company</th>\n",
       "      <th>Spend_K</th>\n",
       "    </tr>\n",
       "    <tr>\n",
       "      <th>market_segments</th>\n",
       "      <th></th>\n",
       "      <th></th>\n",
       "      <th></th>\n",
       "    </tr>\n",
       "  </thead>\n",
       "  <tbody>\n",
       "    <tr>\n",
       "      <td>0</td>\n",
       "      <td>4.088045e+06</td>\n",
       "      <td>7421173.0</td>\n",
       "      <td>183.904139</td>\n",
       "    </tr>\n",
       "    <tr>\n",
       "      <td>1</td>\n",
       "      <td>4.421629e+06</td>\n",
       "      <td>2673406.0</td>\n",
       "      <td>207.960846</td>\n",
       "    </tr>\n",
       "    <tr>\n",
       "      <td>2</td>\n",
       "      <td>2.739148e+06</td>\n",
       "      <td>3008325.0</td>\n",
       "      <td>91.643453</td>\n",
       "    </tr>\n",
       "  </tbody>\n",
       "</table>\n",
       "</div>"
      ],
      "text/plain": [
       "                 Audience Population    Company     Spend_K\n",
       "market_segments                                            \n",
       "0                       4.088045e+06  7421173.0  183.904139\n",
       "1                       4.421629e+06  2673406.0  207.960846\n",
       "2                       2.739148e+06  3008325.0   91.643453"
      ]
     },
     "execution_count": 117,
     "metadata": {},
     "output_type": "execute_result"
    }
   ],
   "source": [
    "kmeans_market_df2.groupby('market_segments').agg({'Audience Population':np.mean, 'Company':np.sum, 'Spend_K':np.mean})"
   ]
  },
  {
   "cell_type": "code",
   "execution_count": null,
   "metadata": {},
   "outputs": [],
   "source": []
  }
 ],
 "metadata": {
  "kernelspec": {
   "display_name": "Python 3",
   "language": "python",
   "name": "python3"
  },
  "language_info": {
   "codemirror_mode": {
    "name": "ipython",
    "version": 3
   },
   "file_extension": ".py",
   "mimetype": "text/x-python",
   "name": "python",
   "nbconvert_exporter": "python",
   "pygments_lexer": "ipython3",
   "version": "3.7.4"
  }
 },
 "nbformat": 4,
 "nbformat_minor": 2
}
