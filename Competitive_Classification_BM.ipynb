{
 "cells": [
  {
   "cell_type": "markdown",
   "metadata": {},
   "source": [
    "## Goal: Build a classification model to predict spend range for tech companies"
   ]
  },
  {
   "cell_type": "markdown",
   "metadata": {},
   "source": [
    "## Import Libraries and Data"
   ]
  },
  {
   "cell_type": "code",
   "execution_count": 1,
   "metadata": {},
   "outputs": [],
   "source": [
    "import pandas as pd\n",
    "import numpy as np\n",
    "np.random.seed(0)\n",
    "import matplotlib.pyplot as plt\n",
    "import seaborn as sns\n",
    "\n",
    "from sklearn.model_selection import train_test_split, GridSearchCV, cross_val_score, cross_validate\n",
    "from sklearn.metrics import accuracy_score, confusion_matrix, classification_report\n",
    "from sklearn.tree import DecisionTreeClassifier\n",
    "from sklearn.ensemble import BaggingClassifier, RandomForestClassifier\n",
    "from sklearn.decomposition import PCA"
   ]
  },
  {
   "cell_type": "code",
   "execution_count": 2,
   "metadata": {},
   "outputs": [],
   "source": [
    "comp = pd.read_csv(\"competitive_master.csv\")"
   ]
  },
  {
   "cell_type": "code",
   "execution_count": 3,
   "metadata": {},
   "outputs": [
    {
     "data": {
      "text/html": [
       "<div>\n",
       "<style scoped>\n",
       "    .dataframe tbody tr th:only-of-type {\n",
       "        vertical-align: middle;\n",
       "    }\n",
       "\n",
       "    .dataframe tbody tr th {\n",
       "        vertical-align: top;\n",
       "    }\n",
       "\n",
       "    .dataframe thead th {\n",
       "        text-align: right;\n",
       "    }\n",
       "</style>\n",
       "<table border=\"1\" class=\"dataframe\">\n",
       "  <thead>\n",
       "    <tr style=\"text-align: right;\">\n",
       "      <th></th>\n",
       "      <th>Unnamed: 0</th>\n",
       "      <th>Rank</th>\n",
       "      <th>Revenue_Billion</th>\n",
       "      <th>Financial Year</th>\n",
       "      <th>Employees</th>\n",
       "      <th>Market cap_Billion</th>\n",
       "      <th>Founded</th>\n",
       "      <th>DMA_Code</th>\n",
       "      <th>IsTop31</th>\n",
       "      <th>Total Persons 12+</th>\n",
       "      <th>Month</th>\n",
       "      <th>Spend_K</th>\n",
       "      <th>Year</th>\n",
       "    </tr>\n",
       "  </thead>\n",
       "  <tbody>\n",
       "    <tr>\n",
       "      <td>count</td>\n",
       "      <td>2.159350e+05</td>\n",
       "      <td>215935.000000</td>\n",
       "      <td>215935.000000</td>\n",
       "      <td>215935.000000</td>\n",
       "      <td>215935.000000</td>\n",
       "      <td>212657.000000</td>\n",
       "      <td>215935.000000</td>\n",
       "      <td>215935.000000</td>\n",
       "      <td>215935.000000</td>\n",
       "      <td>2.159350e+05</td>\n",
       "      <td>215935.000000</td>\n",
       "      <td>215935.000000</td>\n",
       "      <td>215935.000000</td>\n",
       "    </tr>\n",
       "    <tr>\n",
       "      <td>mean</td>\n",
       "      <td>5.492127e+05</td>\n",
       "      <td>9.805923</td>\n",
       "      <td>114.270432</td>\n",
       "      <td>2017.988617</td>\n",
       "      <td>247026.083641</td>\n",
       "      <td>533.907453</td>\n",
       "      <td>1997.172256</td>\n",
       "      <td>590.466909</td>\n",
       "      <td>0.317308</td>\n",
       "      <td>1.812687e+07</td>\n",
       "      <td>6.893510</td>\n",
       "      <td>44.377307</td>\n",
       "      <td>2018.472230</td>\n",
       "    </tr>\n",
       "    <tr>\n",
       "      <td>std</td>\n",
       "      <td>2.986108e+05</td>\n",
       "      <td>12.567042</td>\n",
       "      <td>108.225244</td>\n",
       "      <td>0.106083</td>\n",
       "      <td>290389.640669</td>\n",
       "      <td>415.688519</td>\n",
       "      <td>6.668268</td>\n",
       "      <td>177.225032</td>\n",
       "      <td>0.465430</td>\n",
       "      <td>6.331413e+07</td>\n",
       "      <td>3.438027</td>\n",
       "      <td>708.473195</td>\n",
       "      <td>0.499229</td>\n",
       "    </tr>\n",
       "    <tr>\n",
       "      <td>min</td>\n",
       "      <td>0.000000e+00</td>\n",
       "      <td>1.000000</td>\n",
       "      <td>1.050000</td>\n",
       "      <td>2017.000000</td>\n",
       "      <td>1700.000000</td>\n",
       "      <td>0.300000</td>\n",
       "      <td>1981.000000</td>\n",
       "      <td>0.000000</td>\n",
       "      <td>0.000000</td>\n",
       "      <td>8.100000e+03</td>\n",
       "      <td>1.000000</td>\n",
       "      <td>0.000000</td>\n",
       "      <td>2018.000000</td>\n",
       "    </tr>\n",
       "    <tr>\n",
       "      <td>25%</td>\n",
       "      <td>3.040425e+05</td>\n",
       "      <td>1.000000</td>\n",
       "      <td>10.500000</td>\n",
       "      <td>2018.000000</td>\n",
       "      <td>20000.000000</td>\n",
       "      <td>100.400000</td>\n",
       "      <td>1994.000000</td>\n",
       "      <td>524.000000</td>\n",
       "      <td>0.000000</td>\n",
       "      <td>8.832000e+05</td>\n",
       "      <td>4.000000</td>\n",
       "      <td>0.000000</td>\n",
       "      <td>2018.000000</td>\n",
       "    </tr>\n",
       "    <tr>\n",
       "      <td>50%</td>\n",
       "      <td>5.497940e+05</td>\n",
       "      <td>2.000000</td>\n",
       "      <td>120.800000</td>\n",
       "      <td>2018.000000</td>\n",
       "      <td>103549.000000</td>\n",
       "      <td>791.010000</td>\n",
       "      <td>1998.000000</td>\n",
       "      <td>577.000000</td>\n",
       "      <td>0.000000</td>\n",
       "      <td>1.991600e+06</td>\n",
       "      <td>7.000000</td>\n",
       "      <td>0.000000</td>\n",
       "      <td>2018.000000</td>\n",
       "    </tr>\n",
       "    <tr>\n",
       "      <td>75%</td>\n",
       "      <td>8.135210e+05</td>\n",
       "      <td>15.000000</td>\n",
       "      <td>253.900000</td>\n",
       "      <td>2018.000000</td>\n",
       "      <td>647500.000000</td>\n",
       "      <td>972.340000</td>\n",
       "      <td>1999.000000</td>\n",
       "      <td>679.000000</td>\n",
       "      <td>1.000000</td>\n",
       "      <td>4.226900e+06</td>\n",
       "      <td>10.000000</td>\n",
       "      <td>0.300000</td>\n",
       "      <td>2019.000000</td>\n",
       "    </tr>\n",
       "    <tr>\n",
       "      <td>max</td>\n",
       "      <td>1.037422e+06</td>\n",
       "      <td>53.000000</td>\n",
       "      <td>253.900000</td>\n",
       "      <td>2018.000000</td>\n",
       "      <td>647500.000000</td>\n",
       "      <td>972.340000</td>\n",
       "      <td>2011.000000</td>\n",
       "      <td>881.000000</td>\n",
       "      <td>1.000000</td>\n",
       "      <td>2.816179e+08</td>\n",
       "      <td>12.000000</td>\n",
       "      <td>91324.500000</td>\n",
       "      <td>2019.000000</td>\n",
       "    </tr>\n",
       "  </tbody>\n",
       "</table>\n",
       "</div>"
      ],
      "text/plain": [
       "         Unnamed: 0           Rank  Revenue_Billion  Financial Year  \\\n",
       "count  2.159350e+05  215935.000000    215935.000000   215935.000000   \n",
       "mean   5.492127e+05       9.805923       114.270432     2017.988617   \n",
       "std    2.986108e+05      12.567042       108.225244        0.106083   \n",
       "min    0.000000e+00       1.000000         1.050000     2017.000000   \n",
       "25%    3.040425e+05       1.000000        10.500000     2018.000000   \n",
       "50%    5.497940e+05       2.000000       120.800000     2018.000000   \n",
       "75%    8.135210e+05      15.000000       253.900000     2018.000000   \n",
       "max    1.037422e+06      53.000000       253.900000     2018.000000   \n",
       "\n",
       "           Employees  Market cap_Billion        Founded       DMA_Code  \\\n",
       "count  215935.000000       212657.000000  215935.000000  215935.000000   \n",
       "mean   247026.083641          533.907453    1997.172256     590.466909   \n",
       "std    290389.640669          415.688519       6.668268     177.225032   \n",
       "min      1700.000000            0.300000    1981.000000       0.000000   \n",
       "25%     20000.000000          100.400000    1994.000000     524.000000   \n",
       "50%    103549.000000          791.010000    1998.000000     577.000000   \n",
       "75%    647500.000000          972.340000    1999.000000     679.000000   \n",
       "max    647500.000000          972.340000    2011.000000     881.000000   \n",
       "\n",
       "             IsTop31   Total Persons 12+           Month        Spend_K  \\\n",
       "count  215935.000000         2.159350e+05  215935.000000  215935.000000   \n",
       "mean        0.317308         1.812687e+07       6.893510      44.377307   \n",
       "std         0.465430         6.331413e+07       3.438027     708.473195   \n",
       "min         0.000000         8.100000e+03       1.000000       0.000000   \n",
       "25%         0.000000         8.832000e+05       4.000000       0.000000   \n",
       "50%         0.000000         1.991600e+06       7.000000       0.000000   \n",
       "75%         1.000000         4.226900e+06      10.000000       0.300000   \n",
       "max         1.000000         2.816179e+08      12.000000   91324.500000   \n",
       "\n",
       "                Year  \n",
       "count  215935.000000  \n",
       "mean     2018.472230  \n",
       "std         0.499229  \n",
       "min      2018.000000  \n",
       "25%      2018.000000  \n",
       "50%      2018.000000  \n",
       "75%      2019.000000  \n",
       "max      2019.000000  "
      ]
     },
     "execution_count": 3,
     "metadata": {},
     "output_type": "execute_result"
    }
   ],
   "source": [
    "comp.describe()"
   ]
  },
  {
   "cell_type": "code",
   "execution_count": 4,
   "metadata": {},
   "outputs": [
    {
     "data": {
      "text/plain": [
       "Index(['Unnamed: 0', 'INDUSTRY', 'PARENT', 'ADVERTISER', 'BRAND', 'MARKET',\n",
       "       'MEDIA', 'Company', 'Rank', 'Revenue_Billion', 'Financial Year',\n",
       "       'Employees', 'Market cap_Billion', 'Founded', 'DMA_Code', 'NIELSEN DMA',\n",
       "       'Region_Name', 'Division_Name', 'IsTop31', ' Total Persons 12+ ',\n",
       "       'Month', 'Spend_K', 'Year'],\n",
       "      dtype='object')"
      ]
     },
     "execution_count": 4,
     "metadata": {},
     "output_type": "execute_result"
    }
   ],
   "source": [
    "comp.columns"
   ]
  },
  {
   "cell_type": "code",
   "execution_count": 5,
   "metadata": {},
   "outputs": [],
   "source": [
    "comp=comp.drop('Unnamed: 0', axis=1)"
   ]
  },
  {
   "cell_type": "code",
   "execution_count": 6,
   "metadata": {},
   "outputs": [],
   "source": [
    "comp=comp.rename(columns={\" Total Persons 12+ \":\"Audience Population\"})"
   ]
  },
  {
   "cell_type": "markdown",
   "metadata": {},
   "source": [
    "## Data Exploration"
   ]
  },
  {
   "cell_type": "code",
   "execution_count": 7,
   "metadata": {},
   "outputs": [
    {
     "data": {
      "text/plain": [
       "<matplotlib.axes._subplots.AxesSubplot at 0x249263bfdc8>"
      ]
     },
     "execution_count": 7,
     "metadata": {},
     "output_type": "execute_result"
    },
    {
     "data": {
      "image/png": "[encoded data removed]",
      "text/plain": [
       "<Figure size 432x288 with 1 Axes>"
      ]
     },
     "metadata": {
      "needs_background": "light"
     },
     "output_type": "display_data"
    }
   ],
   "source": [
    "#Competitor's National Advertising Spend Rank\n",
    "\n",
    "comp[comp['DMA_Code']==0].groupby(['Company'])['Spend_K'].sum().sort_values(ascending=False).plot.bar()"
   ]
  },
  {
   "cell_type": "code",
   "execution_count": 8,
   "metadata": {},
   "outputs": [],
   "source": [
    "national_spend = comp[(comp['DMA_Code']==0) & (comp['Year']==2018)].groupby(['Company'])['Spend_K'].sum()\n",
    "avg_revenue = comp[comp['Year']==2018].groupby(['Company'])['Revenue_Billion'].mean()\n",
    "nat_spend_revenue_ratio = national_spend/avg_revenue/1000000"
   ]
  },
  {
   "cell_type": "code",
   "execution_count": 9,
   "metadata": {},
   "outputs": [
    {
     "data": {
      "text/plain": [
       "Company\n",
       "Adobe          0.013870\n",
       "Airbnb.com     0.020704\n",
       "Amazon         0.004741\n",
       "Angies List    0.029709\n",
       "Bloomberg      0.001041\n",
       "dtype: float64"
      ]
     },
     "execution_count": 9,
     "metadata": {},
     "output_type": "execute_result"
    }
   ],
   "source": [
    "nat_spend_revenue_ratio.head()"
   ]
  },
  {
   "cell_type": "code",
   "execution_count": 10,
   "metadata": {},
   "outputs": [
    {
     "data": {
      "text/plain": [
       "<matplotlib.axes._subplots.AxesSubplot at 0x2492516cb88>"
      ]
     },
     "execution_count": 10,
     "metadata": {},
     "output_type": "execute_result"
    },
    {
     "data": {
      "image/png": "[encoded data removed]",
      "text/plain": [
       "<Figure size 864x576 with 1 Axes>"
      ]
     },
     "metadata": {
      "needs_background": "light"
     },
     "output_type": "display_data"
    }
   ],
   "source": [
    "nat_spend_revenue_ratio.plot.bar(figsize=(12,8),title='2018 National Advertising Spend/Revenue Ratio')"
   ]
  },
  {
   "cell_type": "code",
   "execution_count": 11,
   "metadata": {},
   "outputs": [
    {
     "data": {
      "text/plain": [
       "<matplotlib.axes._subplots.AxesSubplot at 0x2492546c688>"
      ]
     },
     "execution_count": 11,
     "metadata": {},
     "output_type": "execute_result"
    },
    {
     "data": {
      "image/png": "[encoded data removed]",
      "text/plain": [
       "<Figure size 864x576 with 1 Axes>"
      ]
     },
     "metadata": {
      "needs_background": "light"
     },
     "output_type": "display_data"
    }
   ],
   "source": [
    "local_spend = comp[(comp['DMA_Code']!=0) & (comp['Year']==2018)].groupby(['Company'])['Spend_K'].sum()\n",
    "avg_revenue = comp[comp['Year']==2018].groupby(['Company'])['Revenue_Billion'].mean()\n",
    "local_spend_revenue_ratio = local_spend/avg_revenue/1000000\n",
    "local_spend_revenue_ratio.plot.bar(figsize=(12,8),title='2018 Local Advertising Spend/Revenue Ratio')"
   ]
  },
  {
   "cell_type": "markdown",
   "metadata": {},
   "source": [
    "Insight: TripAdvisor spent largest % of their revenue in National advertising, while Lyft, Uber and Netflix spent more in local markets because their marketing efforts are more market-diven"
   ]
  },
  {
   "cell_type": "code",
   "execution_count": 12,
   "metadata": {},
   "outputs": [
    {
     "data": {
      "text/plain": [
       "Text(0.5, 1.0, 'Annual Revenue')"
      ]
     },
     "execution_count": 12,
     "metadata": {},
     "output_type": "execute_result"
    },
    {
     "data": {
      "image/png": "[encoded data removed]",
      "text/plain": [
       "<Figure size 864x576 with 1 Axes>"
      ]
     },
     "metadata": {
      "needs_background": "light"
     },
     "output_type": "display_data"
    }
   ],
   "source": [
    "plt.figure(figsize=(12,8))\n",
    "sns.set(style='whitegrid')\n",
    "ax = sns.barplot(y='Company', x='Revenue_Billion', data=comp)\n",
    "plt.title('Annual Revenue')"
   ]
  },
  {
   "cell_type": "markdown",
   "metadata": {},
   "source": [
    "Add more charts on Media Mix, Market Distribution later"
   ]
  },
  {
   "cell_type": "markdown",
   "metadata": {},
   "source": [
    "\n",
    "## Data Processing"
   ]
  },
  {
   "cell_type": "code",
   "execution_count": 13,
   "metadata": {},
   "outputs": [
    {
     "data": {
      "text/html": [
       "<div>\n",
       "<style scoped>\n",
       "    .dataframe tbody tr th:only-of-type {\n",
       "        vertical-align: middle;\n",
       "    }\n",
       "\n",
       "    .dataframe tbody tr th {\n",
       "        vertical-align: top;\n",
       "    }\n",
       "\n",
       "    .dataframe thead th {\n",
       "        text-align: right;\n",
       "    }\n",
       "</style>\n",
       "<table border=\"1\" class=\"dataframe\">\n",
       "  <thead>\n",
       "    <tr style=\"text-align: right;\">\n",
       "      <th></th>\n",
       "      <th>Rank</th>\n",
       "      <th>Revenue_Billion</th>\n",
       "      <th>Financial Year</th>\n",
       "      <th>Employees</th>\n",
       "      <th>Market cap_Billion</th>\n",
       "      <th>Founded</th>\n",
       "      <th>DMA_Code</th>\n",
       "      <th>IsTop31</th>\n",
       "      <th>Audience Population</th>\n",
       "      <th>Month</th>\n",
       "      <th>Spend_K</th>\n",
       "      <th>Year</th>\n",
       "    </tr>\n",
       "  </thead>\n",
       "  <tbody>\n",
       "    <tr>\n",
       "      <td>count</td>\n",
       "      <td>215935.000000</td>\n",
       "      <td>215935.000000</td>\n",
       "      <td>215935.000000</td>\n",
       "      <td>215935.000000</td>\n",
       "      <td>212657.000000</td>\n",
       "      <td>215935.000000</td>\n",
       "      <td>215935.000000</td>\n",
       "      <td>215935.000000</td>\n",
       "      <td>2.159350e+05</td>\n",
       "      <td>215935.000000</td>\n",
       "      <td>215935.000000</td>\n",
       "      <td>215935.000000</td>\n",
       "    </tr>\n",
       "    <tr>\n",
       "      <td>mean</td>\n",
       "      <td>9.805923</td>\n",
       "      <td>114.270432</td>\n",
       "      <td>2017.988617</td>\n",
       "      <td>247026.083641</td>\n",
       "      <td>533.907453</td>\n",
       "      <td>1997.172256</td>\n",
       "      <td>590.466909</td>\n",
       "      <td>0.317308</td>\n",
       "      <td>1.812687e+07</td>\n",
       "      <td>6.893510</td>\n",
       "      <td>44.377307</td>\n",
       "      <td>2018.472230</td>\n",
       "    </tr>\n",
       "    <tr>\n",
       "      <td>std</td>\n",
       "      <td>12.567042</td>\n",
       "      <td>108.225244</td>\n",
       "      <td>0.106083</td>\n",
       "      <td>290389.640669</td>\n",
       "      <td>415.688519</td>\n",
       "      <td>6.668268</td>\n",
       "      <td>177.225032</td>\n",
       "      <td>0.465430</td>\n",
       "      <td>6.331413e+07</td>\n",
       "      <td>3.438027</td>\n",
       "      <td>708.473195</td>\n",
       "      <td>0.499229</td>\n",
       "    </tr>\n",
       "    <tr>\n",
       "      <td>min</td>\n",
       "      <td>1.000000</td>\n",
       "      <td>1.050000</td>\n",
       "      <td>2017.000000</td>\n",
       "      <td>1700.000000</td>\n",
       "      <td>0.300000</td>\n",
       "      <td>1981.000000</td>\n",
       "      <td>0.000000</td>\n",
       "      <td>0.000000</td>\n",
       "      <td>8.100000e+03</td>\n",
       "      <td>1.000000</td>\n",
       "      <td>0.000000</td>\n",
       "      <td>2018.000000</td>\n",
       "    </tr>\n",
       "    <tr>\n",
       "      <td>25%</td>\n",
       "      <td>1.000000</td>\n",
       "      <td>10.500000</td>\n",
       "      <td>2018.000000</td>\n",
       "      <td>20000.000000</td>\n",
       "      <td>100.400000</td>\n",
       "      <td>1994.000000</td>\n",
       "      <td>524.000000</td>\n",
       "      <td>0.000000</td>\n",
       "      <td>8.832000e+05</td>\n",
       "      <td>4.000000</td>\n",
       "      <td>0.000000</td>\n",
       "      <td>2018.000000</td>\n",
       "    </tr>\n",
       "    <tr>\n",
       "      <td>50%</td>\n",
       "      <td>2.000000</td>\n",
       "      <td>120.800000</td>\n",
       "      <td>2018.000000</td>\n",
       "      <td>103549.000000</td>\n",
       "      <td>791.010000</td>\n",
       "      <td>1998.000000</td>\n",
       "      <td>577.000000</td>\n",
       "      <td>0.000000</td>\n",
       "      <td>1.991600e+06</td>\n",
       "      <td>7.000000</td>\n",
       "      <td>0.000000</td>\n",
       "      <td>2018.000000</td>\n",
       "    </tr>\n",
       "    <tr>\n",
       "      <td>75%</td>\n",
       "      <td>15.000000</td>\n",
       "      <td>253.900000</td>\n",
       "      <td>2018.000000</td>\n",
       "      <td>647500.000000</td>\n",
       "      <td>972.340000</td>\n",
       "      <td>1999.000000</td>\n",
       "      <td>679.000000</td>\n",
       "      <td>1.000000</td>\n",
       "      <td>4.226900e+06</td>\n",
       "      <td>10.000000</td>\n",
       "      <td>0.300000</td>\n",
       "      <td>2019.000000</td>\n",
       "    </tr>\n",
       "    <tr>\n",
       "      <td>max</td>\n",
       "      <td>53.000000</td>\n",
       "      <td>253.900000</td>\n",
       "      <td>2018.000000</td>\n",
       "      <td>647500.000000</td>\n",
       "      <td>972.340000</td>\n",
       "      <td>2011.000000</td>\n",
       "      <td>881.000000</td>\n",
       "      <td>1.000000</td>\n",
       "      <td>2.816179e+08</td>\n",
       "      <td>12.000000</td>\n",
       "      <td>91324.500000</td>\n",
       "      <td>2019.000000</td>\n",
       "    </tr>\n",
       "  </tbody>\n",
       "</table>\n",
       "</div>"
      ],
      "text/plain": [
       "                Rank  Revenue_Billion  Financial Year      Employees  \\\n",
       "count  215935.000000    215935.000000   215935.000000  215935.000000   \n",
       "mean        9.805923       114.270432     2017.988617  247026.083641   \n",
       "std        12.567042       108.225244        0.106083  290389.640669   \n",
       "min         1.000000         1.050000     2017.000000    1700.000000   \n",
       "25%         1.000000        10.500000     2018.000000   20000.000000   \n",
       "50%         2.000000       120.800000     2018.000000  103549.000000   \n",
       "75%        15.000000       253.900000     2018.000000  647500.000000   \n",
       "max        53.000000       253.900000     2018.000000  647500.000000   \n",
       "\n",
       "       Market cap_Billion        Founded       DMA_Code        IsTop31  \\\n",
       "count       212657.000000  215935.000000  215935.000000  215935.000000   \n",
       "mean           533.907453    1997.172256     590.466909       0.317308   \n",
       "std            415.688519       6.668268     177.225032       0.465430   \n",
       "min              0.300000    1981.000000       0.000000       0.000000   \n",
       "25%            100.400000    1994.000000     524.000000       0.000000   \n",
       "50%            791.010000    1998.000000     577.000000       0.000000   \n",
       "75%            972.340000    1999.000000     679.000000       1.000000   \n",
       "max            972.340000    2011.000000     881.000000       1.000000   \n",
       "\n",
       "       Audience Population          Month        Spend_K           Year  \n",
       "count         2.159350e+05  215935.000000  215935.000000  215935.000000  \n",
       "mean          1.812687e+07       6.893510      44.377307    2018.472230  \n",
       "std           6.331413e+07       3.438027     708.473195       0.499229  \n",
       "min           8.100000e+03       1.000000       0.000000    2018.000000  \n",
       "25%           8.832000e+05       4.000000       0.000000    2018.000000  \n",
       "50%           1.991600e+06       7.000000       0.000000    2018.000000  \n",
       "75%           4.226900e+06      10.000000       0.300000    2019.000000  \n",
       "max           2.816179e+08      12.000000   91324.500000    2019.000000  "
      ]
     },
     "execution_count": 13,
     "metadata": {},
     "output_type": "execute_result"
    }
   ],
   "source": [
    "comp.describe()"
   ]
  },
  {
   "cell_type": "code",
   "execution_count": 14,
   "metadata": {},
   "outputs": [
    {
     "data": {
      "text/plain": [
       "Index(['INDUSTRY', 'PARENT', 'ADVERTISER', 'BRAND', 'MARKET', 'MEDIA',\n",
       "       'Company', 'Rank', 'Revenue_Billion', 'Financial Year', 'Employees',\n",
       "       'Market cap_Billion', 'Founded', 'DMA_Code', 'NIELSEN DMA',\n",
       "       'Region_Name', 'Division_Name', 'IsTop31', 'Audience Population',\n",
       "       'Month', 'Spend_K', 'Year'],\n",
       "      dtype='object')"
      ]
     },
     "execution_count": 14,
     "metadata": {},
     "output_type": "execute_result"
    }
   ],
   "source": [
    "comp.columns"
   ]
  },
  {
   "cell_type": "code",
   "execution_count": 15,
   "metadata": {},
   "outputs": [],
   "source": [
    "#Remove Industry, Parent, Advertiser, Brand, Nielsen DMA, Region Name\n",
    "\n",
    "comp_df = pd.pivot_table(comp, values=['BRAND','Rank','Revenue_Billion','Employees','Market cap_Billion','Founded','IsTop31','Audience Population','Spend_K'],\n",
    "                        index = ['Company','DMA_Code','MEDIA','Division_Name','Year','Month'],\n",
    "                        aggfunc={'BRAND':'count', 'Rank':np.mean, 'Revenue_Billion':np.mean, 'Employees':np.mean, 'Market cap_Billion':np.mean, 'Founded':np.mean,'Audience Population': np.mean,'Spend_K':np.sum, 'IsTop31': np.mean })"
   ]
  },
  {
   "cell_type": "code",
   "execution_count": 16,
   "metadata": {},
   "outputs": [],
   "source": [
    "comp_df = comp_df.reset_index()"
   ]
  },
  {
   "cell_type": "markdown",
   "metadata": {},
   "source": [
    "There is a huge gap between National Spend and Local Spend. To get more accurate and reasonable mode, we separate National and Local. "
   ]
  },
  {
   "cell_type": "code",
   "execution_count": 17,
   "metadata": {},
   "outputs": [],
   "source": [
    "#turn DMA_Code, IsTop31 to Categorical values\n",
    "comp_df['DMA_Code'] = comp_df['DMA_Code'].astype('category')\n",
    "comp_df['IsTop31'] = comp_df['IsTop31'].astype('category')"
   ]
  },
  {
   "cell_type": "code",
   "execution_count": 18,
   "metadata": {},
   "outputs": [],
   "source": [
    "#duplicate Rank as Company ID \n",
    "comp_df['Company_ID']=comp_df['Rank'].astype('category')"
   ]
  },
  {
   "cell_type": "code",
   "execution_count": 19,
   "metadata": {},
   "outputs": [],
   "source": [
    "#Create dummies for MEDIA and Division\n",
    "media = pd.get_dummies(comp_df['MEDIA'], prefix='Media')\n",
    "division = pd.get_dummies(comp_df['Division_Name'], prefix='Div')"
   ]
  },
  {
   "cell_type": "code",
   "execution_count": 20,
   "metadata": {},
   "outputs": [],
   "source": [
    "comp_df_new = pd.concat([comp_df, media, division],axis=1)"
   ]
  },
  {
   "cell_type": "code",
   "execution_count": 21,
   "metadata": {},
   "outputs": [
    {
     "data": {
      "text/html": [
       "<div>\n",
       "<style scoped>\n",
       "    .dataframe tbody tr th:only-of-type {\n",
       "        vertical-align: middle;\n",
       "    }\n",
       "\n",
       "    .dataframe tbody tr th {\n",
       "        vertical-align: top;\n",
       "    }\n",
       "\n",
       "    .dataframe thead th {\n",
       "        text-align: right;\n",
       "    }\n",
       "</style>\n",
       "<table border=\"1\" class=\"dataframe\">\n",
       "  <thead>\n",
       "    <tr style=\"text-align: right;\">\n",
       "      <th></th>\n",
       "      <th>Company</th>\n",
       "      <th>DMA_Code</th>\n",
       "      <th>MEDIA</th>\n",
       "      <th>Division_Name</th>\n",
       "      <th>Year</th>\n",
       "      <th>Month</th>\n",
       "      <th>Audience Population</th>\n",
       "      <th>BRAND</th>\n",
       "      <th>Employees</th>\n",
       "      <th>Founded</th>\n",
       "      <th>...</th>\n",
       "      <th>Media_Outdoor</th>\n",
       "      <th>Media_SLN TV</th>\n",
       "      <th>Media_Spot TV</th>\n",
       "      <th>Media_Sunday Mags</th>\n",
       "      <th>Media_Syndication</th>\n",
       "      <th>Div_ALL OTHER</th>\n",
       "      <th>Div_Central</th>\n",
       "      <th>Div_National</th>\n",
       "      <th>Div_Northeast</th>\n",
       "      <th>Div_West</th>\n",
       "    </tr>\n",
       "  </thead>\n",
       "  <tbody>\n",
       "    <tr>\n",
       "      <td>0</td>\n",
       "      <td>Adobe</td>\n",
       "      <td>0</td>\n",
       "      <td>B-to-B</td>\n",
       "      <td>National</td>\n",
       "      <td>2018</td>\n",
       "      <td>1</td>\n",
       "      <td>281617900</td>\n",
       "      <td>1</td>\n",
       "      <td>21200</td>\n",
       "      <td>1982</td>\n",
       "      <td>...</td>\n",
       "      <td>0</td>\n",
       "      <td>0</td>\n",
       "      <td>0</td>\n",
       "      <td>0</td>\n",
       "      <td>0</td>\n",
       "      <td>0</td>\n",
       "      <td>0</td>\n",
       "      <td>1</td>\n",
       "      <td>0</td>\n",
       "      <td>0</td>\n",
       "    </tr>\n",
       "    <tr>\n",
       "      <td>1</td>\n",
       "      <td>Adobe</td>\n",
       "      <td>0</td>\n",
       "      <td>B-to-B</td>\n",
       "      <td>National</td>\n",
       "      <td>2018</td>\n",
       "      <td>4</td>\n",
       "      <td>281617900</td>\n",
       "      <td>1</td>\n",
       "      <td>21200</td>\n",
       "      <td>1982</td>\n",
       "      <td>...</td>\n",
       "      <td>0</td>\n",
       "      <td>0</td>\n",
       "      <td>0</td>\n",
       "      <td>0</td>\n",
       "      <td>0</td>\n",
       "      <td>0</td>\n",
       "      <td>0</td>\n",
       "      <td>1</td>\n",
       "      <td>0</td>\n",
       "      <td>0</td>\n",
       "    </tr>\n",
       "    <tr>\n",
       "      <td>2</td>\n",
       "      <td>Adobe</td>\n",
       "      <td>0</td>\n",
       "      <td>B-to-B</td>\n",
       "      <td>National</td>\n",
       "      <td>2018</td>\n",
       "      <td>8</td>\n",
       "      <td>281617900</td>\n",
       "      <td>1</td>\n",
       "      <td>21200</td>\n",
       "      <td>1982</td>\n",
       "      <td>...</td>\n",
       "      <td>0</td>\n",
       "      <td>0</td>\n",
       "      <td>0</td>\n",
       "      <td>0</td>\n",
       "      <td>0</td>\n",
       "      <td>0</td>\n",
       "      <td>0</td>\n",
       "      <td>1</td>\n",
       "      <td>0</td>\n",
       "      <td>0</td>\n",
       "    </tr>\n",
       "    <tr>\n",
       "      <td>3</td>\n",
       "      <td>Adobe</td>\n",
       "      <td>0</td>\n",
       "      <td>B-to-B</td>\n",
       "      <td>National</td>\n",
       "      <td>2018</td>\n",
       "      <td>9</td>\n",
       "      <td>281617900</td>\n",
       "      <td>1</td>\n",
       "      <td>21200</td>\n",
       "      <td>1982</td>\n",
       "      <td>...</td>\n",
       "      <td>0</td>\n",
       "      <td>0</td>\n",
       "      <td>0</td>\n",
       "      <td>0</td>\n",
       "      <td>0</td>\n",
       "      <td>0</td>\n",
       "      <td>0</td>\n",
       "      <td>1</td>\n",
       "      <td>0</td>\n",
       "      <td>0</td>\n",
       "    </tr>\n",
       "    <tr>\n",
       "      <td>4</td>\n",
       "      <td>Adobe</td>\n",
       "      <td>0</td>\n",
       "      <td>B-to-B</td>\n",
       "      <td>National</td>\n",
       "      <td>2018</td>\n",
       "      <td>10</td>\n",
       "      <td>281617900</td>\n",
       "      <td>1</td>\n",
       "      <td>21200</td>\n",
       "      <td>1982</td>\n",
       "      <td>...</td>\n",
       "      <td>0</td>\n",
       "      <td>0</td>\n",
       "      <td>0</td>\n",
       "      <td>0</td>\n",
       "      <td>0</td>\n",
       "      <td>0</td>\n",
       "      <td>0</td>\n",
       "      <td>1</td>\n",
       "      <td>0</td>\n",
       "      <td>0</td>\n",
       "    </tr>\n",
       "  </tbody>\n",
       "</table>\n",
       "<p>5 rows × 43 columns</p>\n",
       "</div>"
      ],
      "text/plain": [
       "  Company DMA_Code   MEDIA Division_Name  Year  Month  Audience Population  \\\n",
       "0   Adobe        0  B-to-B      National  2018      1            281617900   \n",
       "1   Adobe        0  B-to-B      National  2018      4            281617900   \n",
       "2   Adobe        0  B-to-B      National  2018      8            281617900   \n",
       "3   Adobe        0  B-to-B      National  2018      9            281617900   \n",
       "4   Adobe        0  B-to-B      National  2018     10            281617900   \n",
       "\n",
       "   BRAND  Employees  Founded  ... Media_Outdoor  Media_SLN TV  Media_Spot TV  \\\n",
       "0      1      21200     1982  ...             0             0              0   \n",
       "1      1      21200     1982  ...             0             0              0   \n",
       "2      1      21200     1982  ...             0             0              0   \n",
       "3      1      21200     1982  ...             0             0              0   \n",
       "4      1      21200     1982  ...             0             0              0   \n",
       "\n",
       "   Media_Sunday Mags  Media_Syndication Div_ALL OTHER  Div_Central  \\\n",
       "0                  0                  0             0            0   \n",
       "1                  0                  0             0            0   \n",
       "2                  0                  0             0            0   \n",
       "3                  0                  0             0            0   \n",
       "4                  0                  0             0            0   \n",
       "\n",
       "   Div_National  Div_Northeast  Div_West  \n",
       "0             1              0         0  \n",
       "1             1              0         0  \n",
       "2             1              0         0  \n",
       "3             1              0         0  \n",
       "4             1              0         0  \n",
       "\n",
       "[5 rows x 43 columns]"
      ]
     },
     "execution_count": 21,
     "metadata": {},
     "output_type": "execute_result"
    }
   ],
   "source": [
    "comp_df_new.head()"
   ]
  },
  {
   "cell_type": "markdown",
   "metadata": {},
   "source": [
    "### National Spend data set"
   ]
  },
  {
   "cell_type": "code",
   "execution_count": 22,
   "metadata": {},
   "outputs": [
    {
     "data": {
      "text/html": [
       "<div>\n",
       "<style scoped>\n",
       "    .dataframe tbody tr th:only-of-type {\n",
       "        vertical-align: middle;\n",
       "    }\n",
       "\n",
       "    .dataframe tbody tr th {\n",
       "        vertical-align: top;\n",
       "    }\n",
       "\n",
       "    .dataframe thead th {\n",
       "        text-align: right;\n",
       "    }\n",
       "</style>\n",
       "<table border=\"1\" class=\"dataframe\">\n",
       "  <thead>\n",
       "    <tr style=\"text-align: right;\">\n",
       "      <th></th>\n",
       "      <th>Company</th>\n",
       "      <th>DMA_Code</th>\n",
       "      <th>MEDIA</th>\n",
       "      <th>Division_Name</th>\n",
       "      <th>Year</th>\n",
       "      <th>Month</th>\n",
       "      <th>Audience Population</th>\n",
       "      <th>BRAND</th>\n",
       "      <th>Employees</th>\n",
       "      <th>Founded</th>\n",
       "      <th>...</th>\n",
       "      <th>Media_Outdoor</th>\n",
       "      <th>Media_SLN TV</th>\n",
       "      <th>Media_Spot TV</th>\n",
       "      <th>Media_Sunday Mags</th>\n",
       "      <th>Media_Syndication</th>\n",
       "      <th>Div_ALL OTHER</th>\n",
       "      <th>Div_Central</th>\n",
       "      <th>Div_National</th>\n",
       "      <th>Div_Northeast</th>\n",
       "      <th>Div_West</th>\n",
       "    </tr>\n",
       "  </thead>\n",
       "  <tbody>\n",
       "    <tr>\n",
       "      <td>0</td>\n",
       "      <td>Adobe</td>\n",
       "      <td>0</td>\n",
       "      <td>B-to-B</td>\n",
       "      <td>National</td>\n",
       "      <td>2018</td>\n",
       "      <td>1</td>\n",
       "      <td>281617900</td>\n",
       "      <td>1</td>\n",
       "      <td>21200</td>\n",
       "      <td>1982</td>\n",
       "      <td>...</td>\n",
       "      <td>0</td>\n",
       "      <td>0</td>\n",
       "      <td>0</td>\n",
       "      <td>0</td>\n",
       "      <td>0</td>\n",
       "      <td>0</td>\n",
       "      <td>0</td>\n",
       "      <td>1</td>\n",
       "      <td>0</td>\n",
       "      <td>0</td>\n",
       "    </tr>\n",
       "    <tr>\n",
       "      <td>1</td>\n",
       "      <td>Adobe</td>\n",
       "      <td>0</td>\n",
       "      <td>B-to-B</td>\n",
       "      <td>National</td>\n",
       "      <td>2018</td>\n",
       "      <td>4</td>\n",
       "      <td>281617900</td>\n",
       "      <td>1</td>\n",
       "      <td>21200</td>\n",
       "      <td>1982</td>\n",
       "      <td>...</td>\n",
       "      <td>0</td>\n",
       "      <td>0</td>\n",
       "      <td>0</td>\n",
       "      <td>0</td>\n",
       "      <td>0</td>\n",
       "      <td>0</td>\n",
       "      <td>0</td>\n",
       "      <td>1</td>\n",
       "      <td>0</td>\n",
       "      <td>0</td>\n",
       "    </tr>\n",
       "    <tr>\n",
       "      <td>2</td>\n",
       "      <td>Adobe</td>\n",
       "      <td>0</td>\n",
       "      <td>B-to-B</td>\n",
       "      <td>National</td>\n",
       "      <td>2018</td>\n",
       "      <td>8</td>\n",
       "      <td>281617900</td>\n",
       "      <td>1</td>\n",
       "      <td>21200</td>\n",
       "      <td>1982</td>\n",
       "      <td>...</td>\n",
       "      <td>0</td>\n",
       "      <td>0</td>\n",
       "      <td>0</td>\n",
       "      <td>0</td>\n",
       "      <td>0</td>\n",
       "      <td>0</td>\n",
       "      <td>0</td>\n",
       "      <td>1</td>\n",
       "      <td>0</td>\n",
       "      <td>0</td>\n",
       "    </tr>\n",
       "    <tr>\n",
       "      <td>3</td>\n",
       "      <td>Adobe</td>\n",
       "      <td>0</td>\n",
       "      <td>B-to-B</td>\n",
       "      <td>National</td>\n",
       "      <td>2018</td>\n",
       "      <td>9</td>\n",
       "      <td>281617900</td>\n",
       "      <td>1</td>\n",
       "      <td>21200</td>\n",
       "      <td>1982</td>\n",
       "      <td>...</td>\n",
       "      <td>0</td>\n",
       "      <td>0</td>\n",
       "      <td>0</td>\n",
       "      <td>0</td>\n",
       "      <td>0</td>\n",
       "      <td>0</td>\n",
       "      <td>0</td>\n",
       "      <td>1</td>\n",
       "      <td>0</td>\n",
       "      <td>0</td>\n",
       "    </tr>\n",
       "    <tr>\n",
       "      <td>4</td>\n",
       "      <td>Adobe</td>\n",
       "      <td>0</td>\n",
       "      <td>B-to-B</td>\n",
       "      <td>National</td>\n",
       "      <td>2018</td>\n",
       "      <td>10</td>\n",
       "      <td>281617900</td>\n",
       "      <td>1</td>\n",
       "      <td>21200</td>\n",
       "      <td>1982</td>\n",
       "      <td>...</td>\n",
       "      <td>0</td>\n",
       "      <td>0</td>\n",
       "      <td>0</td>\n",
       "      <td>0</td>\n",
       "      <td>0</td>\n",
       "      <td>0</td>\n",
       "      <td>0</td>\n",
       "      <td>1</td>\n",
       "      <td>0</td>\n",
       "      <td>0</td>\n",
       "    </tr>\n",
       "  </tbody>\n",
       "</table>\n",
       "<p>5 rows × 43 columns</p>\n",
       "</div>"
      ],
      "text/plain": [
       "  Company DMA_Code   MEDIA Division_Name  Year  Month  Audience Population  \\\n",
       "0   Adobe        0  B-to-B      National  2018      1            281617900   \n",
       "1   Adobe        0  B-to-B      National  2018      4            281617900   \n",
       "2   Adobe        0  B-to-B      National  2018      8            281617900   \n",
       "3   Adobe        0  B-to-B      National  2018      9            281617900   \n",
       "4   Adobe        0  B-to-B      National  2018     10            281617900   \n",
       "\n",
       "   BRAND  Employees  Founded  ... Media_Outdoor  Media_SLN TV  Media_Spot TV  \\\n",
       "0      1      21200     1982  ...             0             0              0   \n",
       "1      1      21200     1982  ...             0             0              0   \n",
       "2      1      21200     1982  ...             0             0              0   \n",
       "3      1      21200     1982  ...             0             0              0   \n",
       "4      1      21200     1982  ...             0             0              0   \n",
       "\n",
       "   Media_Sunday Mags  Media_Syndication Div_ALL OTHER  Div_Central  \\\n",
       "0                  0                  0             0            0   \n",
       "1                  0                  0             0            0   \n",
       "2                  0                  0             0            0   \n",
       "3                  0                  0             0            0   \n",
       "4                  0                  0             0            0   \n",
       "\n",
       "   Div_National  Div_Northeast  Div_West  \n",
       "0             1              0         0  \n",
       "1             1              0         0  \n",
       "2             1              0         0  \n",
       "3             1              0         0  \n",
       "4             1              0         0  \n",
       "\n",
       "[5 rows x 43 columns]"
      ]
     },
     "execution_count": 22,
     "metadata": {},
     "output_type": "execute_result"
    }
   ],
   "source": [
    "nat_comp_df = comp_df_new[comp_df_new['DMA_Code']==0]\n",
    "nat_comp_df.head()"
   ]
  },
  {
   "cell_type": "code",
   "execution_count": 23,
   "metadata": {},
   "outputs": [],
   "source": [
    "nat_comp_df = nat_comp_df.drop(columns=['Company','Div_ALL OTHER','Div_Central','Div_National','Div_Northeast','Div_West','Division_Name','MEDIA','DMA_Code'], axis=1)"
   ]
  },
  {
   "cell_type": "markdown",
   "metadata": {},
   "source": [
    "#### Create Bins for Spend_K"
   ]
  },
  {
   "cell_type": "code",
   "execution_count": 24,
   "metadata": {},
   "outputs": [
    {
     "data": {
      "text/plain": [
       "0.0        0.00\n",
       "0.1        6.10\n",
       "0.2       29.48\n",
       "0.3       86.60\n",
       "0.4      192.34\n",
       "0.5      399.95\n",
       "0.6      737.60\n",
       "0.7     1376.33\n",
       "0.8     2490.18\n",
       "0.9     6015.89\n",
       "1.0    92615.30\n",
       "Name: Spend_K, dtype: float64"
      ]
     },
     "execution_count": 24,
     "metadata": {},
     "output_type": "execute_result"
    }
   ],
   "source": [
    "nat_comp_df.Spend_K.quantile(list(np.linspace(0,1,11)))"
   ]
  },
  {
   "cell_type": "code",
   "execution_count": 25,
   "metadata": {},
   "outputs": [],
   "source": [
    "#75% values are between 0 to 12000\n",
    "BINS = [0,10,30,50,80,100,150,200,400,600,800,1000,1500,2000,3000,5000,8000,10000,15000,100000]"
   ]
  },
  {
   "cell_type": "code",
   "execution_count": 26,
   "metadata": {},
   "outputs": [],
   "source": [
    "nat_comp_df['Spend_Bins'] = pd.cut(x=nat_comp_df.Spend_K, bins=BINS, labels=False)"
   ]
  },
  {
   "cell_type": "code",
   "execution_count": 27,
   "metadata": {},
   "outputs": [
    {
     "data": {
      "text/plain": [
       "0        7.0\n",
       "1        0.0\n",
       "2        7.0\n",
       "3        7.0\n",
       "4        9.0\n",
       "        ... \n",
       "95727    0.0\n",
       "95728    0.0\n",
       "95729    0.0\n",
       "95730    0.0\n",
       "95731    1.0\n",
       "Name: Spend_Bins, Length: 3578, dtype: float64"
      ]
     },
     "execution_count": 27,
     "metadata": {},
     "output_type": "execute_result"
    }
   ],
   "source": [
    "nat_comp_df['Spend_Bins']"
   ]
  },
  {
   "cell_type": "code",
   "execution_count": 28,
   "metadata": {},
   "outputs": [],
   "source": [
    "nat_comp_df = nat_comp_df.drop('Spend_K', axis=1)"
   ]
  },
  {
   "cell_type": "code",
   "execution_count": 29,
   "metadata": {
    "scrolled": true
   },
   "outputs": [
    {
     "data": {
      "text/plain": [
       "<matplotlib.axes._subplots.AxesSubplot at 0x24925675088>"
      ]
     },
     "execution_count": 29,
     "metadata": {},
     "output_type": "execute_result"
    },
    {
     "data": {
      "image/png": "[encoded data removed]",
      "text/plain": [
       "<Figure size 432x288 with 1 Axes>"
      ]
     },
     "metadata": {},
     "output_type": "display_data"
    }
   ],
   "source": [
    "nat_comp_df.groupby('Spend_Bins')['BRAND'].count().plot.bar()"
   ]
  },
  {
   "cell_type": "code",
   "execution_count": 30,
   "metadata": {},
   "outputs": [],
   "source": [
    "#Remove all NAs\n",
    "nat_comp_df = nat_comp_df.dropna(how='any')"
   ]
  },
  {
   "cell_type": "markdown",
   "metadata": {},
   "source": [
    "### Local Market Level Spend Data"
   ]
  },
  {
   "cell_type": "code",
   "execution_count": 31,
   "metadata": {},
   "outputs": [
    {
     "data": {
      "text/html": [
       "<div>\n",
       "<style scoped>\n",
       "    .dataframe tbody tr th:only-of-type {\n",
       "        vertical-align: middle;\n",
       "    }\n",
       "\n",
       "    .dataframe tbody tr th {\n",
       "        vertical-align: top;\n",
       "    }\n",
       "\n",
       "    .dataframe thead th {\n",
       "        text-align: right;\n",
       "    }\n",
       "</style>\n",
       "<table border=\"1\" class=\"dataframe\">\n",
       "  <thead>\n",
       "    <tr style=\"text-align: right;\">\n",
       "      <th></th>\n",
       "      <th>Company</th>\n",
       "      <th>DMA_Code</th>\n",
       "      <th>MEDIA</th>\n",
       "      <th>Division_Name</th>\n",
       "      <th>Year</th>\n",
       "      <th>Month</th>\n",
       "      <th>Audience Population</th>\n",
       "      <th>BRAND</th>\n",
       "      <th>Employees</th>\n",
       "      <th>Founded</th>\n",
       "      <th>...</th>\n",
       "      <th>Media_Outdoor</th>\n",
       "      <th>Media_SLN TV</th>\n",
       "      <th>Media_Spot TV</th>\n",
       "      <th>Media_Sunday Mags</th>\n",
       "      <th>Media_Syndication</th>\n",
       "      <th>Div_ALL OTHER</th>\n",
       "      <th>Div_Central</th>\n",
       "      <th>Div_National</th>\n",
       "      <th>Div_Northeast</th>\n",
       "      <th>Div_West</th>\n",
       "    </tr>\n",
       "  </thead>\n",
       "  <tbody>\n",
       "    <tr>\n",
       "      <td>118</td>\n",
       "      <td>Adobe</td>\n",
       "      <td>500</td>\n",
       "      <td>Int Display</td>\n",
       "      <td>Northeast</td>\n",
       "      <td>2018</td>\n",
       "      <td>1</td>\n",
       "      <td>892300</td>\n",
       "      <td>5</td>\n",
       "      <td>21200</td>\n",
       "      <td>1982</td>\n",
       "      <td>...</td>\n",
       "      <td>0</td>\n",
       "      <td>0</td>\n",
       "      <td>0</td>\n",
       "      <td>0</td>\n",
       "      <td>0</td>\n",
       "      <td>0</td>\n",
       "      <td>0</td>\n",
       "      <td>0</td>\n",
       "      <td>1</td>\n",
       "      <td>0</td>\n",
       "    </tr>\n",
       "    <tr>\n",
       "      <td>119</td>\n",
       "      <td>Adobe</td>\n",
       "      <td>500</td>\n",
       "      <td>Int Display</td>\n",
       "      <td>Northeast</td>\n",
       "      <td>2018</td>\n",
       "      <td>2</td>\n",
       "      <td>892300</td>\n",
       "      <td>6</td>\n",
       "      <td>21200</td>\n",
       "      <td>1982</td>\n",
       "      <td>...</td>\n",
       "      <td>0</td>\n",
       "      <td>0</td>\n",
       "      <td>0</td>\n",
       "      <td>0</td>\n",
       "      <td>0</td>\n",
       "      <td>0</td>\n",
       "      <td>0</td>\n",
       "      <td>0</td>\n",
       "      <td>1</td>\n",
       "      <td>0</td>\n",
       "    </tr>\n",
       "    <tr>\n",
       "      <td>120</td>\n",
       "      <td>Adobe</td>\n",
       "      <td>500</td>\n",
       "      <td>Int Display</td>\n",
       "      <td>Northeast</td>\n",
       "      <td>2018</td>\n",
       "      <td>3</td>\n",
       "      <td>892300</td>\n",
       "      <td>6</td>\n",
       "      <td>21200</td>\n",
       "      <td>1982</td>\n",
       "      <td>...</td>\n",
       "      <td>0</td>\n",
       "      <td>0</td>\n",
       "      <td>0</td>\n",
       "      <td>0</td>\n",
       "      <td>0</td>\n",
       "      <td>0</td>\n",
       "      <td>0</td>\n",
       "      <td>0</td>\n",
       "      <td>1</td>\n",
       "      <td>0</td>\n",
       "    </tr>\n",
       "    <tr>\n",
       "      <td>121</td>\n",
       "      <td>Adobe</td>\n",
       "      <td>500</td>\n",
       "      <td>Int Display</td>\n",
       "      <td>Northeast</td>\n",
       "      <td>2018</td>\n",
       "      <td>4</td>\n",
       "      <td>892300</td>\n",
       "      <td>6</td>\n",
       "      <td>21200</td>\n",
       "      <td>1982</td>\n",
       "      <td>...</td>\n",
       "      <td>0</td>\n",
       "      <td>0</td>\n",
       "      <td>0</td>\n",
       "      <td>0</td>\n",
       "      <td>0</td>\n",
       "      <td>0</td>\n",
       "      <td>0</td>\n",
       "      <td>0</td>\n",
       "      <td>1</td>\n",
       "      <td>0</td>\n",
       "    </tr>\n",
       "    <tr>\n",
       "      <td>122</td>\n",
       "      <td>Adobe</td>\n",
       "      <td>500</td>\n",
       "      <td>Int Display</td>\n",
       "      <td>Northeast</td>\n",
       "      <td>2018</td>\n",
       "      <td>5</td>\n",
       "      <td>892300</td>\n",
       "      <td>5</td>\n",
       "      <td>21200</td>\n",
       "      <td>1982</td>\n",
       "      <td>...</td>\n",
       "      <td>0</td>\n",
       "      <td>0</td>\n",
       "      <td>0</td>\n",
       "      <td>0</td>\n",
       "      <td>0</td>\n",
       "      <td>0</td>\n",
       "      <td>0</td>\n",
       "      <td>0</td>\n",
       "      <td>1</td>\n",
       "      <td>0</td>\n",
       "    </tr>\n",
       "  </tbody>\n",
       "</table>\n",
       "<p>5 rows × 43 columns</p>\n",
       "</div>"
      ],
      "text/plain": [
       "    Company DMA_Code        MEDIA Division_Name  Year  Month  \\\n",
       "118   Adobe      500  Int Display     Northeast  2018      1   \n",
       "119   Adobe      500  Int Display     Northeast  2018      2   \n",
       "120   Adobe      500  Int Display     Northeast  2018      3   \n",
       "121   Adobe      500  Int Display     Northeast  2018      4   \n",
       "122   Adobe      500  Int Display     Northeast  2018      5   \n",
       "\n",
       "     Audience Population  BRAND  Employees  Founded  ... Media_Outdoor  \\\n",
       "118               892300      5      21200     1982  ...             0   \n",
       "119               892300      6      21200     1982  ...             0   \n",
       "120               892300      6      21200     1982  ...             0   \n",
       "121               892300      6      21200     1982  ...             0   \n",
       "122               892300      5      21200     1982  ...             0   \n",
       "\n",
       "     Media_SLN TV  Media_Spot TV  Media_Sunday Mags  Media_Syndication  \\\n",
       "118             0              0                  0                  0   \n",
       "119             0              0                  0                  0   \n",
       "120             0              0                  0                  0   \n",
       "121             0              0                  0                  0   \n",
       "122             0              0                  0                  0   \n",
       "\n",
       "    Div_ALL OTHER  Div_Central  Div_National  Div_Northeast  Div_West  \n",
       "118             0            0             0              1         0  \n",
       "119             0            0             0              1         0  \n",
       "120             0            0             0              1         0  \n",
       "121             0            0             0              1         0  \n",
       "122             0            0             0              1         0  \n",
       "\n",
       "[5 rows x 43 columns]"
      ]
     },
     "execution_count": 31,
     "metadata": {},
     "output_type": "execute_result"
    }
   ],
   "source": [
    "local_df = comp_df_new[comp_df_new['DMA_Code']!=0]\n",
    "local_df.head()"
   ]
  },
  {
   "cell_type": "code",
   "execution_count": 32,
   "metadata": {},
   "outputs": [
    {
     "data": {
      "text/plain": [
       "0.0       0.0\n",
       "0.1       0.0\n",
       "0.2       0.0\n",
       "0.3       0.0\n",
       "0.4       0.0\n",
       "0.5       0.1\n",
       "0.6       0.2\n",
       "0.7       0.5\n",
       "0.8       1.4\n",
       "0.9       6.0\n",
       "1.0    2390.1\n",
       "Name: Spend_K, dtype: float64"
      ]
     },
     "execution_count": 32,
     "metadata": {},
     "output_type": "execute_result"
    }
   ],
   "source": [
    "local_df.Spend_K.quantile(list(np.linspace(0,1,11)))"
   ]
  },
  {
   "cell_type": "markdown",
   "metadata": {},
   "source": [
    "Local Spend looks very umbalanced and minimal compared to National Spend. We will focus on National Spend first. d"
   ]
  },
  {
   "cell_type": "markdown",
   "metadata": {},
   "source": [
    "## Training, testing and cross-validation"
   ]
  },
  {
   "cell_type": "code",
   "execution_count": 33,
   "metadata": {},
   "outputs": [],
   "source": [
    "#Split the data into training and test sets\n",
    "y = nat_comp_df['Spend_Bins']\n",
    "X = nat_comp_df.drop('Spend_Bins', axis=1)"
   ]
  },
  {
   "cell_type": "code",
   "execution_count": 34,
   "metadata": {},
   "outputs": [
    {
     "data": {
      "text/plain": [
       "0        7.0\n",
       "1        0.0\n",
       "2        7.0\n",
       "3        7.0\n",
       "4        9.0\n",
       "        ... \n",
       "95727    0.0\n",
       "95728    0.0\n",
       "95729    0.0\n",
       "95730    0.0\n",
       "95731    1.0\n",
       "Name: Spend_Bins, Length: 3306, dtype: float64"
      ]
     },
     "execution_count": 34,
     "metadata": {},
     "output_type": "execute_result"
    }
   ],
   "source": [
    "y"
   ]
  },
  {
   "cell_type": "markdown",
   "metadata": {},
   "source": [
    "### Standaridize the data set"
   ]
  },
  {
   "cell_type": "code",
   "execution_count": 35,
   "metadata": {},
   "outputs": [],
   "source": [
    "from sklearn.preprocessing import MinMaxScaler\n",
    "\n",
    "scaler = MinMaxScaler()\n",
    "scaled = scaler.fit_transform(X)\n",
    "scaled_features = pd.DataFrame(scaled, columns=X.columns)"
   ]
  },
  {
   "cell_type": "code",
   "execution_count": 36,
   "metadata": {},
   "outputs": [],
   "source": [
    "X_train, X_test, y_train, y_test = train_test_split(scaled_features, y, test_size=0.25, random_state=4)"
   ]
  },
  {
   "cell_type": "markdown",
   "metadata": {},
   "source": [
    "### Build the Base Model"
   ]
  },
  {
   "cell_type": "code",
   "execution_count": 37,
   "metadata": {},
   "outputs": [
    {
     "name": "stderr",
     "output_type": "stream",
     "text": [
      "C:\\Users\\bonma1\\AppData\\Local\\Continuum\\anaconda3\\lib\\site-packages\\sklearn\\ensemble\\forest.py:245: FutureWarning: The default value of n_estimators will change from 10 in version 0.20 to 100 in 0.22.\n",
      "  \"10 in version 0.20 to 100 in 0.22.\", FutureWarning)\n"
     ]
    },
    {
     "data": {
      "text/plain": [
       "RandomForestClassifier(bootstrap=True, class_weight=None, criterion='gini',\n",
       "                       max_depth=None, max_features='auto', max_leaf_nodes=None,\n",
       "                       min_impurity_decrease=0.0, min_impurity_split=None,\n",
       "                       min_samples_leaf=1, min_samples_split=2,\n",
       "                       min_weight_fraction_leaf=0.0, n_estimators=10,\n",
       "                       n_jobs=None, oob_score=False, random_state=None,\n",
       "                       verbose=0, warm_start=False)"
      ]
     },
     "execution_count": 37,
     "metadata": {},
     "output_type": "execute_result"
    }
   ],
   "source": [
    "#Instantiate and fit a RandomForestClassifier\n",
    "forest = RandomForestClassifier()\n",
    "forest.fit(X_train, y_train)"
   ]
  },
  {
   "cell_type": "code",
   "execution_count": 38,
   "metadata": {},
   "outputs": [
    {
     "data": {
      "text/plain": [
       "0.9588543767648245"
      ]
     },
     "execution_count": 38,
     "metadata": {},
     "output_type": "execute_result"
    }
   ],
   "source": [
    "forest.score(X_train, y_train)"
   ]
  },
  {
   "cell_type": "code",
   "execution_count": 39,
   "metadata": {},
   "outputs": [
    {
     "data": {
      "text/plain": [
       "0.30350665054413545"
      ]
     },
     "execution_count": 39,
     "metadata": {},
     "output_type": "execute_result"
    }
   ],
   "source": [
    "forest.score(X_test, y_test)"
   ]
  },
  {
   "cell_type": "markdown",
   "metadata": {},
   "source": [
    "The mean accuracy on the test set is much lower than the training set. Let's try testing out different hyperparameters!"
   ]
  },
  {
   "cell_type": "markdown",
   "metadata": {},
   "source": [
    "### Grid Search"
   ]
  },
  {
   "cell_type": "code",
   "execution_count": 40,
   "metadata": {},
   "outputs": [],
   "source": [
    "forest_grid = {\n",
    "    'n_estimators':[5,10,15,20,25,30],\n",
    "    'criterion':['gini','entropy'],\n",
    "    \n",
    "    'min_samples_split':[2,5,10,20],\n",
    "    'class_weight':['balanced', 'balanced_subsample',None]\n",
    "      \n",
    "}"
   ]
  },
  {
   "cell_type": "code",
   "execution_count": 41,
   "metadata": {},
   "outputs": [
    {
     "name": "stderr",
     "output_type": "stream",
     "text": [
      "C:\\Users\\bonma1\\AppData\\Local\\Continuum\\anaconda3\\lib\\site-packages\\sklearn\\model_selection\\_search.py:814: DeprecationWarning: The default of the `iid` parameter will change from True to False in version 0.22 and will be removed in 0.24. This will change numeric results when test-set sizes are unequal.\n",
      "  DeprecationWarning)\n"
     ]
    },
    {
     "data": {
      "text/plain": [
       "GridSearchCV(cv=3, error_score='raise-deprecating',\n",
       "             estimator=RandomForestClassifier(bootstrap=True, class_weight=None,\n",
       "                                              criterion='gini', max_depth=None,\n",
       "                                              max_features='auto',\n",
       "                                              max_leaf_nodes=None,\n",
       "                                              min_impurity_decrease=0.0,\n",
       "                                              min_impurity_split=None,\n",
       "                                              min_samples_leaf=1,\n",
       "                                              min_samples_split=2,\n",
       "                                              min_weight_fraction_leaf=0.0,\n",
       "                                              n_estimators=10, n_jobs=None,\n",
       "                                              oob_score=False,\n",
       "                                              random_state=None, verbose=0,\n",
       "                                              warm_start=False),\n",
       "             iid='warn', n_jobs=1,\n",
       "             param_grid={'class_weight': ['balanced', 'balanced_subsample',\n",
       "                                          None],\n",
       "                         'criterion': ['gini', 'entropy'],\n",
       "                         'min_samples_split': [2, 5, 10, 20],\n",
       "                         'n_estimators': [5, 10, 15, 20, 25, 30]},\n",
       "             pre_dispatch='2*n_jobs', refit=True, return_train_score=True,\n",
       "             scoring=None, verbose=0)"
      ]
     },
     "execution_count": 41,
     "metadata": {},
     "output_type": "execute_result"
    }
   ],
   "source": [
    "forest_grid_search = GridSearchCV(forest, forest_grid, cv=3, return_train_score = True, n_jobs=1)\n",
    "forest_grid_search.fit(X_train, y_train)"
   ]
  },
  {
   "cell_type": "code",
   "execution_count": 42,
   "metadata": {},
   "outputs": [
    {
     "name": "stdout",
     "output_type": "stream",
     "text": [
      "Mean Training Score:  0.6853845537421519\n",
      "Mean Test Score:  0.3180169286577993\n",
      "Best Parameter Combination Found During Grid Search:\n"
     ]
    },
    {
     "data": {
      "text/plain": [
       "{'class_weight': None,\n",
       " 'criterion': 'entropy',\n",
       " 'min_samples_split': 5,\n",
       " 'n_estimators': 25}"
      ]
     },
     "execution_count": 42,
     "metadata": {},
     "output_type": "execute_result"
    }
   ],
   "source": [
    "# Mean training score\n",
    "forest_gs_training_score = np.mean(forest_grid_search.cv_results_['mean_train_score'])\n",
    "\n",
    "# Mean test score\n",
    "forest_gs_testing_score = forest_grid_search.score(X_test, y_test)\n",
    "\n",
    "print(\"Mean Training Score: \", forest_gs_training_score)\n",
    "print(\"Mean Test Score: \" , forest_gs_testing_score)\n",
    "print(\"Best Parameter Combination Found During Grid Search:\")\n",
    "forest_grid_search.best_estimator_\n",
    "forest_grid_search.best_params_"
   ]
  },
  {
   "cell_type": "markdown",
   "metadata": {},
   "source": [
    "The training score is worse than the baseline, but the test score is just slightly higher than the baseline."
   ]
  },
  {
   "cell_type": "code",
   "execution_count": 43,
   "metadata": {
    "scrolled": true
   },
   "outputs": [
    {
     "data": {
      "image/png": "[encoded data removed]",
      "text/plain": [
       "<Figure size 720x864 with 1 Axes>"
      ]
     },
     "metadata": {},
     "output_type": "display_data"
    }
   ],
   "source": [
    "def plot_feature_importances(model):\n",
    "    n_features = X_train.shape[1]\n",
    "    plt.figure(figsize=(10,12))\n",
    "    plt.barh(range(n_features), model.feature_importances_, align='center') \n",
    "    plt.yticks(np.arange(n_features), X_train.columns.values) \n",
    "    plt.xlabel('Feature importance')\n",
    "    plt.ylabel('Feature')\n",
    "\n",
    "\n",
    "plot_feature_importances(forest)"
   ]
  },
  {
   "cell_type": "markdown",
   "metadata": {},
   "source": [
    "Year and Month, Number of Brands play a big role in determining the spend"
   ]
  },
  {
   "cell_type": "markdown",
   "metadata": {},
   "source": [
    "### Incoporate PCA\n",
    "\n",
    "PCA plays a key roles in reducing the number of dimensions, preserving the essence of the original data. There is a way to choose n_components - check the explained variance. "
   ]
  },
  {
   "cell_type": "code",
   "execution_count": 44,
   "metadata": {},
   "outputs": [
    {
     "data": {
      "image/png": "[encoded data removed]",
      "text/plain": [
       "<Figure size 432x288 with 1 Axes>"
      ]
     },
     "metadata": {},
     "output_type": "display_data"
    }
   ],
   "source": [
    "#Fit the PCA with scaled data\n",
    "pca = PCA().fit(scaled_features)\n",
    "\n",
    "#Plotting the Cumulative Summation of the Explained Variance\n",
    "plt.figure()\n",
    "plt.plot(np.cumsum(pca.explained_variance_ratio_))\n",
    "plt.xlabel('Number of Components')\n",
    "plt.ylabel('Variance (%)') # for each component\n",
    "plt.title('Competitive Dataset Explained Variance')\n",
    "plt.show()"
   ]
  },
  {
   "cell_type": "markdown",
   "metadata": {},
   "source": [
    "This suggests that selecting 15 or 16 components we can preserve around 97% to 99% of the total variance of the data. "
   ]
  },
  {
   "cell_type": "markdown",
   "metadata": {},
   "source": [
    "**Check important features after PCA**"
   ]
  },
  {
   "cell_type": "code",
   "execution_count": 45,
   "metadata": {},
   "outputs": [],
   "source": [
    "\n",
    "np.random.seed(0)\n",
    "\n",
    "pca = PCA(n_components=15).fit(scaled_features)\n",
    "\n",
    "# number of components\n",
    "n_pcs= pca.components_.shape[0]\n",
    "\n",
    "# get the index of the most important feature on EACH component\n",
    "# LIST COMPREHENSION HERE\n",
    "most_important = [np.abs(pca.components_[i]).argmax() for i in range(n_pcs)]\n",
    "\n",
    "initial_feature_names = scaled_features.columns\n",
    "# get the names\n",
    "most_important_names = [initial_feature_names[most_important[i]] for i in range(n_pcs)]\n",
    "\n",
    "# LIST COMPREHENSION HERE AGAIN\n",
    "dic = {'PC{}'.format(i): most_important_names[i] for i in range(n_pcs)}\n",
    "\n",
    "# build the dataframe\n",
    "df = pd.DataFrame(dic.items())"
   ]
  },
  {
   "cell_type": "code",
   "execution_count": 46,
   "metadata": {},
   "outputs": [
    {
     "data": {
      "text/html": [
       "<div>\n",
       "<style scoped>\n",
       "    .dataframe tbody tr th:only-of-type {\n",
       "        vertical-align: middle;\n",
       "    }\n",
       "\n",
       "    .dataframe tbody tr th {\n",
       "        vertical-align: top;\n",
       "    }\n",
       "\n",
       "    .dataframe thead th {\n",
       "        text-align: right;\n",
       "    }\n",
       "</style>\n",
       "<table border=\"1\" class=\"dataframe\">\n",
       "  <thead>\n",
       "    <tr style=\"text-align: right;\">\n",
       "      <th></th>\n",
       "      <th>0</th>\n",
       "      <th>1</th>\n",
       "    </tr>\n",
       "  </thead>\n",
       "  <tbody>\n",
       "    <tr>\n",
       "      <td>0</td>\n",
       "      <td>PC0</td>\n",
       "      <td>Market cap_Billion</td>\n",
       "    </tr>\n",
       "    <tr>\n",
       "      <td>1</td>\n",
       "      <td>PC1</td>\n",
       "      <td>Year</td>\n",
       "    </tr>\n",
       "    <tr>\n",
       "      <td>2</td>\n",
       "      <td>PC2</td>\n",
       "      <td>Media_Int Display</td>\n",
       "    </tr>\n",
       "    <tr>\n",
       "      <td>3</td>\n",
       "      <td>PC3</td>\n",
       "      <td>Media_Mobile Web</td>\n",
       "    </tr>\n",
       "    <tr>\n",
       "      <td>4</td>\n",
       "      <td>PC4</td>\n",
       "      <td>Media_Online Video</td>\n",
       "    </tr>\n",
       "    <tr>\n",
       "      <td>5</td>\n",
       "      <td>PC5</td>\n",
       "      <td>Media_Cable TV</td>\n",
       "    </tr>\n",
       "    <tr>\n",
       "      <td>6</td>\n",
       "      <td>PC6</td>\n",
       "      <td>Month</td>\n",
       "    </tr>\n",
       "    <tr>\n",
       "      <td>7</td>\n",
       "      <td>PC7</td>\n",
       "      <td>Company_ID</td>\n",
       "    </tr>\n",
       "    <tr>\n",
       "      <td>8</td>\n",
       "      <td>PC8</td>\n",
       "      <td>Media_Network TV</td>\n",
       "    </tr>\n",
       "    <tr>\n",
       "      <td>9</td>\n",
       "      <td>PC9</td>\n",
       "      <td>Media_Network TV</td>\n",
       "    </tr>\n",
       "    <tr>\n",
       "      <td>10</td>\n",
       "      <td>PC10</td>\n",
       "      <td>Founded</td>\n",
       "    </tr>\n",
       "    <tr>\n",
       "      <td>11</td>\n",
       "      <td>PC11</td>\n",
       "      <td>Media_Magazines</td>\n",
       "    </tr>\n",
       "    <tr>\n",
       "      <td>12</td>\n",
       "      <td>PC12</td>\n",
       "      <td>Media_B-to-B</td>\n",
       "    </tr>\n",
       "    <tr>\n",
       "      <td>13</td>\n",
       "      <td>PC13</td>\n",
       "      <td>Media_SLN TV</td>\n",
       "    </tr>\n",
       "    <tr>\n",
       "      <td>14</td>\n",
       "      <td>PC14</td>\n",
       "      <td>Media_Syndication</td>\n",
       "    </tr>\n",
       "  </tbody>\n",
       "</table>\n",
       "</div>"
      ],
      "text/plain": [
       "       0                   1\n",
       "0    PC0  Market cap_Billion\n",
       "1    PC1                Year\n",
       "2    PC2   Media_Int Display\n",
       "3    PC3    Media_Mobile Web\n",
       "4    PC4  Media_Online Video\n",
       "5    PC5      Media_Cable TV\n",
       "6    PC6               Month\n",
       "7    PC7          Company_ID\n",
       "8    PC8    Media_Network TV\n",
       "9    PC9    Media_Network TV\n",
       "10  PC10             Founded\n",
       "11  PC11     Media_Magazines\n",
       "12  PC12        Media_B-to-B\n",
       "13  PC13        Media_SLN TV\n",
       "14  PC14   Media_Syndication"
      ]
     },
     "execution_count": 46,
     "metadata": {},
     "output_type": "execute_result"
    }
   ],
   "source": [
    "df"
   ]
  },
  {
   "cell_type": "code",
   "execution_count": 47,
   "metadata": {},
   "outputs": [],
   "source": [
    "pca=PCA(n_components=15)\n",
    "pca_dataset = pca.fit_transform(scaled_features)"
   ]
  },
  {
   "cell_type": "code",
   "execution_count": 48,
   "metadata": {},
   "outputs": [],
   "source": [
    "X_train_2, X_test_2, y_train_2, y_test_2 = train_test_split(pca_dataset, y, test_size=0.25, random_state=4)"
   ]
  },
  {
   "cell_type": "code",
   "execution_count": null,
   "metadata": {},
   "outputs": [],
   "source": []
  },
  {
   "cell_type": "code",
   "execution_count": 49,
   "metadata": {},
   "outputs": [
    {
     "name": "stderr",
     "output_type": "stream",
     "text": [
      "C:\\Users\\bonma1\\AppData\\Local\\Continuum\\anaconda3\\lib\\site-packages\\sklearn\\ensemble\\forest.py:245: FutureWarning: The default value of n_estimators will change from 10 in version 0.20 to 100 in 0.22.\n",
      "  \"10 in version 0.20 to 100 in 0.22.\", FutureWarning)\n"
     ]
    },
    {
     "data": {
      "text/plain": [
       "RandomForestClassifier(bootstrap=True, class_weight=None, criterion='entropy',\n",
       "                       max_depth=None, max_features='auto', max_leaf_nodes=None,\n",
       "                       min_impurity_decrease=0.0, min_impurity_split=None,\n",
       "                       min_samples_leaf=1, min_samples_split=5,\n",
       "                       min_weight_fraction_leaf=0.0, n_estimators=10,\n",
       "                       n_jobs=None, oob_score=False, random_state=None,\n",
       "                       verbose=0, warm_start=False)"
      ]
     },
     "execution_count": 49,
     "metadata": {},
     "output_type": "execute_result"
    }
   ],
   "source": [
    "forest_2 = RandomForestClassifier(criterion = 'entropy', min_samples_split=5)\n",
    "forest_2.fit(X_train_2, y_train_2)"
   ]
  },
  {
   "cell_type": "code",
   "execution_count": 50,
   "metadata": {},
   "outputs": [
    {
     "data": {
      "text/plain": [
       "0.8656716417910447"
      ]
     },
     "execution_count": 50,
     "metadata": {},
     "output_type": "execute_result"
    }
   ],
   "source": [
    "forest_2.score(X_train_2, y_train_2)"
   ]
  },
  {
   "cell_type": "code",
   "execution_count": 51,
   "metadata": {},
   "outputs": [
    {
     "data": {
      "text/plain": [
       "0.3059250302297461"
      ]
     },
     "execution_count": 51,
     "metadata": {},
     "output_type": "execute_result"
    }
   ],
   "source": [
    "forest_2.score(X_test_2, y_test_2)"
   ]
  },
  {
   "cell_type": "code",
   "execution_count": null,
   "metadata": {},
   "outputs": [],
   "source": []
  },
  {
   "cell_type": "markdown",
   "metadata": {},
   "source": [
    "### TRY PIPELINE!!!"
   ]
  },
  {
   "cell_type": "code",
   "execution_count": 52,
   "metadata": {},
   "outputs": [
    {
     "name": "stderr",
     "output_type": "stream",
     "text": [
      "C:\\Users\\bonma1\\AppData\\Local\\Continuum\\anaconda3\\lib\\site-packages\\sklearn\\model_selection\\_search.py:814: DeprecationWarning: The default of the `iid` parameter will change from True to False in version 0.22 and will be removed in 0.24. This will change numeric results when test-set sizes are unequal.\n",
      "  DeprecationWarning)\n"
     ]
    },
    {
     "data": {
      "text/plain": [
       "GridSearchCV(cv=3, error_score='raise-deprecating',\n",
       "             estimator=Pipeline(memory=None,\n",
       "                                steps=[('pca',\n",
       "                                        PCA(copy=True, iterated_power='auto',\n",
       "                                            n_components=15, random_state=None,\n",
       "                                            svd_solver='auto', tol=0.0,\n",
       "                                            whiten=False)),\n",
       "                                       ('tree',\n",
       "                                        RandomForestClassifier(bootstrap=True,\n",
       "                                                               class_weight=None,\n",
       "                                                               criterion='gini',\n",
       "                                                               max_depth=None,\n",
       "                                                               max_features='auto',\n",
       "                                                               max_leaf_nodes=None,\n",
       "                                                               min_impu...\n",
       "                                                               oob_score=False,\n",
       "                                                               random_state=None,\n",
       "                                                               verbose=0,\n",
       "                                                               warm_start=False))],\n",
       "                                verbose=False),\n",
       "             iid='warn', n_jobs=None,\n",
       "             param_grid=[{'tree__criterion': ['gini', 'entropy'],\n",
       "                          'tree__max_depth': [None, 5, 8, 10, 13],\n",
       "                          'tree__min_samples_split': [2, 5, 10, 20],\n",
       "                          'tree__n_estimators': [5, 10, 15, 20, 25, 30]}],\n",
       "             pre_dispatch='2*n_jobs', refit=True, return_train_score=False,\n",
       "             scoring='accuracy', verbose=0)"
      ]
     },
     "execution_count": 52,
     "metadata": {},
     "output_type": "execute_result"
    }
   ],
   "source": [
    "#Create the pipeline and include PCA in the process\n",
    "from sklearn.pipeline import Pipeline\n",
    "from sklearn.decomposition import PCA\n",
    "\n",
    "pipe = Pipeline([\n",
    "                ('pca', PCA(n_components=15)),\n",
    "                ('tree', RandomForestClassifier())])\n",
    "\n",
    "# Create the grid parameter\n",
    "grid = [{'tree__n_estimators':[5,10,15,20,25,30],\n",
    "    'tree__criterion':['gini','entropy'],\n",
    "    'tree__max_depth':[None,5,8,10,13],\n",
    "    'tree__min_samples_split':[2,5,10,20]}]\n",
    "\n",
    "# Create the grid, with \"pipe\" as the estimator\n",
    "gridsearch = GridSearchCV(estimator=pipe,\n",
    "                  param_grid=grid,\n",
    "                  scoring='accuracy',\n",
    "                  cv=3)\n",
    "\n",
    "# Fit using grid search\n",
    "gridsearch.fit(X_train_2, y_train_2)"
   ]
  },
  {
   "cell_type": "code",
   "execution_count": 55,
   "metadata": {},
   "outputs": [
    {
     "name": "stdout",
     "output_type": "stream",
     "text": [
      "Pipeline(memory=None,\n",
      "         steps=[('pca',\n",
      "                 PCA(copy=True, iterated_power='auto', n_components=15,\n",
      "                     random_state=None, svd_solver='auto', tol=0.0,\n",
      "                     whiten=False)),\n",
      "                ('clf',\n",
      "                 SVC(C=1.0, cache_size=200, class_weight=None, coef0=0.0,\n",
      "                     decision_function_shape='ovr', degree=3,\n",
      "                     gamma='auto_deprecated', kernel='rbf', max_iter=-1,\n",
      "                     probability=False, random_state=123, shrinking=True,\n",
      "                     tol=0.001, verbose=False))],\n",
      "         verbose=False)\n"
     ]
    },
    {
     "name": "stderr",
     "output_type": "stream",
     "text": [
      "C:\\Users\\bonma1\\AppData\\Local\\Continuum\\anaconda3\\lib\\site-packages\\sklearn\\svm\\base.py:193: FutureWarning: The default value of gamma will change from 'auto' to 'scale' in version 0.22 to account better for unscaled features. Set gamma explicitly to 'auto' or 'scale' to avoid this warning.\n",
      "  \"avoid this warning.\", FutureWarning)\n"
     ]
    },
    {
     "name": "stdout",
     "output_type": "stream",
     "text": [
      "Pipeline(memory=None,\n",
      "         steps=[('pca',\n",
      "                 PCA(copy=True, iterated_power='auto', n_components=15,\n",
      "                     random_state=None, svd_solver='auto', tol=0.0,\n",
      "                     whiten=False)),\n",
      "                ('clf',\n",
      "                 DecisionTreeClassifier(class_weight=None, criterion='gini',\n",
      "                                        max_depth=None, max_features=None,\n",
      "                                        max_leaf_nodes=None,\n",
      "                                        min_impurity_decrease=0.0,\n",
      "                                        min_impurity_split=None,\n",
      "                                        min_samples_leaf=1, min_samples_split=2,\n",
      "                                        min_weight_fraction_leaf=0.0,\n",
      "                                        presort=False, random_state=123,\n",
      "                                        splitter='best'))],\n",
      "         verbose=False)\n",
      "Pipeline(memory=None,\n",
      "         steps=[('pca',\n",
      "                 PCA(copy=True, iterated_power='auto', n_components=15,\n",
      "                     random_state=None, svd_solver='auto', tol=0.0,\n",
      "                     whiten=False)),\n",
      "                ('clf',\n",
      "                 RandomForestClassifier(bootstrap=True, class_weight=None,\n",
      "                                        criterion='gini', max_depth=None,\n",
      "                                        max_features='auto',\n",
      "                                        max_leaf_nodes=None,\n",
      "                                        min_impurity_decrease=0.0,\n",
      "                                        min_impurity_split=None,\n",
      "                                        min_samples_leaf=1, min_samples_split=2,\n",
      "                                        min_weight_fraction_leaf=0.0,\n",
      "                                        n_estimators='warn', n_jobs=None,\n",
      "                                        oob_score=False, random_state=123,\n",
      "                                        verbose=0, warm_start=False))],\n",
      "         verbose=False)\n"
     ]
    },
    {
     "name": "stderr",
     "output_type": "stream",
     "text": [
      "C:\\Users\\bonma1\\AppData\\Local\\Continuum\\anaconda3\\lib\\site-packages\\sklearn\\ensemble\\forest.py:245: FutureWarning: The default value of n_estimators will change from 10 in version 0.20 to 100 in 0.22.\n",
      "  \"10 in version 0.20 to 100 in 0.22.\", FutureWarning)\n"
     ]
    },
    {
     "name": "stdout",
     "output_type": "stream",
     "text": [
      "Support Vector Machine pipeline test accuracy: 0.192\n",
      "Decision Tree pipeline test accuracy: 0.252\n",
      "Random Forest pipeline test accuracy: 0.279\n"
     ]
    }
   ],
   "source": [
    "from sklearn import svm\n",
    "from sklearn.pipeline import Pipeline\n",
    "from sklearn.ensemble import RandomForestClassifier\n",
    "from sklearn import tree\n",
    "\n",
    "## KEEP IT FOR NOW\n",
    "# Construct some pipelines\n",
    "pipe_svm = Pipeline([('pca', PCA(n_components=15)),\n",
    "        ('clf', svm.SVC(random_state=123))])\n",
    "        \n",
    "pipe_tree = Pipeline([('pca', PCA(n_components=15)),\n",
    "        ('clf', tree.DecisionTreeClassifier(random_state=123))])\n",
    "\n",
    "pipe_rf = Pipeline([('pca', PCA(n_components=15)),\n",
    "        ('clf', RandomForestClassifier(random_state=123))])\n",
    "\n",
    "# List of pipelines, List of pipeline names\n",
    "pipelines = [pipe_svm, pipe_tree, pipe_rf]\n",
    "pipeline_names = ['Support Vector Machine','Decision Tree','Random Forest']\n",
    "\n",
    "# Loop to fit each of the three pipelines\n",
    "for pipe in pipelines:\n",
    "    print(pipe)\n",
    "    pipe.fit(X_train_2, y_train_2)\n",
    "\n",
    "# Compare accuracies\n",
    "for index, val in enumerate(pipelines):\n",
    "    print('%s pipeline test accuracy: %.3f' % (pipeline_names[index], val.score(X_test_2, y_test_2)))"
   ]
  },
  {
   "cell_type": "markdown",
   "metadata": {},
   "source": [
    "### Random Forest still has the best performance"
   ]
  },
  {
   "cell_type": "markdown",
   "metadata": {},
   "source": [
    "### Visualize Feature Importance \n",
    "\n",
    "https://github.com/gaurav-kaushik/Data-Visualizations-Medium/blob/master/code/Interactive_PCA_and_Feature_Correlation.ipynb"
   ]
  },
  {
   "cell_type": "code",
   "execution_count": 56,
   "metadata": {},
   "outputs": [
    {
     "data": {
      "text/html": [
       "\n",
       "    <div class=\"bk-root\">\n",
       "        <a href=\"https://bokeh.pydata.org\" target=\"_blank\" class=\"bk-logo bk-logo-small bk-logo-notebook\"></a>\n",
       "        <span id=\"1001\">Loading BokehJS ...</span>\n",
       "    </div>"
      ]
     },
     "metadata": {},
     "output_type": "display_data"
    },
    {
     "data": {
      "application/javascript": [
       "\n",
       "(function(root) {\n",
       "  function now() {\n",
       "    return new Date();\n",
       "  }\n",
       "\n",
       "  var force = true;\n",
       "\n",
       "  if (typeof root._bokeh_onload_callbacks === \"undefined\" || force === true) {\n",
       "    root._bokeh_onload_callbacks = [];\n",
       "    root._bokeh_is_loading = undefined;\n",
       "  }\n",
       "\n",
       "  var JS_MIME_TYPE = 'application/javascript';\n",
       "  var HTML_MIME_TYPE = 'text/html';\n",
       "  var EXEC_MIME_TYPE = 'application/vnd.bokehjs_exec.v0+json';\n",
       "  var CLASS_NAME = 'output_bokeh rendered_html';\n",
       "\n",
       "  /**\n",
       "   * Render data to the DOM node\n",
       "   */\n",
       "  function render(props, node) {\n",
       "    var script = document.createElement(\"script\");\n",
       "    node.appendChild(script);\n",
       "  }\n",
       "\n",
       "  /**\n",
       "   * Handle when an output is cleared or removed\n",
       "   */\n",
       "  function handleClearOutput(event, handle) {\n",
       "    var cell = handle.cell;\n",
       "\n",
       "    var id = cell.output_area._bokeh_element_id;\n",
       "    var server_id = cell.output_area._bokeh_server_id;\n",
       "    // Clean up Bokeh references\n",
       "    if (id != null && id in Bokeh.index) {\n",
       "      Bokeh.index[id].model.document.clear();\n",
       "      delete Bokeh.index[id];\n",
       "    }\n",
       "\n",
       "    if (server_id !== undefined) {\n",
       "      // Clean up Bokeh references\n",
       "      var cmd = \"from bokeh.io.state import curstate; print(curstate().uuid_to_server['\" + server_id + \"'].get_sessions()[0].document.roots[0]._id)\";\n",
       "      cell.notebook.kernel.execute(cmd, {\n",
       "        iopub: {\n",
       "          output: function(msg) {\n",
       "            var id = msg.content.text.trim();\n",
       "            if (id in Bokeh.index) {\n",
       "              Bokeh.index[id].model.document.clear();\n",
       "              delete Bokeh.index[id];\n",
       "            }\n",
       "          }\n",
       "        }\n",
       "      });\n",
       "      // Destroy server and session\n",
       "      var cmd = \"import bokeh.io.notebook as ion; ion.destroy_server('\" + server_id + \"')\";\n",
       "      cell.notebook.kernel.execute(cmd);\n",
       "    }\n",
       "  }\n",
       "\n",
       "  /**\n",
       "   * Handle when a new output is added\n",
       "   */\n",
       "  function handleAddOutput(event, handle) {\n",
       "    var output_area = handle.output_area;\n",
       "    var output = handle.output;\n",
       "\n",
       "    // limit handleAddOutput to display_data with EXEC_MIME_TYPE content only\n",
       "    if ((output.output_type != \"display_data\") || (!output.data.hasOwnProperty(EXEC_MIME_TYPE))) {\n",
       "      return\n",
       "    }\n",
       "\n",
       "    var toinsert = output_area.element.find(\".\" + CLASS_NAME.split(' ')[0]);\n",
       "\n",
       "    if (output.metadata[EXEC_MIME_TYPE][\"id\"] !== undefined) {\n",
       "      toinsert[toinsert.length - 1].firstChild.textContent = output.data[JS_MIME_TYPE];\n",
       "      // store reference to embed id on output_area\n",
       "      output_area._bokeh_element_id = output.metadata[EXEC_MIME_TYPE][\"id\"];\n",
       "    }\n",
       "    if (output.metadata[EXEC_MIME_TYPE][\"server_id\"] !== undefined) {\n",
       "      var bk_div = document.createElement(\"div\");\n",
       "      bk_div.innerHTML = output.data[HTML_MIME_TYPE];\n",
       "      var script_attrs = bk_div.children[0].attributes;\n",
       "      for (var i = 0; i < script_attrs.length; i++) {\n",
       "        toinsert[toinsert.length - 1].firstChild.setAttribute(script_attrs[i].name, script_attrs[i].value);\n",
       "      }\n",
       "      // store reference to server id on output_area\n",
       "      output_area._bokeh_server_id = output.metadata[EXEC_MIME_TYPE][\"server_id\"];\n",
       "    }\n",
       "  }\n",
       "\n",
       "  function register_renderer(events, OutputArea) {\n",
       "\n",
       "    function append_mime(data, metadata, element) {\n",
       "      // create a DOM node to render to\n",
       "      var toinsert = this.create_output_subarea(\n",
       "        metadata,\n",
       "        CLASS_NAME,\n",
       "        EXEC_MIME_TYPE\n",
       "      );\n",
       "      this.keyboard_manager.register_events(toinsert);\n",
       "      // Render to node\n",
       "      var props = {data: data, metadata: metadata[EXEC_MIME_TYPE]};\n",
       "      render(props, toinsert[toinsert.length - 1]);\n",
       "      element.append(toinsert);\n",
       "      return toinsert\n",
       "    }\n",
       "\n",
       "    /* Handle when an output is cleared or removed */\n",
       "    events.on('clear_output.CodeCell', handleClearOutput);\n",
       "    events.on('delete.Cell', handleClearOutput);\n",
       "\n",
       "    /* Handle when a new output is added */\n",
       "    events.on('output_added.OutputArea', handleAddOutput);\n",
       "\n",
       "    /**\n",
       "     * Register the mime type and append_mime function with output_area\n",
       "     */\n",
       "    OutputArea.prototype.register_mime_type(EXEC_MIME_TYPE, append_mime, {\n",
       "      /* Is output safe? */\n",
       "      safe: true,\n",
       "      /* Index of renderer in `output_area.display_order` */\n",
       "      index: 0\n",
       "    });\n",
       "  }\n",
       "\n",
       "  // register the mime type if in Jupyter Notebook environment and previously unregistered\n",
       "  if (root.Jupyter !== undefined) {\n",
       "    var events = require('base/js/events');\n",
       "    var OutputArea = require('notebook/js/outputarea').OutputArea;\n",
       "\n",
       "    if (OutputArea.prototype.mime_types().indexOf(EXEC_MIME_TYPE) == -1) {\n",
       "      register_renderer(events, OutputArea);\n",
       "    }\n",
       "  }\n",
       "\n",
       "  \n",
       "  if (typeof (root._bokeh_timeout) === \"undefined\" || force === true) {\n",
       "    root._bokeh_timeout = Date.now() + 5000;\n",
       "    root._bokeh_failed_load = false;\n",
       "  }\n",
       "\n",
       "  var NB_LOAD_WARNING = {'data': {'text/html':\n",
       "     \"<div style='background-color: #fdd'>\\n\"+\n",
       "     \"<p>\\n\"+\n",
       "     \"BokehJS does not appear to have successfully loaded. If loading BokehJS from CDN, this \\n\"+\n",
       "     \"may be due to a slow or bad network connection. Possible fixes:\\n\"+\n",
       "     \"</p>\\n\"+\n",
       "     \"<ul>\\n\"+\n",
       "     \"<li>re-rerun `output_notebook()` to attempt to load from CDN again, or</li>\\n\"+\n",
       "     \"<li>use INLINE resources instead, as so:</li>\\n\"+\n",
       "     \"</ul>\\n\"+\n",
       "     \"<code>\\n\"+\n",
       "     \"from bokeh.resources import INLINE\\n\"+\n",
       "     \"output_notebook(resources=INLINE)\\n\"+\n",
       "     \"</code>\\n\"+\n",
       "     \"</div>\"}};\n",
       "\n",
       "  function display_loaded() {\n",
       "    var el = document.getElementById(\"1001\");\n",
       "    if (el != null) {\n",
       "      el.textContent = \"BokehJS is loading...\";\n",
       "    }\n",
       "    if (root.Bokeh !== undefined) {\n",
       "      if (el != null) {\n",
       "        el.textContent = \"BokehJS \" + root.Bokeh.version + \" successfully loaded.\";\n",
       "      }\n",
       "    } else if (Date.now() < root._bokeh_timeout) {\n",
       "      setTimeout(display_loaded, 100)\n",
       "    }\n",
       "  }\n",
       "\n",
       "\n",
       "  function run_callbacks() {\n",
       "    try {\n",
       "      root._bokeh_onload_callbacks.forEach(function(callback) {\n",
       "        if (callback != null)\n",
       "          callback();\n",
       "      });\n",
       "    } finally {\n",
       "      delete root._bokeh_onload_callbacks\n",
       "    }\n",
       "    console.debug(\"Bokeh: all callbacks have finished\");\n",
       "  }\n",
       "\n",
       "  function load_libs(css_urls, js_urls, callback) {\n",
       "    if (css_urls == null) css_urls = [];\n",
       "    if (js_urls == null) js_urls = [];\n",
       "\n",
       "    root._bokeh_onload_callbacks.push(callback);\n",
       "    if (root._bokeh_is_loading > 0) {\n",
       "      console.debug(\"Bokeh: BokehJS is being loaded, scheduling callback at\", now());\n",
       "      return null;\n",
       "    }\n",
       "    if (js_urls == null || js_urls.length === 0) {\n",
       "      run_callbacks();\n",
       "      return null;\n",
       "    }\n",
       "    console.debug(\"Bokeh: BokehJS not loaded, scheduling load and callback at\", now());\n",
       "    root._bokeh_is_loading = css_urls.length + js_urls.length;\n",
       "\n",
       "    function on_load() {\n",
       "      root._bokeh_is_loading--;\n",
       "      if (root._bokeh_is_loading === 0) {\n",
       "        console.debug(\"Bokeh: all BokehJS libraries/stylesheets loaded\");\n",
       "        run_callbacks()\n",
       "      }\n",
       "    }\n",
       "\n",
       "    function on_error() {\n",
       "      console.error(\"failed to load \" + url);\n",
       "    }\n",
       "\n",
       "    for (var i = 0; i < css_urls.length; i++) {\n",
       "      var url = css_urls[i];\n",
       "      const element = document.createElement(\"link\");\n",
       "      element.onload = on_load;\n",
       "      element.onerror = on_error;\n",
       "      element.rel = \"stylesheet\";\n",
       "      element.type = \"text/css\";\n",
       "      element.href = url;\n",
       "      console.debug(\"Bokeh: injecting link tag for BokehJS stylesheet: \", url);\n",
       "      document.body.appendChild(element);\n",
       "    }\n",
       "\n",
       "    for (var i = 0; i < js_urls.length; i++) {\n",
       "      var url = js_urls[i];\n",
       "      var element = document.createElement('script');\n",
       "      element.onload = on_load;\n",
       "      element.onerror = on_error;\n",
       "      element.async = false;\n",
       "      element.src = url;\n",
       "      console.debug(\"Bokeh: injecting script tag for BokehJS library: \", url);\n",
       "      document.head.appendChild(element);\n",
       "    }\n",
       "  };var element = document.getElementById(\"1001\");\n",
       "  if (element == null) {\n",
       "    console.error(\"Bokeh: ERROR: autoload.js configured with elementid '1001' but no matching script tag was found. \")\n",
       "    return false;\n",
       "  }\n",
       "\n",
       "  function inject_raw_css(css) {\n",
       "    const element = document.createElement(\"style\");\n",
       "    element.appendChild(document.createTextNode(css));\n",
       "    document.body.appendChild(element);\n",
       "  }\n",
       "\n",
       "  var js_urls = [\"https://cdn.pydata.org/bokeh/release/bokeh-1.3.4.min.js\", \"https://cdn.pydata.org/bokeh/release/bokeh-widgets-1.3.4.min.js\", \"https://cdn.pydata.org/bokeh/release/bokeh-tables-1.3.4.min.js\", \"https://cdn.pydata.org/bokeh/release/bokeh-gl-1.3.4.min.js\"];\n",
       "  var css_urls = [];\n",
       "\n",
       "  var inline_js = [\n",
       "    function(Bokeh) {\n",
       "      Bokeh.set_log_level(\"info\");\n",
       "    },\n",
       "    \n",
       "    function(Bokeh) {\n",
       "      \n",
       "    },\n",
       "    function(Bokeh) {} // ensure no trailing comma for IE\n",
       "  ];\n",
       "\n",
       "  function run_inline_js() {\n",
       "    \n",
       "    if ((root.Bokeh !== undefined) || (force === true)) {\n",
       "      for (var i = 0; i < inline_js.length; i++) {\n",
       "        inline_js[i].call(root, root.Bokeh);\n",
       "      }if (force === true) {\n",
       "        display_loaded();\n",
       "      }} else if (Date.now() < root._bokeh_timeout) {\n",
       "      setTimeout(run_inline_js, 100);\n",
       "    } else if (!root._bokeh_failed_load) {\n",
       "      console.log(\"Bokeh: BokehJS failed to load within specified timeout.\");\n",
       "      root._bokeh_failed_load = true;\n",
       "    } else if (force !== true) {\n",
       "      var cell = $(document.getElementById(\"1001\")).parents('.cell').data().cell;\n",
       "      cell.output_area.append_execute_result(NB_LOAD_WARNING)\n",
       "    }\n",
       "\n",
       "  }\n",
       "\n",
       "  if (root._bokeh_is_loading === 0) {\n",
       "    console.debug(\"Bokeh: BokehJS loaded, going straight to plotting\");\n",
       "    run_inline_js();\n",
       "  } else {\n",
       "    load_libs(css_urls, js_urls, function() {\n",
       "      console.debug(\"Bokeh: BokehJS plotting callback run at\", now());\n",
       "      run_inline_js();\n",
       "    });\n",
       "  }\n",
       "}(window));"
      ],
      "application/vnd.bokehjs_load.v0+json": "\n(function(root) {\n  function now() {\n    return new Date();\n  }\n\n  var force = true;\n\n  if (typeof root._bokeh_onload_callbacks === \"undefined\" || force === true) {\n    root._bokeh_onload_callbacks = [];\n    root._bokeh_is_loading = undefined;\n  }\n\n  \n\n  \n  if (typeof (root._bokeh_timeout) === \"undefined\" || force === true) {\n    root._bokeh_timeout = Date.now() + 5000;\n    root._bokeh_failed_load = false;\n  }\n\n  var NB_LOAD_WARNING = {'data': {'text/html':\n     \"<div style='background-color: #fdd'>\\n\"+\n     \"<p>\\n\"+\n     \"BokehJS does not appear to have successfully loaded. If loading BokehJS from CDN, this \\n\"+\n     \"may be due to a slow or bad network connection. Possible fixes:\\n\"+\n     \"</p>\\n\"+\n     \"<ul>\\n\"+\n     \"<li>re-rerun `output_notebook()` to attempt to load from CDN again, or</li>\\n\"+\n     \"<li>use INLINE resources instead, as so:</li>\\n\"+\n     \"</ul>\\n\"+\n     \"<code>\\n\"+\n     \"from bokeh.resources import INLINE\\n\"+\n     \"output_notebook(resources=INLINE)\\n\"+\n     \"</code>\\n\"+\n     \"</div>\"}};\n\n  function display_loaded() {\n    var el = document.getElementById(\"1001\");\n    if (el != null) {\n      el.textContent = \"BokehJS is loading...\";\n    }\n    if (root.Bokeh !== undefined) {\n      if (el != null) {\n        el.textContent = \"BokehJS \" + root.Bokeh.version + \" successfully loaded.\";\n      }\n    } else if (Date.now() < root._bokeh_timeout) {\n      setTimeout(display_loaded, 100)\n    }\n  }\n\n\n  function run_callbacks() {\n    try {\n      root._bokeh_onload_callbacks.forEach(function(callback) {\n        if (callback != null)\n          callback();\n      });\n    } finally {\n      delete root._bokeh_onload_callbacks\n    }\n    console.debug(\"Bokeh: all callbacks have finished\");\n  }\n\n  function load_libs(css_urls, js_urls, callback) {\n    if (css_urls == null) css_urls = [];\n    if (js_urls == null) js_urls = [];\n\n    root._bokeh_onload_callbacks.push(callback);\n    if (root._bokeh_is_loading > 0) {\n      console.debug(\"Bokeh: BokehJS is being loaded, scheduling callback at\", now());\n      return null;\n    }\n    if (js_urls == null || js_urls.length === 0) {\n      run_callbacks();\n      return null;\n    }\n    console.debug(\"Bokeh: BokehJS not loaded, scheduling load and callback at\", now());\n    root._bokeh_is_loading = css_urls.length + js_urls.length;\n\n    function on_load() {\n      root._bokeh_is_loading--;\n      if (root._bokeh_is_loading === 0) {\n        console.debug(\"Bokeh: all BokehJS libraries/stylesheets loaded\");\n        run_callbacks()\n      }\n    }\n\n    function on_error() {\n      console.error(\"failed to load \" + url);\n    }\n\n    for (var i = 0; i < css_urls.length; i++) {\n      var url = css_urls[i];\n      const element = document.createElement(\"link\");\n      element.onload = on_load;\n      element.onerror = on_error;\n      element.rel = \"stylesheet\";\n      element.type = \"text/css\";\n      element.href = url;\n      console.debug(\"Bokeh: injecting link tag for BokehJS stylesheet: \", url);\n      document.body.appendChild(element);\n    }\n\n    for (var i = 0; i < js_urls.length; i++) {\n      var url = js_urls[i];\n      var element = document.createElement('script');\n      element.onload = on_load;\n      element.onerror = on_error;\n      element.async = false;\n      element.src = url;\n      console.debug(\"Bokeh: injecting script tag for BokehJS library: \", url);\n      document.head.appendChild(element);\n    }\n  };var element = document.getElementById(\"1001\");\n  if (element == null) {\n    console.error(\"Bokeh: ERROR: autoload.js configured with elementid '1001' but no matching script tag was found. \")\n    return false;\n  }\n\n  function inject_raw_css(css) {\n    const element = document.createElement(\"style\");\n    element.appendChild(document.createTextNode(css));\n    document.body.appendChild(element);\n  }\n\n  var js_urls = [\"https://cdn.pydata.org/bokeh/release/bokeh-1.3.4.min.js\", \"https://cdn.pydata.org/bokeh/release/bokeh-widgets-1.3.4.min.js\", \"https://cdn.pydata.org/bokeh/release/bokeh-tables-1.3.4.min.js\", \"https://cdn.pydata.org/bokeh/release/bokeh-gl-1.3.4.min.js\"];\n  var css_urls = [];\n\n  var inline_js = [\n    function(Bokeh) {\n      Bokeh.set_log_level(\"info\");\n    },\n    \n    function(Bokeh) {\n      \n    },\n    function(Bokeh) {} // ensure no trailing comma for IE\n  ];\n\n  function run_inline_js() {\n    \n    if ((root.Bokeh !== undefined) || (force === true)) {\n      for (var i = 0; i < inline_js.length; i++) {\n        inline_js[i].call(root, root.Bokeh);\n      }if (force === true) {\n        display_loaded();\n      }} else if (Date.now() < root._bokeh_timeout) {\n      setTimeout(run_inline_js, 100);\n    } else if (!root._bokeh_failed_load) {\n      console.log(\"Bokeh: BokehJS failed to load within specified timeout.\");\n      root._bokeh_failed_load = true;\n    } else if (force !== true) {\n      var cell = $(document.getElementById(\"1001\")).parents('.cell').data().cell;\n      cell.output_area.append_execute_result(NB_LOAD_WARNING)\n    }\n\n  }\n\n  if (root._bokeh_is_loading === 0) {\n    console.debug(\"Bokeh: BokehJS loaded, going straight to plotting\");\n    run_inline_js();\n  } else {\n    load_libs(css_urls, js_urls, function() {\n      console.debug(\"Bokeh: BokehJS plotting callback run at\", now());\n      run_inline_js();\n    });\n  }\n}(window));"
     },
     "metadata": {},
     "output_type": "display_data"
    }
   ],
   "source": [
    "\n",
    "import pandas as pd\n",
    "import numpy as np\n",
    "import seaborn as sns\n",
    "from sklearn import datasets\n",
    "from sklearn.decomposition import PCA\n",
    "from sklearn.preprocessing import StandardScaler\n",
    "import matplotlib.pyplot as plt\n",
    "from matplotlib.colors import cnames\n",
    "from itertools import cycle\n",
    "from bokeh.plotting import output_notebook, output_file, figure, show, ColumnDataSource\n",
    "from bokeh.models import HoverTool\n",
    "import warnings\n",
    "warnings.filterwarnings(action='ignore')\n",
    "output_notebook()\n",
    "%matplotlib inline"
   ]
  },
  {
   "cell_type": "code",
   "execution_count": 57,
   "metadata": {},
   "outputs": [],
   "source": [
    "def get_float_list(range_max:int, div:int=100) -> list:\n",
    "    \"\"\" To get 0 -> 1, range_max must be same order of mag as div \"\"\"\n",
    "    return [float(x)/div for x in range(int(range_max))]\n",
    "\n",
    "\n",
    "def get_colorcycle(colordict:dict):\n",
    "    \"\"\" Subset cnames with a string match and get a color cycle for plotting \"\"\"\n",
    "    return cycle(list(colordict.keys()))\n",
    "\n",
    "\n",
    "def get_colordict(filter_:str='dark') -> dict:\n",
    "    \"\"\" return dictionary of colornames by filter \"\"\"\n",
    "    return dict((k, v) for k, v in cnames.items() if filter_ in k)\n",
    "\n",
    "\n",
    "def pca_report_interactive(X, scale_X:bool=True, save_plot:bool=False):\n",
    "    \"\"\"\n",
    "    X:          input data matrix\n",
    "    scale_X:    determine whether to rescale X (StandardScaler) [default: True, X is not prescaled\n",
    "    save_plot:  save plot to file (html) and not show\n",
    "    \"\"\"\n",
    "\n",
    "    # calculate mean and var\n",
    "    X_mean, X_var = X.mean(), X.var()\n",
    "    print('\\n*--- PCA Report ---*\\n')\n",
    "    print(f'X mean:\\t\\t{X_mean:.3f}\\nX variance:\\t{X_var:.3f}')\n",
    "\n",
    "    if scale_X:\n",
    "        # rescale and run PCA\n",
    "        print(\"\\n...Rescaling data...\\n\")\n",
    "        scaler = StandardScaler()\n",
    "        X_scaled = scaler.fit_transform(X)\n",
    "        X_s_mean, X_s_var = X_scaled.mean(), X_scaled.var()\n",
    "        print(f'X_scaled mean:\\t\\t{np.round(X_s_mean):.3f}')\n",
    "        print(f'X_scaled variance:\\t{np.round(X_s_var):.3f}\\n')\n",
    "        pca_ = PCA().fit(X_scaled)\n",
    "        X_pca = PCA().fit_transform(X)\n",
    "    else:\n",
    "        # run PCA directly\n",
    "        print(\"...Assuming data is properly scaled...\")\n",
    "        pca_ = PCA().fit(X)\n",
    "        X_pca = PCA().fit_transform(X)\n",
    "            \n",
    "    # Get cumulative explained variance for each dimension\n",
    "    pca_evr = pca_.explained_variance_ratio_\n",
    "    cumsum_ = np.cumsum(pca_evr)\n",
    "    \n",
    "    # Get dimensions where var >= 95% and values for variance at 2D, 3D\n",
    "    dim_95 = np.argmax(cumsum_ >= 0.95) + 1\n",
    "    twoD = np.round(cumsum_[1], decimals=3)*100 \n",
    "    threeD = np.round(cumsum_[2], decimals=3)*100\n",
    "    instances_, dims_ =  X.shape\n",
    "    \n",
    "    # check shape of X\n",
    "    if dims_ > instances_:\n",
    "        print(\"WARNING: number of features greater than number of instances.\")\n",
    "        dimensions = list(range(1, instances_+1))\n",
    "    else:\n",
    "        dimensions = list(range(1, dims_+1))\n",
    "    \n",
    "    # Print report\n",
    "    print(\"\\n -- Summary --\")\n",
    "    print(f\"You can reduce from {dims_} to {dim_95} dimensions while retaining 95% of variance.\")\n",
    "    print(f\"2 principal components explain {twoD:.2f}% of variance.\")\n",
    "    print(f\"3 principal components explain {threeD:.2f}% of variance.\")\n",
    "    \n",
    "    \"\"\" - Plotting - \"\"\"\n",
    "    # Create custom HoverTool -- we'll name each ROC curve 'ROC' so we only see info on hover there\n",
    "    hover_ = HoverTool(names=['PCA'], tooltips=[(\"dimensions\", \"@x_dim\"), \n",
    "                                                (\"cumulative variance\", \"@y_cumvar\"),\n",
    "                                                (\"explained variance\", \"@y_var\")])\n",
    "    p_tools = [hover_, 'crosshair', 'zoom_in', 'zoom_out', 'save', 'reset', 'tap', 'box_zoom']\n",
    "\n",
    "    # insert 0 at beginning for cleaner plotting\n",
    "    cumsum_plot = np.insert(cumsum_, 0, 0) \n",
    "    pca_evr_plot = np.insert(pca_evr, 0, 0)\n",
    "    dimensions_plot = np.insert(dimensions, 0, 0)\n",
    "\n",
    "    \"\"\"\n",
    "    ColumnDataSource\n",
    "    - a special type in Bokeh that allows you to store data for plotting\n",
    "    - store data as dict (key:list)\n",
    "    - to plot two keys against one another, make sure they're the same length!\n",
    "    - below:\n",
    "        x_dim    # of dimensions (length = # of dimensions)\n",
    "        y_cumvar # cumulative variance (length = # of dimensions)\n",
    "        var_95   # y = 0.95 (length = # of dimensions)\n",
    "        zero_one # list of 0 to 1\n",
    "        twoD     # x = 2 \n",
    "        threeD   # x = 3 \n",
    "    \"\"\" \n",
    "    \n",
    "    # get sources\n",
    "    source_PCA = ColumnDataSource(data=dict(x_dim = dimensions_plot,y_cumvar = cumsum_plot, y_var = pca_evr_plot))    \n",
    "    source_var95 = ColumnDataSource(data=dict(var95_x = [dim_95]*96, var95_y = get_float_list(96)))\n",
    "    source_twoD = ColumnDataSource(data=dict(twoD_x = [2]*(int(twoD)+1), twoD_y = get_float_list(twoD+1)))\n",
    "    source_threeD = ColumnDataSource(data=dict(threeD_x = [3]*(int(threeD)+1), threeD_y = get_float_list(threeD+1)))\n",
    "\n",
    "    \"\"\" PLOT \"\"\"\n",
    "    # set up figure and add axis labels\n",
    "    p = figure(title='PCA Analysis', tools=p_tools)\n",
    "    p.xaxis.axis_label = f'N of {dims_} Principal Components' \n",
    "    p.yaxis.axis_label = 'Variance Explained (per PC & Cumulative)'\n",
    "    \n",
    "    # add reference lines: y=0.95, x=2, x=3\n",
    "    p.line('twoD_x', 'twoD_y', line_width=0.5, line_dash='dotted', color='#435363', source=source_twoD) # x=2\n",
    "    p.line('threeD_x', 'threeD_y', line_width=0.5, line_dash='dotted', color='#435363', source=source_threeD) # x=3\n",
    "    p.line('var95_x', 'var95_y', line_width=2, line_dash='dotted', color='#435363', source=source_var95) # var = 0.95\n",
    "\n",
    "    # add bar plot for variance per dimension\n",
    "    p.vbar(x='x_dim', top='y_var', width=.5, bottom=0, color='#D9F2EF', source=source_PCA, name='PCA')\n",
    "    \n",
    "    # add cumulative variance (scatter + line)\n",
    "    p.line('x_dim', 'y_cumvar', line_width=1, color='#F79737', source=source_PCA)\n",
    "    p.circle('x_dim', 'y_cumvar', size=7, color='#FF4C00', source=source_PCA, name='PCA')\n",
    "\n",
    "    # change gridlines\n",
    "    p.ygrid.grid_line_alpha = 0.25\n",
    "    p.xgrid.grid_line_alpha = 0.25\n",
    "\n",
    "    # change axis bounds and grid\n",
    "    p.xaxis.bounds = (0, dims_)\n",
    "    p.yaxis.bounds = (0, 1)\n",
    "    p.grid.bounds = (0, dims_)\n",
    "\n",
    "    # save and show p\n",
    "    if save_plot:\n",
    "        output_file('PCA_analysis.html')\n",
    "    show(p)\n",
    "        \n",
    "    # output PCA info as a dataframe\n",
    "    df_PCA = pd.DataFrame({'dimension': dimensions, 'variance_cumulative': cumsum_, 'variance': pca_evr}).set_index(['dimension'])\n",
    "        \n",
    "    return df_PCA, X_pca, pca_evr\n",
    "\n",
    "\n",
    "def pca_feature_correlation(X, X_pca, explained_var, features:list=None, fig_dpi:int=150, save_plot:bool=False):\n",
    "    \"\"\"\n",
    "    1. Get dot product of X and X_pca\n",
    "    2. Run normalizations of X*X_pca\n",
    "    3. Retrieve df/matrices\n",
    "\n",
    "    X:               data (numpy matrix)\n",
    "    X_pca:           PCA\n",
    "    explained_var:   explained variance matrix\n",
    "    features:        list of feature names\n",
    "    fig_dpi:         dpi to use for heatmaps\n",
    "    save_plot:       save plot to file (html) and not show\n",
    "    \"\"\"\n",
    "    \n",
    "    # Add zeroes for data where features > instances\n",
    "    outer_diff = X.T.shape[0] - X_pca.shape[1]\n",
    "    if outer_diff > 0: # outer dims must match to get sq matrix\n",
    "        Z = np.zeros([X_pca.shape[0], outer_diff])\n",
    "        X_pca = np.c_[X_pca, Z]\n",
    "        explained_var = np.append(explained_var, np.zeros(outer_diff))\n",
    "    \n",
    "    # Get correlation between original features (X) and PCs (X_pca)\n",
    "    dot_matrix = np.dot(X.T, X_pca)\n",
    "    print(f\"X*X_pca: {X.T.shape} * {X_pca.shape} = {dot_matrix.shape}\")\n",
    "    \n",
    "    # Correlation matrix -> df\n",
    "    df_dotproduct = pd.DataFrame(dot_matrix)\n",
    "    df_dotproduct.columns = [''.join(['PC', f'{i+1}']) for i in range(dot_matrix.shape[0])]\n",
    "    if any(features): df_dotproduct.index = features    \n",
    "    \n",
    "    # Normalize & Sort\n",
    "    df_n, df_na, df_nabv = normalize_dataframe(df_dotproduct, explained_var, plot_opt=True, save_plot=save_plot)\n",
    "    \n",
    "    return df_dotproduct, df_n, df_na, df_nabv\n",
    "\n",
    "\n",
    "def normalize_dataframe(df, explained_var=None, fig_dpi:int=150, plot_opt:bool=True, save_plot:bool=False):\n",
    "    \"\"\"\n",
    "    1. Get z-normalized df (normalized to µ=0, σ=1)\n",
    "    2. Get absolute value of z-normalized df\n",
    "    3. If explained_variance matrix provided, dot it w/ (2)\n",
    "    \"\"\"\n",
    "    # Normalize, Reindex, & Sort\n",
    "    df_norm = (df.copy()-df.mean())/df.std()\n",
    "    df_norm = df_norm.sort_values(list(df_norm.columns), ascending=False)\n",
    "    \n",
    "    # Absolute value of normalized (& sort)\n",
    "    df_abs = df_norm.copy().abs().set_index(df_norm.index)\n",
    "    df_abs = df_abs.sort_values(by=list(df_abs.columns), ascending=False)\n",
    "    \n",
    "    # Plot\n",
    "    if plot_opt:\n",
    "        # Z-normalized corr matrix\n",
    "        plt.figure(dpi=fig_dpi)\n",
    "        ax_normal = sns.heatmap(df_norm, cmap=\"RdBu\")\n",
    "        ax_normal.set_title(\"Z-Normalized Data\")\n",
    "        if save_plot:\n",
    "            plt.savefig('Z_normalized_corr_matrix.png')\n",
    "        else:\n",
    "            plt.show()\n",
    "\n",
    "        # |Z-normalized corr matrix|  \n",
    "        plt.figure(dpi=fig_dpi)\n",
    "        ax_abs = sns.heatmap(df_abs, cmap=\"Purples\")\n",
    "        ax_abs.set_title(\"|Z-Normalized|\")\n",
    "        if save_plot:\n",
    "            plt.savefig('Z_normalized_corr_matrix_Abs.png')\n",
    "        else:\n",
    "            plt.show()\n",
    "        \n",
    "    # Re-normalize by explained var (& sort)\n",
    "    if explained_var.any():\n",
    "        df_byvar = df_abs.copy()*explained_var\n",
    "        df_byvar = df_byvar.sort_values(by=list(df_norm.columns), ascending=False)\n",
    "        if plot_opt:\n",
    "            plt.figure(dpi=fig_dpi)\n",
    "            ax_relative = sns.heatmap(df_byvar, cmap=\"Purples\")\n",
    "            ax_relative.set_title(\"|Z-Normalized|*Explained_Variance\")\n",
    "            if save_plot:\n",
    "                plt.savefig('Normalized_corr_matrix.png')\n",
    "            else:\n",
    "                plt.show()\n",
    "    else:\n",
    "        df_byvar = None\n",
    "    return df_norm, df_abs, df_byvar\n",
    "\n",
    "\n",
    "def pca_rank_features(df_nabv, verbose:bool=True):\n",
    "    \"\"\"\n",
    "    Given a dataframe df_nabv with dimensions [f, p], where:\n",
    "        f = features (sorted)\n",
    "        p = principal components\n",
    "        df_nabv.values are |Z-normalized X|*pca_.explained_variance_ratio_\n",
    "        \n",
    "    1. Create column of sum of each row, sort by it 'score_'\n",
    "    3. Set index as 'rank'\n",
    "    \"\"\"\n",
    "    df_rank = df_nabv.copy().assign(score_ = df_nabv.sum(axis=1)).sort_values('score_', ascending=False)\n",
    "    df_rank['feature_'] = df_rank.index\n",
    "    df_rank.index = range(1, len(df_rank)+1)\n",
    "    df_rank.drop(df_nabv.columns, axis=1, inplace=True)\n",
    "    df_rank.index.rename('rank', inplace=True)\n",
    "    if verbose: print(df_rank)\n",
    "    return df_rank\n",
    "\n",
    "\n",
    "def pca_full_report(X, features_:list=None, fig_dpi:int=150, save_plot:bool=False):\n",
    "    \"\"\"\n",
    "    Run complete PCA workflow:\n",
    "        1. pca_report_interactive()\n",
    "        2. pca_feature_correlation()\n",
    "        3. pca_rank_features()\n",
    "        \n",
    "    X:            data (numpy array)\n",
    "    features_:    list of feature names\n",
    "    fig_dpi:      image resolution\n",
    "    \n",
    "    \"\"\"\n",
    "    # Retrieve the interactive report\n",
    "    df_pca, X_pca, pca_evr = pca_report_interactive(X, save_plot=save_plot)\n",
    "    # Get feature-PC correlation matrices\n",
    "    df_corr, df_n, df_na, df_nabv = pca_feature_correlation(X, X_pca, pca_evr, features_, fig_dpi, save_plot) \n",
    "    # Get rank for each feature\n",
    "    df_rank = pca_rank_features(df_nabv)\n",
    "    return (df_pca, X_pca, pca_evr, df_corr, df_n, df_na, df_nabv, df_rank)"
   ]
  },
  {
   "cell_type": "code",
   "execution_count": 58,
   "metadata": {},
   "outputs": [
    {
     "name": "stdout",
     "output_type": "stream",
     "text": [
      "\n",
      "*--- PCA Report ---*\n",
      "\n",
      "X mean:\t\t0.120\n",
      "X variance:\t0.083\n",
      "\n",
      "...Rescaling data...\n",
      "\n",
      "X_scaled mean:\t\t0.000\n",
      "X_scaled variance:\t1.000\n",
      "\n",
      "\n",
      " -- Summary --\n",
      "You can reduce from 33 to 20 dimensions while retaining 95% of variance.\n",
      "2 principal components explain 23.40% of variance.\n",
      "3 principal components explain 28.40% of variance.\n"
     ]
    },
    {
     "data": {
      "text/html": [
       "\n",
       "\n",
       "\n",
       "\n",
       "\n",
       "\n",
       "  <div class=\"bk-root\" id=\"b32a6f9c-f028-4616-a943-c2bb27f61b70\" data-root-id=\"1007\"></div>\n"
      ]
     },
     "metadata": {},
     "output_type": "display_data"
    },
    {
     "data": {
      "application/javascript": [
       "(function(root) {\n",
       "  function embed_document(root) {\n",
       "    \n",
       "  var docs_json = {\"fcee315e-5bec-4da9-ad35-da64dd513530\":{\"roots\":{\"references\":[{\"attributes\":{\"below\":[{\"id\":\"1018\",\"type\":\"LinearAxis\"}],\"center\":[{\"id\":\"1022\",\"type\":\"Grid\"},{\"id\":\"1027\",\"type\":\"Grid\"}],\"left\":[{\"id\":\"1023\",\"type\":\"LinearAxis\"}],\"renderers\":[{\"id\":\"1047\",\"type\":\"GlyphRenderer\"},{\"id\":\"1052\",\"type\":\"GlyphRenderer\"},{\"id\":\"1057\",\"type\":\"GlyphRenderer\"},{\"id\":\"1062\",\"type\":\"GlyphRenderer\"},{\"id\":\"1067\",\"type\":\"GlyphRenderer\"},{\"id\":\"1072\",\"type\":\"GlyphRenderer\"}],\"title\":{\"id\":\"1008\",\"type\":\"Title\"},\"toolbar\":{\"id\":\"1035\",\"type\":\"Toolbar\"},\"x_range\":{\"id\":\"1010\",\"type\":\"DataRange1d\"},\"x_scale\":{\"id\":\"1014\",\"type\":\"LinearScale\"},\"y_range\":{\"id\":\"1012\",\"type\":\"DataRange1d\"},\"y_scale\":{\"id\":\"1016\",\"type\":\"LinearScale\"}},\"id\":\"1007\",\"subtype\":\"Figure\",\"type\":\"Plot\"},{\"attributes\":{\"text\":\"PCA Analysis\"},\"id\":\"1008\",\"type\":\"Title\"},{\"attributes\":{\"line_color\":\"#435363\",\"line_dash\":[2,4],\"line_width\":0.5,\"x\":{\"field\":\"twoD_x\"},\"y\":{\"field\":\"twoD_y\"}},\"id\":\"1045\",\"type\":\"Line\"},{\"attributes\":{\"active_drag\":\"auto\",\"active_inspect\":\"auto\",\"active_multi\":null,\"active_scroll\":\"auto\",\"active_tap\":\"auto\",\"tools\":[{\"id\":\"1002\",\"type\":\"HoverTool\"},{\"id\":\"1028\",\"type\":\"CrosshairTool\"},{\"id\":\"1029\",\"type\":\"ZoomInTool\"},{\"id\":\"1030\",\"type\":\"ZoomOutTool\"},{\"id\":\"1031\",\"type\":\"SaveTool\"},{\"id\":\"1032\",\"type\":\"ResetTool\"},{\"id\":\"1033\",\"type\":\"TapTool\"},{\"id\":\"1034\",\"type\":\"BoxZoomTool\"}]},\"id\":\"1035\",\"type\":\"Toolbar\"},{\"attributes\":{},\"id\":\"1016\",\"type\":\"LinearScale\"},{\"attributes\":{\"axis_label\":\"N of 33 Principal Components\",\"bounds\":[0,33],\"formatter\":{\"id\":\"1077\",\"type\":\"BasicTickFormatter\"},\"ticker\":{\"id\":\"1019\",\"type\":\"BasicTicker\"}},\"id\":\"1018\",\"type\":\"LinearAxis\"},{\"attributes\":{\"callback\":null},\"id\":\"1033\",\"type\":\"TapTool\"},{\"attributes\":{\"overlay\":{\"id\":\"1079\",\"type\":\"BoxAnnotation\"}},\"id\":\"1034\",\"type\":\"BoxZoomTool\"},{\"attributes\":{\"callback\":null},\"id\":\"1012\",\"type\":\"DataRange1d\"},{\"attributes\":{\"data_source\":{\"id\":\"1003\",\"type\":\"ColumnDataSource\"},\"glyph\":{\"id\":\"1065\",\"type\":\"Line\"},\"hover_glyph\":null,\"muted_glyph\":null,\"nonselection_glyph\":{\"id\":\"1066\",\"type\":\"Line\"},\"selection_glyph\":null,\"view\":{\"id\":\"1068\",\"type\":\"CDSView\"}},\"id\":\"1067\",\"type\":\"GlyphRenderer\"},{\"attributes\":{\"data_source\":{\"id\":\"1003\",\"type\":\"ColumnDataSource\"},\"glyph\":{\"id\":\"1060\",\"type\":\"VBar\"},\"hover_glyph\":null,\"muted_glyph\":null,\"name\":\"PCA\",\"nonselection_glyph\":{\"id\":\"1061\",\"type\":\"VBar\"},\"selection_glyph\":null,\"view\":{\"id\":\"1063\",\"type\":\"CDSView\"}},\"id\":\"1062\",\"type\":\"GlyphRenderer\"},{\"attributes\":{\"callback\":null,\"data\":{\"threeD_x\":[3,3,3,3,3,3,3,3,3,3,3,3,3,3,3,3,3,3,3,3,3,3,3,3,3,3,3,3,3],\"threeD_y\":[0.0,0.01,0.02,0.03,0.04,0.05,0.06,0.07,0.08,0.09,0.1,0.11,0.12,0.13,0.14,0.15,0.16,0.17,0.18,0.19,0.2,0.21,0.22,0.23,0.24,0.25,0.26,0.27,0.28]},\"selected\":{\"id\":\"1083\",\"type\":\"Selection\"},\"selection_policy\":{\"id\":\"1082\",\"type\":\"UnionRenderers\"}},\"id\":\"1006\",\"type\":\"ColumnDataSource\"},{\"attributes\":{\"line_color\":\"#435363\",\"line_dash\":[2,4],\"line_width\":2,\"x\":{\"field\":\"var95_x\"},\"y\":{\"field\":\"var95_y\"}},\"id\":\"1055\",\"type\":\"Line\"},{\"attributes\":{\"source\":{\"id\":\"1003\",\"type\":\"ColumnDataSource\"}},\"id\":\"1063\",\"type\":\"CDSView\"},{\"attributes\":{},\"id\":\"1084\",\"type\":\"UnionRenderers\"},{\"attributes\":{\"callback\":null,\"data\":{\"twoD_x\":[2,2,2,2,2,2,2,2,2,2,2,2,2,2,2,2,2,2,2,2,2,2,2,2],\"twoD_y\":[0.0,0.01,0.02,0.03,0.04,0.05,0.06,0.07,0.08,0.09,0.1,0.11,0.12,0.13,0.14,0.15,0.16,0.17,0.18,0.19,0.2,0.21,0.22,0.23]},\"selected\":{\"id\":\"1081\",\"type\":\"Selection\"},\"selection_policy\":{\"id\":\"1080\",\"type\":\"UnionRenderers\"}},\"id\":\"1005\",\"type\":\"ColumnDataSource\"},{\"attributes\":{\"source\":{\"id\":\"1004\",\"type\":\"ColumnDataSource\"}},\"id\":\"1058\",\"type\":\"CDSView\"},{\"attributes\":{},\"id\":\"1087\",\"type\":\"Selection\"},{\"attributes\":{\"fill_color\":{\"value\":\"#D9F2EF\"},\"line_color\":{\"value\":\"#D9F2EF\"},\"top\":{\"field\":\"y_var\"},\"width\":{\"value\":0.5},\"x\":{\"field\":\"x_dim\"}},\"id\":\"1060\",\"type\":\"VBar\"},{\"attributes\":{\"line_alpha\":0.1,\"line_color\":\"#1f77b4\",\"x\":{\"field\":\"x_dim\"},\"y\":{\"field\":\"y_cumvar\"}},\"id\":\"1066\",\"type\":\"Line\"},{\"attributes\":{},\"id\":\"1032\",\"type\":\"ResetTool\"},{\"attributes\":{\"line_alpha\":0.1,\"line_color\":\"#1f77b4\",\"line_dash\":[2,4],\"line_width\":0.5,\"x\":{\"field\":\"threeD_x\"},\"y\":{\"field\":\"threeD_y\"}},\"id\":\"1051\",\"type\":\"Line\"},{\"attributes\":{\"line_color\":\"#F79737\",\"x\":{\"field\":\"x_dim\"},\"y\":{\"field\":\"y_cumvar\"}},\"id\":\"1065\",\"type\":\"Line\"},{\"attributes\":{\"source\":{\"id\":\"1003\",\"type\":\"ColumnDataSource\"}},\"id\":\"1068\",\"type\":\"CDSView\"},{\"attributes\":{},\"id\":\"1083\",\"type\":\"Selection\"},{\"attributes\":{\"line_alpha\":0.1,\"line_color\":\"#1f77b4\",\"line_dash\":[2,4],\"line_width\":2,\"x\":{\"field\":\"var95_x\"},\"y\":{\"field\":\"var95_y\"}},\"id\":\"1056\",\"type\":\"Line\"},{\"attributes\":{\"data_source\":{\"id\":\"1006\",\"type\":\"ColumnDataSource\"},\"glyph\":{\"id\":\"1050\",\"type\":\"Line\"},\"hover_glyph\":null,\"muted_glyph\":null,\"nonselection_glyph\":{\"id\":\"1051\",\"type\":\"Line\"},\"selection_glyph\":null,\"view\":{\"id\":\"1053\",\"type\":\"CDSView\"}},\"id\":\"1052\",\"type\":\"GlyphRenderer\"},{\"attributes\":{},\"id\":\"1031\",\"type\":\"SaveTool\"},{\"attributes\":{\"fill_color\":{\"value\":\"#FF4C00\"},\"line_color\":{\"value\":\"#FF4C00\"},\"size\":{\"units\":\"screen\",\"value\":7},\"x\":{\"field\":\"x_dim\"},\"y\":{\"field\":\"y_cumvar\"}},\"id\":\"1070\",\"type\":\"Circle\"},{\"attributes\":{},\"id\":\"1085\",\"type\":\"Selection\"},{\"attributes\":{},\"id\":\"1029\",\"type\":\"ZoomInTool\"},{\"attributes\":{\"data_source\":{\"id\":\"1004\",\"type\":\"ColumnDataSource\"},\"glyph\":{\"id\":\"1055\",\"type\":\"Line\"},\"hover_glyph\":null,\"muted_glyph\":null,\"nonselection_glyph\":{\"id\":\"1056\",\"type\":\"Line\"},\"selection_glyph\":null,\"view\":{\"id\":\"1058\",\"type\":\"CDSView\"}},\"id\":\"1057\",\"type\":\"GlyphRenderer\"},{\"attributes\":{\"fill_alpha\":{\"value\":0.1},\"fill_color\":{\"value\":\"#1f77b4\"},\"line_alpha\":{\"value\":0.1},\"line_color\":{\"value\":\"#1f77b4\"},\"size\":{\"units\":\"screen\",\"value\":7},\"x\":{\"field\":\"x_dim\"},\"y\":{\"field\":\"y_cumvar\"}},\"id\":\"1071\",\"type\":\"Circle\"},{\"attributes\":{\"source\":{\"id\":\"1006\",\"type\":\"ColumnDataSource\"}},\"id\":\"1053\",\"type\":\"CDSView\"},{\"attributes\":{\"source\":{\"id\":\"1005\",\"type\":\"ColumnDataSource\"}},\"id\":\"1048\",\"type\":\"CDSView\"},{\"attributes\":{\"line_color\":\"#435363\",\"line_dash\":[2,4],\"line_width\":0.5,\"x\":{\"field\":\"threeD_x\"},\"y\":{\"field\":\"threeD_y\"}},\"id\":\"1050\",\"type\":\"Line\"},{\"attributes\":{},\"id\":\"1082\",\"type\":\"UnionRenderers\"},{\"attributes\":{\"callback\":null,\"data\":{\"var95_x\":[20,20,20,20,20,20,20,20,20,20,20,20,20,20,20,20,20,20,20,20,20,20,20,20,20,20,20,20,20,20,20,20,20,20,20,20,20,20,20,20,20,20,20,20,20,20,20,20,20,20,20,20,20,20,20,20,20,20,20,20,20,20,20,20,20,20,20,20,20,20,20,20,20,20,20,20,20,20,20,20,20,20,20,20,20,20,20,20,20,20,20,20,20,20,20,20],\"var95_y\":[0.0,0.01,0.02,0.03,0.04,0.05,0.06,0.07,0.08,0.09,0.1,0.11,0.12,0.13,0.14,0.15,0.16,0.17,0.18,0.19,0.2,0.21,0.22,0.23,0.24,0.25,0.26,0.27,0.28,0.29,0.3,0.31,0.32,0.33,0.34,0.35,0.36,0.37,0.38,0.39,0.4,0.41,0.42,0.43,0.44,0.45,0.46,0.47,0.48,0.49,0.5,0.51,0.52,0.53,0.54,0.55,0.56,0.57,0.58,0.59,0.6,0.61,0.62,0.63,0.64,0.65,0.66,0.67,0.68,0.69,0.7,0.71,0.72,0.73,0.74,0.75,0.76,0.77,0.78,0.79,0.8,0.81,0.82,0.83,0.84,0.85,0.86,0.87,0.88,0.89,0.9,0.91,0.92,0.93,0.94,0.95]},\"selected\":{\"id\":\"1085\",\"type\":\"Selection\"},\"selection_policy\":{\"id\":\"1084\",\"type\":\"UnionRenderers\"}},\"id\":\"1004\",\"type\":\"ColumnDataSource\"},{\"attributes\":{\"bounds\":[0,33],\"dimension\":1,\"grid_line_alpha\":0.25,\"ticker\":{\"id\":\"1024\",\"type\":\"BasicTicker\"}},\"id\":\"1027\",\"type\":\"Grid\"},{\"attributes\":{\"bottom_units\":\"screen\",\"fill_alpha\":{\"value\":0.5},\"fill_color\":{\"value\":\"lightgrey\"},\"left_units\":\"screen\",\"level\":\"overlay\",\"line_alpha\":{\"value\":1.0},\"line_color\":{\"value\":\"black\"},\"line_dash\":[4,4],\"line_width\":{\"value\":2},\"render_mode\":\"css\",\"right_units\":\"screen\",\"top_units\":\"screen\"},\"id\":\"1079\",\"type\":\"BoxAnnotation\"},{\"attributes\":{\"data_source\":{\"id\":\"1003\",\"type\":\"ColumnDataSource\"},\"glyph\":{\"id\":\"1070\",\"type\":\"Circle\"},\"hover_glyph\":null,\"muted_glyph\":null,\"name\":\"PCA\",\"nonselection_glyph\":{\"id\":\"1071\",\"type\":\"Circle\"},\"selection_glyph\":null,\"view\":{\"id\":\"1073\",\"type\":\"CDSView\"}},\"id\":\"1072\",\"type\":\"GlyphRenderer\"},{\"attributes\":{},\"id\":\"1019\",\"type\":\"BasicTicker\"},{\"attributes\":{\"axis_label\":\"Variance Explained (per PC & Cumulative)\",\"bounds\":[0,1],\"formatter\":{\"id\":\"1075\",\"type\":\"BasicTickFormatter\"},\"ticker\":{\"id\":\"1024\",\"type\":\"BasicTicker\"}},\"id\":\"1023\",\"type\":\"LinearAxis\"},{\"attributes\":{},\"id\":\"1081\",\"type\":\"Selection\"},{\"attributes\":{},\"id\":\"1075\",\"type\":\"BasicTickFormatter\"},{\"attributes\":{\"callback\":null,\"names\":[\"PCA\"],\"tooltips\":[[\"dimensions\",\"@x_dim\"],[\"cumulative variance\",\"@y_cumvar\"],[\"explained variance\",\"@y_var\"]]},\"id\":\"1002\",\"type\":\"HoverTool\"},{\"attributes\":{},\"id\":\"1028\",\"type\":\"CrosshairTool\"},{\"attributes\":{\"data_source\":{\"id\":\"1005\",\"type\":\"ColumnDataSource\"},\"glyph\":{\"id\":\"1045\",\"type\":\"Line\"},\"hover_glyph\":null,\"muted_glyph\":null,\"nonselection_glyph\":{\"id\":\"1046\",\"type\":\"Line\"},\"selection_glyph\":null,\"view\":{\"id\":\"1048\",\"type\":\"CDSView\"}},\"id\":\"1047\",\"type\":\"GlyphRenderer\"},{\"attributes\":{},\"id\":\"1030\",\"type\":\"ZoomOutTool\"},{\"attributes\":{},\"id\":\"1077\",\"type\":\"BasicTickFormatter\"},{\"attributes\":{},\"id\":\"1024\",\"type\":\"BasicTicker\"},{\"attributes\":{},\"id\":\"1080\",\"type\":\"UnionRenderers\"},{\"attributes\":{},\"id\":\"1014\",\"type\":\"LinearScale\"},{\"attributes\":{\"fill_alpha\":{\"value\":0.1},\"fill_color\":{\"value\":\"#1f77b4\"},\"line_alpha\":{\"value\":0.1},\"line_color\":{\"value\":\"#1f77b4\"},\"top\":{\"field\":\"y_var\"},\"width\":{\"value\":0.5},\"x\":{\"field\":\"x_dim\"}},\"id\":\"1061\",\"type\":\"VBar\"},{\"attributes\":{},\"id\":\"1086\",\"type\":\"UnionRenderers\"},{\"attributes\":{\"callback\":null},\"id\":\"1010\",\"type\":\"DataRange1d\"},{\"attributes\":{\"callback\":null,\"data\":{\"x_dim\":{\"__ndarray__\":\"AAAAAAEAAAACAAAAAwAAAAQAAAAFAAAABgAAAAcAAAAIAAAACQAAAAoAAAALAAAADAAAAA0AAAAOAAAADwAAABAAAAARAAAAEgAAABMAAAAUAAAAFQAAABYAAAAXAAAAGAAAABkAAAAaAAAAGwAAABwAAAAdAAAAHgAAAB8AAAAgAAAAIQAAAA==\",\"dtype\":\"int32\",\"shape\":[34]},\"y_cumvar\":{\"__ndarray__\":\"AAAAAAAAAAC1HNMf5d/GP6tcmKWsAM4/l07mYlol0j9b7DSw5SnVP8Wf8NWlH9g/19zIJY0C2z973yf4+9PdP31rtMadTeA/QbEnuyqn4T9yaactDf7iP363Lk2QUeQ/oABlvySk5T9+s/1pi/XmPweGvcPnQ+g/h+OtQ2eN6T/v+0NkzNTqPzBrO4AzD+w/0AhRwnNC7T8OV7hA1ljuP+PNPh9/Q+8/bf0pOZnR7z+I3w765v7vPwEAAAAAAPA/AQAAAAAA8D8BAAAAAADwPwEAAAAAAPA/AQAAAAAA8D8BAAAAAADwPwEAAAAAAPA/AQAAAAAA8D8BAAAAAADwPwEAAAAAAPA/AQAAAAAA8D8=\",\"dtype\":\"float64\",\"shape\":[34]},\"y_var\":{\"__ndarray__\":\"AAAAAAAAAAC1HNMf5d/GP9j/FBceg6w/CgLRgCAoqT8i7nRqWiSoP1Cb3S0Brqc/k+jBfjoXpz8eFfiSdoumP/G7B6r8OaY/QFw0R8+YpT8Sg/snJ26lP8TgdPgxOKU/IJJkI0cppT/eLYupahalP40o/ZvF5aQ/AtgF//eXpD9/hmEJUnakPwv0dr9xpqM//dlZIQQ0oz/Y43TmJ2ahP5zaztAbVZ0/T/FlPUPDkT9SDXFy4KZ2PyuiBxJfkCE/tRzTH+XfZjnTiiKRWag5OTUfN3D+Iy45PMa8wQewFzk8xrzBB7AXOTzGvMEHsBc5PMa8wQewFzk8xrzBB7AXOTzGvMEHsBc5chtFPhqkFjk=\",\"dtype\":\"float64\",\"shape\":[34]}},\"selected\":{\"id\":\"1087\",\"type\":\"Selection\"},\"selection_policy\":{\"id\":\"1086\",\"type\":\"UnionRenderers\"}},\"id\":\"1003\",\"type\":\"ColumnDataSource\"},{\"attributes\":{\"source\":{\"id\":\"1003\",\"type\":\"ColumnDataSource\"}},\"id\":\"1073\",\"type\":\"CDSView\"},{\"attributes\":{\"bounds\":[0,33],\"grid_line_alpha\":0.25,\"ticker\":{\"id\":\"1019\",\"type\":\"BasicTicker\"}},\"id\":\"1022\",\"type\":\"Grid\"},{\"attributes\":{\"line_alpha\":0.1,\"line_color\":\"#1f77b4\",\"line_dash\":[2,4],\"line_width\":0.5,\"x\":{\"field\":\"twoD_x\"},\"y\":{\"field\":\"twoD_y\"}},\"id\":\"1046\",\"type\":\"Line\"}],\"root_ids\":[\"1007\"]},\"title\":\"Bokeh Application\",\"version\":\"1.3.4\"}};\n",
       "  var render_items = [{\"docid\":\"fcee315e-5bec-4da9-ad35-da64dd513530\",\"roots\":{\"1007\":\"b32a6f9c-f028-4616-a943-c2bb27f61b70\"}}];\n",
       "  root.Bokeh.embed.embed_items_notebook(docs_json, render_items);\n",
       "\n",
       "  }\n",
       "  if (root.Bokeh !== undefined) {\n",
       "    embed_document(root);\n",
       "  } else {\n",
       "    var attempts = 0;\n",
       "    var timer = setInterval(function(root) {\n",
       "      if (root.Bokeh !== undefined) {\n",
       "        embed_document(root);\n",
       "        clearInterval(timer);\n",
       "      }\n",
       "      attempts++;\n",
       "      if (attempts > 100) {\n",
       "        console.log(\"Bokeh: ERROR: Unable to run BokehJS code because BokehJS library is missing\");\n",
       "        clearInterval(timer);\n",
       "      }\n",
       "    }, 10, root)\n",
       "  }\n",
       "})(window);"
      ],
      "application/vnd.bokehjs_exec.v0+json": ""
     },
     "metadata": {
      "application/vnd.bokehjs_exec.v0+json": {
       "id": "1007"
      }
     },
     "output_type": "display_data"
    },
    {
     "name": "stdout",
     "output_type": "stream",
     "text": [
      "X*X_pca: (33, 3306) * (3306, 33) = (33, 33)\n"
     ]
    },
    {
     "data": {
      "image/png": "[encoded data removed]",
      "text/plain": [
       "<Figure size 900x600 with 2 Axes>"
      ]
     },
     "metadata": {
      "needs_background": "light"
     },
     "output_type": "display_data"
    },
    {
     "data": {
      "image/png": "[encoded data removed]",
      "text/plain": [
       "<Figure size 900x600 with 2 Axes>"
      ]
     },
     "metadata": {
      "needs_background": "light"
     },
     "output_type": "display_data"
    },
    {
     "data": {
      "image/png": "[encoded data removed]",
      "text/plain": [
       "<Figure size 900x600 with 2 Axes>"
      ]
     },
     "metadata": {
      "needs_background": "light"
     },
     "output_type": "display_data"
    },
    {
     "name": "stdout",
     "output_type": "stream",
     "text": [
      "        score_               feature_\n",
      "rank                                 \n",
      "1     0.853714     Market cap_Billion\n",
      "2     0.748783             Company_ID\n",
      "3     0.748783                   Rank\n",
      "4     0.737673       Media_Int Search\n",
      "5     0.737036              Employees\n",
      "6     0.661593       Media_Mobile Web\n",
      "7     0.632025       Media_Natl Newsp\n",
      "8     0.627287           Media_B-to-B\n",
      "9     0.623707        Revenue_Billion\n",
      "10    0.606729         Media_Cable TV\n",
      "11    0.605702      Media_Int Display\n",
      "12    0.603081                Founded\n",
      "13    0.601197     Media_Online Video\n",
      "14    0.542011        Media_Magazines\n",
      "15    0.528427           Media_SLN TV\n",
      "16    0.493800    Media_Network Radio\n",
      "17    0.491081      Media_Syndication\n",
      "18    0.487461       Media_Network TV\n",
      "19    0.420448          Media_Outdoor\n",
      "20    0.420308                  BRAND\n",
      "21    0.412714                   Year\n",
      "22    0.397847                  Month\n",
      "23    0.266437      Media_Sunday Mags\n",
      "24    0.255563  Media_Natl Spot Radio\n",
      "25    0.105803    Media_Hispanic Mags\n",
      "26    0.073797    Audience Population\n",
      "27    0.073797                IsTop31\n",
      "28    0.073797   Media_Hispanic Newsp\n",
      "29    0.073797       Media_Local Mags\n",
      "30    0.073797      Media_Local Radio\n",
      "31    0.073797       Media_Newspapers\n",
      "32    0.073797          Media_Spot TV\n",
      "33    0.073797       Media_Mobile App\n"
     ]
    }
   ],
   "source": [
    "data = pca_dataset\n",
    "outputs = pca_full_report(X=scaled, features_=scaled_features.columns)"
   ]
  },
  {
   "cell_type": "code",
   "execution_count": null,
   "metadata": {},
   "outputs": [],
   "source": []
  },
  {
   "cell_type": "code",
   "execution_count": null,
   "metadata": {},
   "outputs": [],
   "source": []
  },
  {
   "cell_type": "code",
   "execution_count": null,
   "metadata": {},
   "outputs": [],
   "source": []
  }
 ],
 "metadata": {
  "kernelspec": {
   "display_name": "Python 3",
   "language": "python",
   "name": "python3"
  },
  "language_info": {
   "codemirror_mode": {
    "name": "ipython",
    "version": 3
   },
   "file_extension": ".py",
   "mimetype": "text/x-python",
   "name": "python",
   "nbconvert_exporter": "python",
   "pygments_lexer": "ipython3",
   "version": "3.7.4"
  }
 },
 "nbformat": 4,
 "nbformat_minor": 2
}
